{
 "cells": [
  {
   "cell_type": "markdown",
   "id": "16a60c6a",
   "metadata": {},
   "source": [
    "# Machine Learning with SVM "
   ]
  },
  {
   "cell_type": "markdown",
   "id": "40f41f7b",
   "metadata": {},
   "source": [
    "### Problem Statement \n",
    "Predict if a customer subscribes to a term deposits or not, when contacted by a marketing agent using SVM"
   ]
  },
  {
   "cell_type": "code",
   "execution_count": 3,
   "id": "a24741bf",
   "metadata": {},
   "outputs": [],
   "source": [
    "# install libraries \n",
    "import pandas as pd \n",
    "import numpy as np \n",
    "import matplotlib.pyplot as plt \n",
    "import seaborn as sns\n",
    "import warnings\n",
    "warnings.filterwarnings(\"ignore\")\n",
    "from sklearn import preprocessing, svm \n",
    "from sklearn.model_selection import train_test_split, GridSearchCV\n",
    "from sklearn.metrics import classification_report"
   ]
  },
  {
   "cell_type": "markdown",
   "id": "0f0079c2",
   "metadata": {},
   "source": [
    "### Read the file "
   ]
  },
  {
   "cell_type": "code",
   "execution_count": 4,
   "id": "cbe1b228",
   "metadata": {},
   "outputs": [],
   "source": [
    "# Read the dataset fro local drive\n",
    "deposit = pd.read_csv(r\"D:\\new Data science class\\project\\7. svm\\Predicting Term Deposit Subscription by a client\\Dataset\\bank-additional-full.csv\", delimiter= ';')"
   ]
  },
  {
   "cell_type": "code",
   "execution_count": 5,
   "id": "e3a8c496",
   "metadata": {
    "scrolled": true
   },
   "outputs": [
    {
     "data": {
      "text/html": [
       "<div>\n",
       "<style scoped>\n",
       "    .dataframe tbody tr th:only-of-type {\n",
       "        vertical-align: middle;\n",
       "    }\n",
       "\n",
       "    .dataframe tbody tr th {\n",
       "        vertical-align: top;\n",
       "    }\n",
       "\n",
       "    .dataframe thead th {\n",
       "        text-align: right;\n",
       "    }\n",
       "</style>\n",
       "<table border=\"1\" class=\"dataframe\">\n",
       "  <thead>\n",
       "    <tr style=\"text-align: right;\">\n",
       "      <th></th>\n",
       "      <th>age</th>\n",
       "      <th>job</th>\n",
       "      <th>marital</th>\n",
       "      <th>education</th>\n",
       "      <th>default</th>\n",
       "      <th>housing</th>\n",
       "      <th>loan</th>\n",
       "      <th>contact</th>\n",
       "      <th>month</th>\n",
       "      <th>day_of_week</th>\n",
       "      <th>...</th>\n",
       "      <th>campaign</th>\n",
       "      <th>pdays</th>\n",
       "      <th>previous</th>\n",
       "      <th>poutcome</th>\n",
       "      <th>emp.var.rate</th>\n",
       "      <th>cons.price.idx</th>\n",
       "      <th>cons.conf.idx</th>\n",
       "      <th>euribor3m</th>\n",
       "      <th>nr.employed</th>\n",
       "      <th>y</th>\n",
       "    </tr>\n",
       "  </thead>\n",
       "  <tbody>\n",
       "    <tr>\n",
       "      <th>0</th>\n",
       "      <td>56</td>\n",
       "      <td>housemaid</td>\n",
       "      <td>married</td>\n",
       "      <td>basic.4y</td>\n",
       "      <td>no</td>\n",
       "      <td>no</td>\n",
       "      <td>no</td>\n",
       "      <td>telephone</td>\n",
       "      <td>may</td>\n",
       "      <td>mon</td>\n",
       "      <td>...</td>\n",
       "      <td>1</td>\n",
       "      <td>999</td>\n",
       "      <td>0</td>\n",
       "      <td>nonexistent</td>\n",
       "      <td>1.1</td>\n",
       "      <td>93.994</td>\n",
       "      <td>-36.4</td>\n",
       "      <td>4.857</td>\n",
       "      <td>5191.0</td>\n",
       "      <td>no</td>\n",
       "    </tr>\n",
       "    <tr>\n",
       "      <th>1</th>\n",
       "      <td>57</td>\n",
       "      <td>services</td>\n",
       "      <td>married</td>\n",
       "      <td>high.school</td>\n",
       "      <td>unknown</td>\n",
       "      <td>no</td>\n",
       "      <td>no</td>\n",
       "      <td>telephone</td>\n",
       "      <td>may</td>\n",
       "      <td>mon</td>\n",
       "      <td>...</td>\n",
       "      <td>1</td>\n",
       "      <td>999</td>\n",
       "      <td>0</td>\n",
       "      <td>nonexistent</td>\n",
       "      <td>1.1</td>\n",
       "      <td>93.994</td>\n",
       "      <td>-36.4</td>\n",
       "      <td>4.857</td>\n",
       "      <td>5191.0</td>\n",
       "      <td>no</td>\n",
       "    </tr>\n",
       "    <tr>\n",
       "      <th>2</th>\n",
       "      <td>37</td>\n",
       "      <td>services</td>\n",
       "      <td>married</td>\n",
       "      <td>high.school</td>\n",
       "      <td>no</td>\n",
       "      <td>yes</td>\n",
       "      <td>no</td>\n",
       "      <td>telephone</td>\n",
       "      <td>may</td>\n",
       "      <td>mon</td>\n",
       "      <td>...</td>\n",
       "      <td>1</td>\n",
       "      <td>999</td>\n",
       "      <td>0</td>\n",
       "      <td>nonexistent</td>\n",
       "      <td>1.1</td>\n",
       "      <td>93.994</td>\n",
       "      <td>-36.4</td>\n",
       "      <td>4.857</td>\n",
       "      <td>5191.0</td>\n",
       "      <td>no</td>\n",
       "    </tr>\n",
       "    <tr>\n",
       "      <th>3</th>\n",
       "      <td>40</td>\n",
       "      <td>admin.</td>\n",
       "      <td>married</td>\n",
       "      <td>basic.6y</td>\n",
       "      <td>no</td>\n",
       "      <td>no</td>\n",
       "      <td>no</td>\n",
       "      <td>telephone</td>\n",
       "      <td>may</td>\n",
       "      <td>mon</td>\n",
       "      <td>...</td>\n",
       "      <td>1</td>\n",
       "      <td>999</td>\n",
       "      <td>0</td>\n",
       "      <td>nonexistent</td>\n",
       "      <td>1.1</td>\n",
       "      <td>93.994</td>\n",
       "      <td>-36.4</td>\n",
       "      <td>4.857</td>\n",
       "      <td>5191.0</td>\n",
       "      <td>no</td>\n",
       "    </tr>\n",
       "    <tr>\n",
       "      <th>4</th>\n",
       "      <td>56</td>\n",
       "      <td>services</td>\n",
       "      <td>married</td>\n",
       "      <td>high.school</td>\n",
       "      <td>no</td>\n",
       "      <td>no</td>\n",
       "      <td>yes</td>\n",
       "      <td>telephone</td>\n",
       "      <td>may</td>\n",
       "      <td>mon</td>\n",
       "      <td>...</td>\n",
       "      <td>1</td>\n",
       "      <td>999</td>\n",
       "      <td>0</td>\n",
       "      <td>nonexistent</td>\n",
       "      <td>1.1</td>\n",
       "      <td>93.994</td>\n",
       "      <td>-36.4</td>\n",
       "      <td>4.857</td>\n",
       "      <td>5191.0</td>\n",
       "      <td>no</td>\n",
       "    </tr>\n",
       "  </tbody>\n",
       "</table>\n",
       "<p>5 rows × 21 columns</p>\n",
       "</div>"
      ],
      "text/plain": [
       "   age        job  marital    education  default housing loan    contact  \\\n",
       "0   56  housemaid  married     basic.4y       no      no   no  telephone   \n",
       "1   57   services  married  high.school  unknown      no   no  telephone   \n",
       "2   37   services  married  high.school       no     yes   no  telephone   \n",
       "3   40     admin.  married     basic.6y       no      no   no  telephone   \n",
       "4   56   services  married  high.school       no      no  yes  telephone   \n",
       "\n",
       "  month day_of_week  ...  campaign  pdays  previous     poutcome emp.var.rate  \\\n",
       "0   may         mon  ...         1    999         0  nonexistent          1.1   \n",
       "1   may         mon  ...         1    999         0  nonexistent          1.1   \n",
       "2   may         mon  ...         1    999         0  nonexistent          1.1   \n",
       "3   may         mon  ...         1    999         0  nonexistent          1.1   \n",
       "4   may         mon  ...         1    999         0  nonexistent          1.1   \n",
       "\n",
       "   cons.price.idx  cons.conf.idx  euribor3m  nr.employed   y  \n",
       "0          93.994          -36.4      4.857       5191.0  no  \n",
       "1          93.994          -36.4      4.857       5191.0  no  \n",
       "2          93.994          -36.4      4.857       5191.0  no  \n",
       "3          93.994          -36.4      4.857       5191.0  no  \n",
       "4          93.994          -36.4      4.857       5191.0  no  \n",
       "\n",
       "[5 rows x 21 columns]"
      ]
     },
     "execution_count": 5,
     "metadata": {},
     "output_type": "execute_result"
    }
   ],
   "source": [
    "# Primary data inspection \n",
    "deposit.head()"
   ]
  },
  {
   "cell_type": "markdown",
   "id": "af944912",
   "metadata": {},
   "source": [
    "### Data Fields \n",
    "* age -- Age of the client\n",
    "* job -- Type of job (categorical: 'admin.','blue-collar', 'entrepreneur', 'housemaid', 'management', 'retired','self-employed', 'services', 'student', 'technician', 'unemployed', 'unknown')\n",
    "* marital -- Marital status (categorical: 'divorced','married','single','unknown'; note: 'divorced' means divorced or widowed)\n",
    "* education -- (categorical: 'basic.4y', 'basic.6y' ,'basic.9y', 'high.school', 'illiterate', 'professional.course', 'university.degree','unknown')\n",
    "* default -- has credit in default? (categorical: 'no','yes','unknown')\n",
    "* housing -- has a housing loan? (categorical: 'no','yes','unknown')\n",
    "* loan -- has a personal loan? (categorical: 'no','yes','unknown')\n",
    "* contact -- contact communication type (categorical: 'cellular','telephone')\n",
    "* month -- last contact month of year (categorical: 'jan', 'feb', 'mar', ..., 'nov', 'dec')\n",
    "* day_of_week -- last contact day of the week (categorical: 'mon','tue','wed','thu','fri')\n",
    "* duration -- last contact duration, in seconds\n",
    "* campaign -- number of contacts performed during this campaign and for this client (numeric, includes last contact)\n",
    "* pdays -- number of days that passed by after the client was last contacted from a previous campaign (numeric; 999 means client was not previously contacted)\n",
    "* previous -- number of contacts performed before this campaign and for this client\n",
    "* poutcome -- outcome of the previous marketing campaign (categorical: 'failure','nonexistent','success')\n",
    "* emp.var.rate -- employment variation rate - quarterly indicator (numeric) cons.price.idx consumer price index - monthly indicator cons.conf.idx consumer confidence index - monthly indicator\n",
    "* euribor3m -- euribor 3 month rate - daily indicator nr.employed number of employees - quarterly indicator \n",
    "* y(target variable)-- has the client subscribed a term deposit? (binary: 'yes','no')"
   ]
  },
  {
   "cell_type": "markdown",
   "id": "0078c3b2",
   "metadata": {},
   "source": [
    "### EDA"
   ]
  },
  {
   "cell_type": "code",
   "execution_count": 6,
   "id": "5c36a1e1",
   "metadata": {},
   "outputs": [
    {
     "data": {
      "text/plain": [
       "(41188, 21)"
      ]
     },
     "execution_count": 6,
     "metadata": {},
     "output_type": "execute_result"
    }
   ],
   "source": [
    "# Check the no of rows and no of columns in dataset \n",
    "deposit.shape"
   ]
  },
  {
   "cell_type": "markdown",
   "id": "eafcb2f6",
   "metadata": {},
   "source": [
    "* This dataset contains 41,188 records \n",
    "* There are 21 fields in this dataset "
   ]
  },
  {
   "cell_type": "code",
   "execution_count": 7,
   "id": "1d446f78",
   "metadata": {},
   "outputs": [
    {
     "data": {
      "text/plain": [
       "Index(['age', 'job', 'marital', 'education', 'default', 'housing', 'loan',\n",
       "       'contact', 'month', 'day_of_week', 'duration', 'campaign', 'pdays',\n",
       "       'previous', 'poutcome', 'emp.var.rate', 'cons.price.idx',\n",
       "       'cons.conf.idx', 'euribor3m', 'nr.employed', 'y'],\n",
       "      dtype='object')"
      ]
     },
     "execution_count": 7,
     "metadata": {},
     "output_type": "execute_result"
    }
   ],
   "source": [
    "# Check all the columns in the dataset \n",
    "deposit.columns"
   ]
  },
  {
   "cell_type": "code",
   "execution_count": 8,
   "id": "00625f3a",
   "metadata": {},
   "outputs": [
    {
     "name": "stdout",
     "output_type": "stream",
     "text": [
      "<class 'pandas.core.frame.DataFrame'>\n",
      "RangeIndex: 41188 entries, 0 to 41187\n",
      "Data columns (total 21 columns):\n",
      " #   Column          Non-Null Count  Dtype  \n",
      "---  ------          --------------  -----  \n",
      " 0   age             41188 non-null  int64  \n",
      " 1   job             41188 non-null  object \n",
      " 2   marital         41188 non-null  object \n",
      " 3   education       41188 non-null  object \n",
      " 4   default         41188 non-null  object \n",
      " 5   housing         41188 non-null  object \n",
      " 6   loan            41188 non-null  object \n",
      " 7   contact         41188 non-null  object \n",
      " 8   month           41188 non-null  object \n",
      " 9   day_of_week     41188 non-null  object \n",
      " 10  duration        41188 non-null  int64  \n",
      " 11  campaign        41188 non-null  int64  \n",
      " 12  pdays           41188 non-null  int64  \n",
      " 13  previous        41188 non-null  int64  \n",
      " 14  poutcome        41188 non-null  object \n",
      " 15  emp.var.rate    41188 non-null  float64\n",
      " 16  cons.price.idx  41188 non-null  float64\n",
      " 17  cons.conf.idx   41188 non-null  float64\n",
      " 18  euribor3m       41188 non-null  float64\n",
      " 19  nr.employed     41188 non-null  float64\n",
      " 20  y               41188 non-null  object \n",
      "dtypes: float64(5), int64(5), object(11)\n",
      "memory usage: 6.6+ MB\n"
     ]
    }
   ],
   "source": [
    "# Primary analysis \n",
    "deposit.info()"
   ]
  },
  {
   "cell_type": "markdown",
   "id": "14894ffc",
   "metadata": {},
   "source": [
    "* There are no nulls in the dataset \n",
    "* This dataset contains combination of object and numeric datatypes"
   ]
  },
  {
   "cell_type": "code",
   "execution_count": 9,
   "id": "3761ea30",
   "metadata": {},
   "outputs": [
    {
     "data": {
      "text/plain": [
       "no     36548\n",
       "yes     4640\n",
       "Name: y, dtype: int64"
      ]
     },
     "execution_count": 9,
     "metadata": {},
     "output_type": "execute_result"
    }
   ],
   "source": [
    "# check distribution of y variable\n",
    "deposit.y.value_counts()"
   ]
  },
  {
   "cell_type": "markdown",
   "id": "f2db5e74",
   "metadata": {},
   "source": [
    "* The y variable is form of yes and no, we need to convert it to 0 and 1 "
   ]
  },
  {
   "cell_type": "code",
   "execution_count": 10,
   "id": "38dff958",
   "metadata": {},
   "outputs": [],
   "source": [
    "# change yes to 0 and no to 1 in y variable \n",
    "deposit[\"y\"]= deposit[\"y\"].replace({'no':1,'yes':0})"
   ]
  },
  {
   "cell_type": "code",
   "execution_count": 11,
   "id": "3c44e6c9",
   "metadata": {},
   "outputs": [
    {
     "data": {
      "text/plain": [
       "1    36548\n",
       "0     4640\n",
       "Name: y, dtype: int64"
      ]
     },
     "execution_count": 11,
     "metadata": {},
     "output_type": "execute_result"
    }
   ],
   "source": [
    "deposit.y.value_counts()"
   ]
  },
  {
   "cell_type": "markdown",
   "id": "e9c3e802",
   "metadata": {},
   "source": [
    "* The y variable is not equally distributed "
   ]
  },
  {
   "cell_type": "markdown",
   "id": "c6267ea6",
   "metadata": {},
   "source": [
    "### Pre- processing of data "
   ]
  },
  {
   "cell_type": "code",
   "execution_count": 12,
   "id": "1dde661e",
   "metadata": {},
   "outputs": [],
   "source": [
    "# split into numeric and factoral columns \n",
    "\n",
    "nc = deposit.select_dtypes(exclude = 'object').columns\n",
    "fc = deposit.select_dtypes(include = 'object').columns"
   ]
  },
  {
   "cell_type": "code",
   "execution_count": 13,
   "id": "2296b6a4",
   "metadata": {},
   "outputs": [
    {
     "data": {
      "text/plain": [
       "(Index(['age', 'duration', 'campaign', 'pdays', 'previous', 'emp.var.rate',\n",
       "        'cons.price.idx', 'cons.conf.idx', 'euribor3m', 'nr.employed', 'y'],\n",
       "       dtype='object'),\n",
       " Index(['job', 'marital', 'education', 'default', 'housing', 'loan', 'contact',\n",
       "        'month', 'day_of_week', 'poutcome'],\n",
       "       dtype='object'))"
      ]
     },
     "execution_count": 13,
     "metadata": {},
     "output_type": "execute_result"
    }
   ],
   "source": [
    "nc, fc"
   ]
  },
  {
   "cell_type": "code",
   "execution_count": 14,
   "id": "db3c0f3f",
   "metadata": {},
   "outputs": [
    {
     "name": "stdout",
     "output_type": "stream",
     "text": [
      "The no of unique values in age are 78\n",
      "The no of unique values in duration are 1544\n",
      "The no of unique values in campaign are 42\n",
      "The no of unique values in pdays are 27\n",
      "The no of unique values in previous are 8\n",
      "The no of unique values in emp.var.rate are 10\n",
      "The no of unique values in cons.price.idx are 26\n",
      "The no of unique values in cons.conf.idx are 26\n",
      "The no of unique values in euribor3m are 316\n",
      "The no of unique values in nr.employed are 11\n",
      "The no of unique values in y are 2\n"
     ]
    }
   ],
   "source": [
    "# check unique values in all columns \n",
    "\n",
    "for col in nc:\n",
    "    n= len(deposit[col].unique());\n",
    "    print(\"The no of unique values in {} are {}\".format(col,n))"
   ]
  },
  {
   "cell_type": "markdown",
   "id": "7be56ac7",
   "metadata": {},
   "source": [
    "#### Convert Factoral columns into dummy variables "
   ]
  },
  {
   "cell_type": "code",
   "execution_count": 15,
   "id": "1921f0e0",
   "metadata": {},
   "outputs": [],
   "source": [
    "# convert factoral columns into dummy variables \n",
    "deposit_new = deposit.copy()\n",
    "for col in fc:\n",
    "    dummy = pd.get_dummies(deposit_new[col], drop_first= True, prefix = col)\n",
    "    deposit_new = deposit_new.join(dummy)"
   ]
  },
  {
   "cell_type": "code",
   "execution_count": 17,
   "id": "33990f11",
   "metadata": {},
   "outputs": [
    {
     "data": {
      "text/html": [
       "<div>\n",
       "<style scoped>\n",
       "    .dataframe tbody tr th:only-of-type {\n",
       "        vertical-align: middle;\n",
       "    }\n",
       "\n",
       "    .dataframe tbody tr th {\n",
       "        vertical-align: top;\n",
       "    }\n",
       "\n",
       "    .dataframe thead th {\n",
       "        text-align: right;\n",
       "    }\n",
       "</style>\n",
       "<table border=\"1\" class=\"dataframe\">\n",
       "  <thead>\n",
       "    <tr style=\"text-align: right;\">\n",
       "      <th></th>\n",
       "      <th>age</th>\n",
       "      <th>job</th>\n",
       "      <th>marital</th>\n",
       "      <th>education</th>\n",
       "      <th>default</th>\n",
       "      <th>housing</th>\n",
       "      <th>loan</th>\n",
       "      <th>contact</th>\n",
       "      <th>month</th>\n",
       "      <th>day_of_week</th>\n",
       "      <th>...</th>\n",
       "      <th>month_may</th>\n",
       "      <th>month_nov</th>\n",
       "      <th>month_oct</th>\n",
       "      <th>month_sep</th>\n",
       "      <th>day_of_week_mon</th>\n",
       "      <th>day_of_week_thu</th>\n",
       "      <th>day_of_week_tue</th>\n",
       "      <th>day_of_week_wed</th>\n",
       "      <th>poutcome_nonexistent</th>\n",
       "      <th>poutcome_success</th>\n",
       "    </tr>\n",
       "  </thead>\n",
       "  <tbody>\n",
       "    <tr>\n",
       "      <th>0</th>\n",
       "      <td>56</td>\n",
       "      <td>housemaid</td>\n",
       "      <td>married</td>\n",
       "      <td>basic.4y</td>\n",
       "      <td>no</td>\n",
       "      <td>no</td>\n",
       "      <td>no</td>\n",
       "      <td>telephone</td>\n",
       "      <td>may</td>\n",
       "      <td>mon</td>\n",
       "      <td>...</td>\n",
       "      <td>1</td>\n",
       "      <td>0</td>\n",
       "      <td>0</td>\n",
       "      <td>0</td>\n",
       "      <td>1</td>\n",
       "      <td>0</td>\n",
       "      <td>0</td>\n",
       "      <td>0</td>\n",
       "      <td>1</td>\n",
       "      <td>0</td>\n",
       "    </tr>\n",
       "    <tr>\n",
       "      <th>1</th>\n",
       "      <td>57</td>\n",
       "      <td>services</td>\n",
       "      <td>married</td>\n",
       "      <td>high.school</td>\n",
       "      <td>unknown</td>\n",
       "      <td>no</td>\n",
       "      <td>no</td>\n",
       "      <td>telephone</td>\n",
       "      <td>may</td>\n",
       "      <td>mon</td>\n",
       "      <td>...</td>\n",
       "      <td>1</td>\n",
       "      <td>0</td>\n",
       "      <td>0</td>\n",
       "      <td>0</td>\n",
       "      <td>1</td>\n",
       "      <td>0</td>\n",
       "      <td>0</td>\n",
       "      <td>0</td>\n",
       "      <td>1</td>\n",
       "      <td>0</td>\n",
       "    </tr>\n",
       "    <tr>\n",
       "      <th>2</th>\n",
       "      <td>37</td>\n",
       "      <td>services</td>\n",
       "      <td>married</td>\n",
       "      <td>high.school</td>\n",
       "      <td>no</td>\n",
       "      <td>yes</td>\n",
       "      <td>no</td>\n",
       "      <td>telephone</td>\n",
       "      <td>may</td>\n",
       "      <td>mon</td>\n",
       "      <td>...</td>\n",
       "      <td>1</td>\n",
       "      <td>0</td>\n",
       "      <td>0</td>\n",
       "      <td>0</td>\n",
       "      <td>1</td>\n",
       "      <td>0</td>\n",
       "      <td>0</td>\n",
       "      <td>0</td>\n",
       "      <td>1</td>\n",
       "      <td>0</td>\n",
       "    </tr>\n",
       "    <tr>\n",
       "      <th>3</th>\n",
       "      <td>40</td>\n",
       "      <td>admin.</td>\n",
       "      <td>married</td>\n",
       "      <td>basic.6y</td>\n",
       "      <td>no</td>\n",
       "      <td>no</td>\n",
       "      <td>no</td>\n",
       "      <td>telephone</td>\n",
       "      <td>may</td>\n",
       "      <td>mon</td>\n",
       "      <td>...</td>\n",
       "      <td>1</td>\n",
       "      <td>0</td>\n",
       "      <td>0</td>\n",
       "      <td>0</td>\n",
       "      <td>1</td>\n",
       "      <td>0</td>\n",
       "      <td>0</td>\n",
       "      <td>0</td>\n",
       "      <td>1</td>\n",
       "      <td>0</td>\n",
       "    </tr>\n",
       "    <tr>\n",
       "      <th>4</th>\n",
       "      <td>56</td>\n",
       "      <td>services</td>\n",
       "      <td>married</td>\n",
       "      <td>high.school</td>\n",
       "      <td>no</td>\n",
       "      <td>no</td>\n",
       "      <td>yes</td>\n",
       "      <td>telephone</td>\n",
       "      <td>may</td>\n",
       "      <td>mon</td>\n",
       "      <td>...</td>\n",
       "      <td>1</td>\n",
       "      <td>0</td>\n",
       "      <td>0</td>\n",
       "      <td>0</td>\n",
       "      <td>1</td>\n",
       "      <td>0</td>\n",
       "      <td>0</td>\n",
       "      <td>0</td>\n",
       "      <td>1</td>\n",
       "      <td>0</td>\n",
       "    </tr>\n",
       "  </tbody>\n",
       "</table>\n",
       "<p>5 rows × 64 columns</p>\n",
       "</div>"
      ],
      "text/plain": [
       "   age        job  marital    education  default housing loan    contact  \\\n",
       "0   56  housemaid  married     basic.4y       no      no   no  telephone   \n",
       "1   57   services  married  high.school  unknown      no   no  telephone   \n",
       "2   37   services  married  high.school       no     yes   no  telephone   \n",
       "3   40     admin.  married     basic.6y       no      no   no  telephone   \n",
       "4   56   services  married  high.school       no      no  yes  telephone   \n",
       "\n",
       "  month day_of_week  ...  month_may  month_nov  month_oct  month_sep  \\\n",
       "0   may         mon  ...          1          0          0          0   \n",
       "1   may         mon  ...          1          0          0          0   \n",
       "2   may         mon  ...          1          0          0          0   \n",
       "3   may         mon  ...          1          0          0          0   \n",
       "4   may         mon  ...          1          0          0          0   \n",
       "\n",
       "  day_of_week_mon  day_of_week_thu  day_of_week_tue  day_of_week_wed  \\\n",
       "0               1                0                0                0   \n",
       "1               1                0                0                0   \n",
       "2               1                0                0                0   \n",
       "3               1                0                0                0   \n",
       "4               1                0                0                0   \n",
       "\n",
       "   poutcome_nonexistent  poutcome_success  \n",
       "0                     1                 0  \n",
       "1                     1                 0  \n",
       "2                     1                 0  \n",
       "3                     1                 0  \n",
       "4                     1                 0  \n",
       "\n",
       "[5 rows x 64 columns]"
      ]
     },
     "execution_count": 17,
     "metadata": {},
     "output_type": "execute_result"
    }
   ],
   "source": [
    "deposit_new.head()"
   ]
  },
  {
   "cell_type": "code",
   "execution_count": 18,
   "id": "7d5a49e6",
   "metadata": {},
   "outputs": [],
   "source": [
    "# drop old factoral columns \n",
    "deposit_new.drop(columns = fc, inplace = True)"
   ]
  },
  {
   "cell_type": "markdown",
   "id": "56f02eed",
   "metadata": {},
   "source": [
    "#### Scaling the data "
   ]
  },
  {
   "cell_type": "code",
   "execution_count": 19,
   "id": "3cef34a6",
   "metadata": {},
   "outputs": [],
   "source": [
    "# Scaling the data using standardScaler\n",
    "nc = nc.drop(\"y\") # dropping y variable for standardisation "
   ]
  },
  {
   "cell_type": "code",
   "execution_count": 20,
   "id": "7284e14e",
   "metadata": {},
   "outputs": [],
   "source": [
    "ss= preprocessing.StandardScaler()\n",
    "deposit_new[nc] = ss.fit_transform(deposit_new[nc])"
   ]
  },
  {
   "cell_type": "code",
   "execution_count": 21,
   "id": "de89a64b",
   "metadata": {},
   "outputs": [
    {
     "data": {
      "text/html": [
       "<div>\n",
       "<style scoped>\n",
       "    .dataframe tbody tr th:only-of-type {\n",
       "        vertical-align: middle;\n",
       "    }\n",
       "\n",
       "    .dataframe tbody tr th {\n",
       "        vertical-align: top;\n",
       "    }\n",
       "\n",
       "    .dataframe thead th {\n",
       "        text-align: right;\n",
       "    }\n",
       "</style>\n",
       "<table border=\"1\" class=\"dataframe\">\n",
       "  <thead>\n",
       "    <tr style=\"text-align: right;\">\n",
       "      <th></th>\n",
       "      <th>age</th>\n",
       "      <th>duration</th>\n",
       "      <th>campaign</th>\n",
       "      <th>pdays</th>\n",
       "      <th>previous</th>\n",
       "      <th>emp.var.rate</th>\n",
       "      <th>cons.price.idx</th>\n",
       "      <th>cons.conf.idx</th>\n",
       "      <th>euribor3m</th>\n",
       "      <th>nr.employed</th>\n",
       "    </tr>\n",
       "  </thead>\n",
       "  <tbody>\n",
       "    <tr>\n",
       "      <th>0</th>\n",
       "      <td>1.533034</td>\n",
       "      <td>0.010471</td>\n",
       "      <td>-0.565922</td>\n",
       "      <td>0.195414</td>\n",
       "      <td>-0.349494</td>\n",
       "      <td>0.648092</td>\n",
       "      <td>0.722722</td>\n",
       "      <td>0.886447</td>\n",
       "      <td>0.712460</td>\n",
       "      <td>0.331680</td>\n",
       "    </tr>\n",
       "    <tr>\n",
       "      <th>1</th>\n",
       "      <td>1.628993</td>\n",
       "      <td>-0.421501</td>\n",
       "      <td>-0.565922</td>\n",
       "      <td>0.195414</td>\n",
       "      <td>-0.349494</td>\n",
       "      <td>0.648092</td>\n",
       "      <td>0.722722</td>\n",
       "      <td>0.886447</td>\n",
       "      <td>0.712460</td>\n",
       "      <td>0.331680</td>\n",
       "    </tr>\n",
       "    <tr>\n",
       "      <th>2</th>\n",
       "      <td>-0.290186</td>\n",
       "      <td>-0.124520</td>\n",
       "      <td>-0.565922</td>\n",
       "      <td>0.195414</td>\n",
       "      <td>-0.349494</td>\n",
       "      <td>0.648092</td>\n",
       "      <td>0.722722</td>\n",
       "      <td>0.886447</td>\n",
       "      <td>0.712460</td>\n",
       "      <td>0.331680</td>\n",
       "    </tr>\n",
       "    <tr>\n",
       "      <th>3</th>\n",
       "      <td>-0.002309</td>\n",
       "      <td>-0.413787</td>\n",
       "      <td>-0.565922</td>\n",
       "      <td>0.195414</td>\n",
       "      <td>-0.349494</td>\n",
       "      <td>0.648092</td>\n",
       "      <td>0.722722</td>\n",
       "      <td>0.886447</td>\n",
       "      <td>0.712460</td>\n",
       "      <td>0.331680</td>\n",
       "    </tr>\n",
       "    <tr>\n",
       "      <th>4</th>\n",
       "      <td>1.533034</td>\n",
       "      <td>0.187888</td>\n",
       "      <td>-0.565922</td>\n",
       "      <td>0.195414</td>\n",
       "      <td>-0.349494</td>\n",
       "      <td>0.648092</td>\n",
       "      <td>0.722722</td>\n",
       "      <td>0.886447</td>\n",
       "      <td>0.712460</td>\n",
       "      <td>0.331680</td>\n",
       "    </tr>\n",
       "    <tr>\n",
       "      <th>...</th>\n",
       "      <td>...</td>\n",
       "      <td>...</td>\n",
       "      <td>...</td>\n",
       "      <td>...</td>\n",
       "      <td>...</td>\n",
       "      <td>...</td>\n",
       "      <td>...</td>\n",
       "      <td>...</td>\n",
       "      <td>...</td>\n",
       "      <td>...</td>\n",
       "    </tr>\n",
       "    <tr>\n",
       "      <th>41183</th>\n",
       "      <td>3.164336</td>\n",
       "      <td>0.292025</td>\n",
       "      <td>-0.565922</td>\n",
       "      <td>0.195414</td>\n",
       "      <td>-0.349494</td>\n",
       "      <td>-0.752343</td>\n",
       "      <td>2.058168</td>\n",
       "      <td>-2.224953</td>\n",
       "      <td>-1.495186</td>\n",
       "      <td>-2.815697</td>\n",
       "    </tr>\n",
       "    <tr>\n",
       "      <th>41184</th>\n",
       "      <td>0.573445</td>\n",
       "      <td>0.481012</td>\n",
       "      <td>-0.565922</td>\n",
       "      <td>0.195414</td>\n",
       "      <td>-0.349494</td>\n",
       "      <td>-0.752343</td>\n",
       "      <td>2.058168</td>\n",
       "      <td>-2.224953</td>\n",
       "      <td>-1.495186</td>\n",
       "      <td>-2.815697</td>\n",
       "    </tr>\n",
       "    <tr>\n",
       "      <th>41185</th>\n",
       "      <td>1.533034</td>\n",
       "      <td>-0.267225</td>\n",
       "      <td>-0.204909</td>\n",
       "      <td>0.195414</td>\n",
       "      <td>-0.349494</td>\n",
       "      <td>-0.752343</td>\n",
       "      <td>2.058168</td>\n",
       "      <td>-2.224953</td>\n",
       "      <td>-1.495186</td>\n",
       "      <td>-2.815697</td>\n",
       "    </tr>\n",
       "    <tr>\n",
       "      <th>41186</th>\n",
       "      <td>0.381527</td>\n",
       "      <td>0.708569</td>\n",
       "      <td>-0.565922</td>\n",
       "      <td>0.195414</td>\n",
       "      <td>-0.349494</td>\n",
       "      <td>-0.752343</td>\n",
       "      <td>2.058168</td>\n",
       "      <td>-2.224953</td>\n",
       "      <td>-1.495186</td>\n",
       "      <td>-2.815697</td>\n",
       "    </tr>\n",
       "    <tr>\n",
       "      <th>41187</th>\n",
       "      <td>3.260295</td>\n",
       "      <td>-0.074380</td>\n",
       "      <td>0.156105</td>\n",
       "      <td>0.195414</td>\n",
       "      <td>1.671136</td>\n",
       "      <td>-0.752343</td>\n",
       "      <td>2.058168</td>\n",
       "      <td>-2.224953</td>\n",
       "      <td>-1.495186</td>\n",
       "      <td>-2.815697</td>\n",
       "    </tr>\n",
       "  </tbody>\n",
       "</table>\n",
       "<p>41188 rows × 10 columns</p>\n",
       "</div>"
      ],
      "text/plain": [
       "            age  duration  campaign     pdays  previous  emp.var.rate  \\\n",
       "0      1.533034  0.010471 -0.565922  0.195414 -0.349494      0.648092   \n",
       "1      1.628993 -0.421501 -0.565922  0.195414 -0.349494      0.648092   \n",
       "2     -0.290186 -0.124520 -0.565922  0.195414 -0.349494      0.648092   \n",
       "3     -0.002309 -0.413787 -0.565922  0.195414 -0.349494      0.648092   \n",
       "4      1.533034  0.187888 -0.565922  0.195414 -0.349494      0.648092   \n",
       "...         ...       ...       ...       ...       ...           ...   \n",
       "41183  3.164336  0.292025 -0.565922  0.195414 -0.349494     -0.752343   \n",
       "41184  0.573445  0.481012 -0.565922  0.195414 -0.349494     -0.752343   \n",
       "41185  1.533034 -0.267225 -0.204909  0.195414 -0.349494     -0.752343   \n",
       "41186  0.381527  0.708569 -0.565922  0.195414 -0.349494     -0.752343   \n",
       "41187  3.260295 -0.074380  0.156105  0.195414  1.671136     -0.752343   \n",
       "\n",
       "       cons.price.idx  cons.conf.idx  euribor3m  nr.employed  \n",
       "0            0.722722       0.886447   0.712460     0.331680  \n",
       "1            0.722722       0.886447   0.712460     0.331680  \n",
       "2            0.722722       0.886447   0.712460     0.331680  \n",
       "3            0.722722       0.886447   0.712460     0.331680  \n",
       "4            0.722722       0.886447   0.712460     0.331680  \n",
       "...               ...            ...        ...          ...  \n",
       "41183        2.058168      -2.224953  -1.495186    -2.815697  \n",
       "41184        2.058168      -2.224953  -1.495186    -2.815697  \n",
       "41185        2.058168      -2.224953  -1.495186    -2.815697  \n",
       "41186        2.058168      -2.224953  -1.495186    -2.815697  \n",
       "41187        2.058168      -2.224953  -1.495186    -2.815697  \n",
       "\n",
       "[41188 rows x 10 columns]"
      ]
     },
     "execution_count": 21,
     "metadata": {},
     "output_type": "execute_result"
    }
   ],
   "source": [
    "deposit_new[nc]"
   ]
  },
  {
   "cell_type": "code",
   "execution_count": 22,
   "id": "b09e164c",
   "metadata": {},
   "outputs": [
    {
     "data": {
      "text/html": [
       "<div>\n",
       "<style scoped>\n",
       "    .dataframe tbody tr th:only-of-type {\n",
       "        vertical-align: middle;\n",
       "    }\n",
       "\n",
       "    .dataframe tbody tr th {\n",
       "        vertical-align: top;\n",
       "    }\n",
       "\n",
       "    .dataframe thead th {\n",
       "        text-align: right;\n",
       "    }\n",
       "</style>\n",
       "<table border=\"1\" class=\"dataframe\">\n",
       "  <thead>\n",
       "    <tr style=\"text-align: right;\">\n",
       "      <th></th>\n",
       "      <th>age</th>\n",
       "      <th>duration</th>\n",
       "      <th>campaign</th>\n",
       "      <th>pdays</th>\n",
       "      <th>previous</th>\n",
       "      <th>emp.var.rate</th>\n",
       "      <th>cons.price.idx</th>\n",
       "      <th>cons.conf.idx</th>\n",
       "      <th>euribor3m</th>\n",
       "      <th>nr.employed</th>\n",
       "      <th>...</th>\n",
       "      <th>month_may</th>\n",
       "      <th>month_nov</th>\n",
       "      <th>month_oct</th>\n",
       "      <th>month_sep</th>\n",
       "      <th>day_of_week_mon</th>\n",
       "      <th>day_of_week_thu</th>\n",
       "      <th>day_of_week_tue</th>\n",
       "      <th>day_of_week_wed</th>\n",
       "      <th>poutcome_nonexistent</th>\n",
       "      <th>poutcome_success</th>\n",
       "    </tr>\n",
       "  </thead>\n",
       "  <tbody>\n",
       "    <tr>\n",
       "      <th>0</th>\n",
       "      <td>1.533034</td>\n",
       "      <td>0.010471</td>\n",
       "      <td>-0.565922</td>\n",
       "      <td>0.195414</td>\n",
       "      <td>-0.349494</td>\n",
       "      <td>0.648092</td>\n",
       "      <td>0.722722</td>\n",
       "      <td>0.886447</td>\n",
       "      <td>0.71246</td>\n",
       "      <td>0.33168</td>\n",
       "      <td>...</td>\n",
       "      <td>1</td>\n",
       "      <td>0</td>\n",
       "      <td>0</td>\n",
       "      <td>0</td>\n",
       "      <td>1</td>\n",
       "      <td>0</td>\n",
       "      <td>0</td>\n",
       "      <td>0</td>\n",
       "      <td>1</td>\n",
       "      <td>0</td>\n",
       "    </tr>\n",
       "    <tr>\n",
       "      <th>1</th>\n",
       "      <td>1.628993</td>\n",
       "      <td>-0.421501</td>\n",
       "      <td>-0.565922</td>\n",
       "      <td>0.195414</td>\n",
       "      <td>-0.349494</td>\n",
       "      <td>0.648092</td>\n",
       "      <td>0.722722</td>\n",
       "      <td>0.886447</td>\n",
       "      <td>0.71246</td>\n",
       "      <td>0.33168</td>\n",
       "      <td>...</td>\n",
       "      <td>1</td>\n",
       "      <td>0</td>\n",
       "      <td>0</td>\n",
       "      <td>0</td>\n",
       "      <td>1</td>\n",
       "      <td>0</td>\n",
       "      <td>0</td>\n",
       "      <td>0</td>\n",
       "      <td>1</td>\n",
       "      <td>0</td>\n",
       "    </tr>\n",
       "    <tr>\n",
       "      <th>2</th>\n",
       "      <td>-0.290186</td>\n",
       "      <td>-0.124520</td>\n",
       "      <td>-0.565922</td>\n",
       "      <td>0.195414</td>\n",
       "      <td>-0.349494</td>\n",
       "      <td>0.648092</td>\n",
       "      <td>0.722722</td>\n",
       "      <td>0.886447</td>\n",
       "      <td>0.71246</td>\n",
       "      <td>0.33168</td>\n",
       "      <td>...</td>\n",
       "      <td>1</td>\n",
       "      <td>0</td>\n",
       "      <td>0</td>\n",
       "      <td>0</td>\n",
       "      <td>1</td>\n",
       "      <td>0</td>\n",
       "      <td>0</td>\n",
       "      <td>0</td>\n",
       "      <td>1</td>\n",
       "      <td>0</td>\n",
       "    </tr>\n",
       "    <tr>\n",
       "      <th>3</th>\n",
       "      <td>-0.002309</td>\n",
       "      <td>-0.413787</td>\n",
       "      <td>-0.565922</td>\n",
       "      <td>0.195414</td>\n",
       "      <td>-0.349494</td>\n",
       "      <td>0.648092</td>\n",
       "      <td>0.722722</td>\n",
       "      <td>0.886447</td>\n",
       "      <td>0.71246</td>\n",
       "      <td>0.33168</td>\n",
       "      <td>...</td>\n",
       "      <td>1</td>\n",
       "      <td>0</td>\n",
       "      <td>0</td>\n",
       "      <td>0</td>\n",
       "      <td>1</td>\n",
       "      <td>0</td>\n",
       "      <td>0</td>\n",
       "      <td>0</td>\n",
       "      <td>1</td>\n",
       "      <td>0</td>\n",
       "    </tr>\n",
       "    <tr>\n",
       "      <th>4</th>\n",
       "      <td>1.533034</td>\n",
       "      <td>0.187888</td>\n",
       "      <td>-0.565922</td>\n",
       "      <td>0.195414</td>\n",
       "      <td>-0.349494</td>\n",
       "      <td>0.648092</td>\n",
       "      <td>0.722722</td>\n",
       "      <td>0.886447</td>\n",
       "      <td>0.71246</td>\n",
       "      <td>0.33168</td>\n",
       "      <td>...</td>\n",
       "      <td>1</td>\n",
       "      <td>0</td>\n",
       "      <td>0</td>\n",
       "      <td>0</td>\n",
       "      <td>1</td>\n",
       "      <td>0</td>\n",
       "      <td>0</td>\n",
       "      <td>0</td>\n",
       "      <td>1</td>\n",
       "      <td>0</td>\n",
       "    </tr>\n",
       "  </tbody>\n",
       "</table>\n",
       "<p>5 rows × 54 columns</p>\n",
       "</div>"
      ],
      "text/plain": [
       "        age  duration  campaign     pdays  previous  emp.var.rate  \\\n",
       "0  1.533034  0.010471 -0.565922  0.195414 -0.349494      0.648092   \n",
       "1  1.628993 -0.421501 -0.565922  0.195414 -0.349494      0.648092   \n",
       "2 -0.290186 -0.124520 -0.565922  0.195414 -0.349494      0.648092   \n",
       "3 -0.002309 -0.413787 -0.565922  0.195414 -0.349494      0.648092   \n",
       "4  1.533034  0.187888 -0.565922  0.195414 -0.349494      0.648092   \n",
       "\n",
       "   cons.price.idx  cons.conf.idx  euribor3m  nr.employed  ...  month_may  \\\n",
       "0        0.722722       0.886447    0.71246      0.33168  ...          1   \n",
       "1        0.722722       0.886447    0.71246      0.33168  ...          1   \n",
       "2        0.722722       0.886447    0.71246      0.33168  ...          1   \n",
       "3        0.722722       0.886447    0.71246      0.33168  ...          1   \n",
       "4        0.722722       0.886447    0.71246      0.33168  ...          1   \n",
       "\n",
       "   month_nov  month_oct  month_sep  day_of_week_mon  day_of_week_thu  \\\n",
       "0          0          0          0                1                0   \n",
       "1          0          0          0                1                0   \n",
       "2          0          0          0                1                0   \n",
       "3          0          0          0                1                0   \n",
       "4          0          0          0                1                0   \n",
       "\n",
       "   day_of_week_tue  day_of_week_wed  poutcome_nonexistent  poutcome_success  \n",
       "0                0                0                     1                 0  \n",
       "1                0                0                     1                 0  \n",
       "2                0                0                     1                 0  \n",
       "3                0                0                     1                 0  \n",
       "4                0                0                     1                 0  \n",
       "\n",
       "[5 rows x 54 columns]"
      ]
     },
     "execution_count": 22,
     "metadata": {},
     "output_type": "execute_result"
    }
   ],
   "source": [
    "deposit_new.head()"
   ]
  },
  {
   "cell_type": "code",
   "execution_count": 23,
   "id": "d9ac3653",
   "metadata": {},
   "outputs": [
    {
     "data": {
      "text/plain": [
       "Index(['age', 'duration', 'campaign', 'pdays', 'previous', 'emp.var.rate',\n",
       "       'cons.price.idx', 'cons.conf.idx', 'euribor3m', 'nr.employed', 'y',\n",
       "       'job_blue-collar', 'job_entrepreneur', 'job_housemaid',\n",
       "       'job_management', 'job_retired', 'job_self-employed', 'job_services',\n",
       "       'job_student', 'job_technician', 'job_unemployed', 'job_unknown',\n",
       "       'marital_married', 'marital_single', 'marital_unknown',\n",
       "       'education_basic.6y', 'education_basic.9y', 'education_high.school',\n",
       "       'education_illiterate', 'education_professional.course',\n",
       "       'education_university.degree', 'education_unknown', 'default_unknown',\n",
       "       'default_yes', 'housing_unknown', 'housing_yes', 'loan_unknown',\n",
       "       'loan_yes', 'contact_telephone', 'month_aug', 'month_dec', 'month_jul',\n",
       "       'month_jun', 'month_mar', 'month_may', 'month_nov', 'month_oct',\n",
       "       'month_sep', 'day_of_week_mon', 'day_of_week_thu', 'day_of_week_tue',\n",
       "       'day_of_week_wed', 'poutcome_nonexistent', 'poutcome_success'],\n",
       "      dtype='object')"
      ]
     },
     "execution_count": 23,
     "metadata": {},
     "output_type": "execute_result"
    }
   ],
   "source": [
    "deposit_new.columns"
   ]
  },
  {
   "cell_type": "markdown",
   "id": "1cb43ff9",
   "metadata": {},
   "source": [
    "#### Defining dependent and independent variables"
   ]
  },
  {
   "cell_type": "code",
   "execution_count": 24,
   "id": "38ac6f23",
   "metadata": {},
   "outputs": [],
   "source": [
    "# defining dependent and independent variables \n",
    "X = deposit_new.drop('y',1)\n",
    "Y = deposit_new['y']"
   ]
  },
  {
   "cell_type": "markdown",
   "id": "b1459151",
   "metadata": {},
   "source": [
    "#### Splitting data into train and test "
   ]
  },
  {
   "cell_type": "code",
   "execution_count": 25,
   "id": "21a9c798",
   "metadata": {},
   "outputs": [],
   "source": [
    "# train test split \n",
    "trainx,testx,trainy,testy = train_test_split(X,Y,test_size= 0.2)"
   ]
  },
  {
   "cell_type": "code",
   "execution_count": 26,
   "id": "b2b2228d",
   "metadata": {},
   "outputs": [
    {
     "data": {
      "text/plain": [
       "(32950, 53)"
      ]
     },
     "execution_count": 26,
     "metadata": {},
     "output_type": "execute_result"
    }
   ],
   "source": [
    "trainx.shape"
   ]
  },
  {
   "cell_type": "markdown",
   "id": "53a155ce",
   "metadata": {},
   "source": [
    "### Model \n",
    "We will first build a SVM model "
   ]
  },
  {
   "cell_type": "code",
   "execution_count": 27,
   "id": "9bc77781",
   "metadata": {},
   "outputs": [],
   "source": [
    "# using gridsearch for svm\n",
    "lim = 5 \n",
    "lov_c = np.logspace(-5,4,lim)\n",
    "lov_g = np.random.random(lim)\n",
    "params = [{'kernel':['linear'], 'C':lov_c ,\n",
    "          'kernel':['sigmoid'],'C':lov_c, 'gamma':lov_g,\n",
    "          'kernel':['poly'],'C':lov_c, 'gamma':lov_g,\n",
    "          'kernel':['rbf'],'C':lov_c, 'gamma':lov_g}]"
   ]
  },
  {
   "cell_type": "code",
   "execution_count": 28,
   "id": "230a9d31",
   "metadata": {},
   "outputs": [
    {
     "data": {
      "text/plain": [
       "array([0.26128744, 0.26042841, 0.79988867, 0.88677162, 0.6167061 ])"
      ]
     },
     "execution_count": 28,
     "metadata": {},
     "output_type": "execute_result"
    }
   ],
   "source": [
    "lov_g"
   ]
  },
  {
   "cell_type": "code",
   "execution_count": 29,
   "id": "834387a6",
   "metadata": {},
   "outputs": [],
   "source": [
    "model = svm.SVC()\n",
    "grid = GridSearchCV(model,param_grid = params, \n",
    "                   scoring= 'accuracy',n_jobs= -1, cv= 3).fit(trainx,trainy)"
   ]
  },
  {
   "cell_type": "code",
   "execution_count": 30,
   "id": "fbcba9f4",
   "metadata": {},
   "outputs": [
    {
     "data": {
      "text/plain": [
       "{'C': 0.31622776601683794, 'gamma': 0.26042841482468293, 'kernel': 'rbf'}"
      ]
     },
     "execution_count": 30,
     "metadata": {},
     "output_type": "execute_result"
    }
   ],
   "source": [
    "# best parameters from gridSearchCV\n",
    "bp = grid.best_params_\n",
    "bp"
   ]
  },
  {
   "cell_type": "code",
   "execution_count": 31,
   "id": "ddae9e1e",
   "metadata": {},
   "outputs": [],
   "source": [
    "# build the SVM model using best parametrs from GridSearchCV\n",
    "m1 = svm.SVC(kernel = bp['kernel'], C= bp['C'], gamma = bp['gamma']).fit(trainx,trainy)"
   ]
  },
  {
   "cell_type": "code",
   "execution_count": 37,
   "id": "cb282bec",
   "metadata": {},
   "outputs": [],
   "source": [
    "# predictions \n",
    "p1= m1.predict(testx)"
   ]
  },
  {
   "cell_type": "code",
   "execution_count": 44,
   "id": "0063ca19",
   "metadata": {},
   "outputs": [
    {
     "name": "stdout",
     "output_type": "stream",
     "text": [
      "predicted    0     1   All\n",
      "actual                    \n",
      "0          368   576   944\n",
      "1          201  7093  7294\n",
      "All        569  7669  8238\n",
      "\n",
      "\n",
      "              precision    recall  f1-score   support\n",
      "\n",
      "           0       0.65      0.39      0.49       944\n",
      "           1       0.92      0.97      0.95      7294\n",
      "\n",
      "    accuracy                           0.91      8238\n",
      "   macro avg       0.79      0.68      0.72      8238\n",
      "weighted avg       0.89      0.91      0.90      8238\n",
      "\n"
     ]
    }
   ],
   "source": [
    "# confusion matrix and classification report \n",
    "\n",
    "# confusion matrix \n",
    "df = pd.DataFrame({'actual':testy,'predicted':p1})\n",
    "print(pd.crosstab(df.actual,df.predicted, margins = True ))\n",
    "print('\\n')\n",
    "print(classification_report(testy,p1))"
   ]
  },
  {
   "cell_type": "markdown",
   "id": "9847d059",
   "metadata": {},
   "source": [
    "* This model shows a overall accuracy of 91%"
   ]
  }
 ],
 "metadata": {
  "kernelspec": {
   "display_name": "Python 3",
   "language": "python",
   "name": "python3"
  },
  "language_info": {
   "codemirror_mode": {
    "name": "ipython",
    "version": 3
   },
   "file_extension": ".py",
   "mimetype": "text/x-python",
   "name": "python",
   "nbconvert_exporter": "python",
   "pygments_lexer": "ipython3",
   "version": "3.8.8"
  }
 },
 "nbformat": 4,
 "nbformat_minor": 5
}
