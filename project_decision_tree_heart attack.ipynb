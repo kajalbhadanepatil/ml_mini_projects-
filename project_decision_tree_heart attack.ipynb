{
 "cells": [
  {
   "cell_type": "markdown",
   "id": "a3427420",
   "metadata": {},
   "source": [
    "# Machine Learning with DecisionTree "
   ]
  },
  {
   "cell_type": "markdown",
   "id": "8cf7a8bb",
   "metadata": {},
   "source": [
    "### Problem Statement \n",
    "Analyze the heart disease dataset to explore the machine learning algorithms and build decision tree model to predict the disease."
   ]
  },
  {
   "cell_type": "code",
   "execution_count": 2,
   "id": "d6a2f5b9",
   "metadata": {},
   "outputs": [],
   "source": [
    "# import libraries \n",
    "import pandas as pd \n",
    "import numpy as np \n",
    "import matplotlib.pyplot as plt \n",
    "import warnings\n",
    "warnings.filterwarnings(\"ignore\")\n",
    "from sklearn.model_selection import train_test_split, GridSearchCV\n",
    "from sklearn.tree import DecisionTreeClassifier\n",
    "from sklearn import tree\n",
    "from sklearn.metrics import classification_report"
   ]
  },
  {
   "cell_type": "markdown",
   "id": "f2294cf0",
   "metadata": {},
   "source": [
    "### Read the data"
   ]
  },
  {
   "cell_type": "code",
   "execution_count": 4,
   "id": "51b4d7d0",
   "metadata": {},
   "outputs": [],
   "source": [
    "# read the file\n",
    "heart = pd.read_csv(r\"D:\\new Data science class\\project\\3. decission tree\\Heart Disease Prediction\\Dataset\\HeartDisease.csv\")"
   ]
  },
  {
   "cell_type": "code",
   "execution_count": 5,
   "id": "885a5b86",
   "metadata": {
    "scrolled": true
   },
   "outputs": [
    {
     "data": {
      "text/html": [
       "<div>\n",
       "<style scoped>\n",
       "    .dataframe tbody tr th:only-of-type {\n",
       "        vertical-align: middle;\n",
       "    }\n",
       "\n",
       "    .dataframe tbody tr th {\n",
       "        vertical-align: top;\n",
       "    }\n",
       "\n",
       "    .dataframe thead th {\n",
       "        text-align: right;\n",
       "    }\n",
       "</style>\n",
       "<table border=\"1\" class=\"dataframe\">\n",
       "  <thead>\n",
       "    <tr style=\"text-align: right;\">\n",
       "      <th></th>\n",
       "      <th>age</th>\n",
       "      <th>gender</th>\n",
       "      <th>chest_pain</th>\n",
       "      <th>rest_bps</th>\n",
       "      <th>cholestrol</th>\n",
       "      <th>fasting_blood_sugar</th>\n",
       "      <th>rest_ecg</th>\n",
       "      <th>thalach</th>\n",
       "      <th>exer_angina</th>\n",
       "      <th>old_peak</th>\n",
       "      <th>slope</th>\n",
       "      <th>ca</th>\n",
       "      <th>thalassemia</th>\n",
       "      <th>target</th>\n",
       "    </tr>\n",
       "  </thead>\n",
       "  <tbody>\n",
       "    <tr>\n",
       "      <th>0</th>\n",
       "      <td>63</td>\n",
       "      <td>1</td>\n",
       "      <td>3</td>\n",
       "      <td>145</td>\n",
       "      <td>233</td>\n",
       "      <td>1</td>\n",
       "      <td>0</td>\n",
       "      <td>150</td>\n",
       "      <td>0</td>\n",
       "      <td>2.3</td>\n",
       "      <td>0</td>\n",
       "      <td>0</td>\n",
       "      <td>1</td>\n",
       "      <td>1</td>\n",
       "    </tr>\n",
       "    <tr>\n",
       "      <th>1</th>\n",
       "      <td>37</td>\n",
       "      <td>1</td>\n",
       "      <td>2</td>\n",
       "      <td>130</td>\n",
       "      <td>250</td>\n",
       "      <td>0</td>\n",
       "      <td>1</td>\n",
       "      <td>187</td>\n",
       "      <td>0</td>\n",
       "      <td>3.5</td>\n",
       "      <td>0</td>\n",
       "      <td>0</td>\n",
       "      <td>2</td>\n",
       "      <td>1</td>\n",
       "    </tr>\n",
       "    <tr>\n",
       "      <th>2</th>\n",
       "      <td>41</td>\n",
       "      <td>0</td>\n",
       "      <td>1</td>\n",
       "      <td>130</td>\n",
       "      <td>204</td>\n",
       "      <td>0</td>\n",
       "      <td>0</td>\n",
       "      <td>172</td>\n",
       "      <td>0</td>\n",
       "      <td>1.4</td>\n",
       "      <td>2</td>\n",
       "      <td>0</td>\n",
       "      <td>2</td>\n",
       "      <td>1</td>\n",
       "    </tr>\n",
       "    <tr>\n",
       "      <th>3</th>\n",
       "      <td>56</td>\n",
       "      <td>1</td>\n",
       "      <td>1</td>\n",
       "      <td>120</td>\n",
       "      <td>236</td>\n",
       "      <td>0</td>\n",
       "      <td>1</td>\n",
       "      <td>178</td>\n",
       "      <td>0</td>\n",
       "      <td>0.8</td>\n",
       "      <td>2</td>\n",
       "      <td>0</td>\n",
       "      <td>2</td>\n",
       "      <td>1</td>\n",
       "    </tr>\n",
       "    <tr>\n",
       "      <th>4</th>\n",
       "      <td>57</td>\n",
       "      <td>0</td>\n",
       "      <td>0</td>\n",
       "      <td>120</td>\n",
       "      <td>354</td>\n",
       "      <td>0</td>\n",
       "      <td>1</td>\n",
       "      <td>163</td>\n",
       "      <td>1</td>\n",
       "      <td>0.6</td>\n",
       "      <td>2</td>\n",
       "      <td>0</td>\n",
       "      <td>2</td>\n",
       "      <td>1</td>\n",
       "    </tr>\n",
       "  </tbody>\n",
       "</table>\n",
       "</div>"
      ],
      "text/plain": [
       "   age  gender  chest_pain  rest_bps  cholestrol  fasting_blood_sugar  \\\n",
       "0   63       1           3       145         233                    1   \n",
       "1   37       1           2       130         250                    0   \n",
       "2   41       0           1       130         204                    0   \n",
       "3   56       1           1       120         236                    0   \n",
       "4   57       0           0       120         354                    0   \n",
       "\n",
       "   rest_ecg  thalach  exer_angina  old_peak  slope  ca  thalassemia  target  \n",
       "0         0      150            0       2.3      0   0            1       1  \n",
       "1         1      187            0       3.5      0   0            2       1  \n",
       "2         0      172            0       1.4      2   0            2       1  \n",
       "3         1      178            0       0.8      2   0            2       1  \n",
       "4         1      163            1       0.6      2   0            2       1  "
      ]
     },
     "execution_count": 5,
     "metadata": {},
     "output_type": "execute_result"
    }
   ],
   "source": [
    "# Primary data inspection \n",
    "heart.head()"
   ]
  },
  {
   "cell_type": "markdown",
   "id": "418d800d",
   "metadata": {},
   "source": [
    "### Data fields \n",
    "* age -- Age of the patient \n",
    "* gender -- Gender of the patient - (0,1) - (Male, Female) \n",
    "* chest_pain -- It refers to the chest pain experienced by the patient -(0,1,2,3) \n",
    "* rest_bps -- Blood pressure of the patient while resting(in mm/Hg) \n",
    "* cholesterol -- Patient's cholesterol level (in mg/dl) \n",
    "* fasting_blood_sugar -- The blood sugar of the patient while fasting \n",
    "* rest_ecg -- Potassium level (0,1,2) \n",
    "* thalach -- The patient’s maximum heart rate \n",
    "* exer_angina -- It refers to exercise-induced angina - (1=Yes, 0=No)\n",
    "* old_peak -- It is the ST depression induced by exercise relative to rest(ST relates to the position on ECG plots) \n",
    "* slope It -- refers to the slope of the peak of the exercise ST-Segment- (0,1,2) \n",
    "* ca -- Number of major vessels - (0,1,2,3,4) \n",
    "* thalassemia -- It refers to thalassemia which is a blood disorder - (0,1,2,3) \n",
    "* target -- The patient has heart disease or not - (1=Yes, 0=No)"
   ]
  },
  {
   "cell_type": "markdown",
   "id": "c8a7c0ae",
   "metadata": {},
   "source": [
    "### EDA"
   ]
  },
  {
   "cell_type": "code",
   "execution_count": 6,
   "id": "d8f9036f",
   "metadata": {},
   "outputs": [
    {
     "data": {
      "text/plain": [
       "Index(['age', 'gender', 'chest_pain', 'rest_bps', 'cholestrol',\n",
       "       'fasting_blood_sugar', 'rest_ecg', 'thalach', 'exer_angina', 'old_peak',\n",
       "       'slope', 'ca', 'thalassemia', 'target'],\n",
       "      dtype='object')"
      ]
     },
     "execution_count": 6,
     "metadata": {},
     "output_type": "execute_result"
    }
   ],
   "source": [
    "# Checking the columns in data \n",
    "heart.columns"
   ]
  },
  {
   "cell_type": "code",
   "execution_count": 7,
   "id": "48cd8a2a",
   "metadata": {},
   "outputs": [
    {
     "data": {
      "text/plain": [
       "(303, 14)"
      ]
     },
     "execution_count": 7,
     "metadata": {},
     "output_type": "execute_result"
    }
   ],
   "source": [
    "# Check the no of rows and no of columns in data \n",
    "heart.shape"
   ]
  },
  {
   "cell_type": "code",
   "execution_count": 8,
   "id": "5fb21a07",
   "metadata": {},
   "outputs": [
    {
     "name": "stdout",
     "output_type": "stream",
     "text": [
      "<class 'pandas.core.frame.DataFrame'>\n",
      "RangeIndex: 303 entries, 0 to 302\n",
      "Data columns (total 14 columns):\n",
      " #   Column               Non-Null Count  Dtype  \n",
      "---  ------               --------------  -----  \n",
      " 0   age                  303 non-null    int64  \n",
      " 1   gender               303 non-null    int64  \n",
      " 2   chest_pain           303 non-null    int64  \n",
      " 3   rest_bps             303 non-null    int64  \n",
      " 4   cholestrol           303 non-null    int64  \n",
      " 5   fasting_blood_sugar  303 non-null    int64  \n",
      " 6   rest_ecg             303 non-null    int64  \n",
      " 7   thalach              303 non-null    int64  \n",
      " 8   exer_angina          303 non-null    int64  \n",
      " 9   old_peak             303 non-null    float64\n",
      " 10  slope                303 non-null    int64  \n",
      " 11  ca                   303 non-null    int64  \n",
      " 12  thalassemia          303 non-null    int64  \n",
      " 13  target               303 non-null    int64  \n",
      "dtypes: float64(1), int64(13)\n",
      "memory usage: 33.3 KB\n"
     ]
    }
   ],
   "source": [
    "# Feature information\n",
    "heart.info()"
   ]
  },
  {
   "cell_type": "markdown",
   "id": "39289767",
   "metadata": {},
   "source": [
    "* There are no nulls in the data \n",
    "* There are no string datatype "
   ]
  },
  {
   "cell_type": "code",
   "execution_count": 9,
   "id": "fb148d1a",
   "metadata": {},
   "outputs": [
    {
     "data": {
      "text/plain": [
       "1    165\n",
       "0    138\n",
       "Name: target, dtype: int64"
      ]
     },
     "execution_count": 9,
     "metadata": {},
     "output_type": "execute_result"
    }
   ],
   "source": [
    "# check distribution of y-variable \n",
    "heart.target.value_counts()"
   ]
  },
  {
   "cell_type": "markdown",
   "id": "e44669c0",
   "metadata": {},
   "source": [
    "The target variable is almost evenly distributed "
   ]
  },
  {
   "cell_type": "code",
   "execution_count": 10,
   "id": "e737a360",
   "metadata": {},
   "outputs": [
    {
     "name": "stdout",
     "output_type": "stream",
     "text": [
      "58    19\n",
      "57    17\n",
      "54    16\n",
      "59    14\n",
      "52    13\n",
      "51    12\n",
      "62    11\n",
      "60    11\n",
      "44    11\n",
      "56    11\n",
      "41    10\n",
      "64    10\n",
      "63     9\n",
      "67     9\n",
      "65     8\n",
      "55     8\n",
      "61     8\n",
      "53     8\n",
      "45     8\n",
      "43     8\n",
      "42     8\n",
      "50     7\n",
      "66     7\n",
      "48     7\n",
      "46     7\n",
      "49     5\n",
      "47     5\n",
      "70     4\n",
      "39     4\n",
      "68     4\n",
      "35     4\n",
      "69     3\n",
      "40     3\n",
      "38     3\n",
      "71     3\n",
      "37     2\n",
      "34     2\n",
      "76     1\n",
      "29     1\n",
      "74     1\n",
      "77     1\n",
      "Name: age, dtype: int64\n",
      "-----\n",
      "1    207\n",
      "0     96\n",
      "Name: gender, dtype: int64\n",
      "-----\n",
      "0    143\n",
      "2     87\n",
      "1     50\n",
      "3     23\n",
      "Name: chest_pain, dtype: int64\n",
      "-----\n",
      "120    37\n",
      "130    36\n",
      "140    32\n",
      "110    19\n",
      "150    17\n",
      "138    13\n",
      "128    12\n",
      "125    11\n",
      "160    11\n",
      "112     9\n",
      "132     8\n",
      "118     7\n",
      "108     6\n",
      "135     6\n",
      "124     6\n",
      "152     5\n",
      "145     5\n",
      "134     5\n",
      "100     4\n",
      "122     4\n",
      "170     4\n",
      "126     3\n",
      "115     3\n",
      "105     3\n",
      "136     3\n",
      "180     3\n",
      "142     3\n",
      "146     2\n",
      "148     2\n",
      "178     2\n",
      "94      2\n",
      "144     2\n",
      "102     2\n",
      "129     1\n",
      "192     1\n",
      "101     1\n",
      "174     1\n",
      "172     1\n",
      "104     1\n",
      "165     1\n",
      "164     1\n",
      "106     1\n",
      "156     1\n",
      "155     1\n",
      "154     1\n",
      "114     1\n",
      "117     1\n",
      "123     1\n",
      "200     1\n",
      "Name: rest_bps, dtype: int64\n",
      "-----\n",
      "204    6\n",
      "197    6\n",
      "234    6\n",
      "269    5\n",
      "212    5\n",
      "      ..\n",
      "215    1\n",
      "210    1\n",
      "200    1\n",
      "195    1\n",
      "417    1\n",
      "Name: cholestrol, Length: 152, dtype: int64\n",
      "-----\n",
      "0    258\n",
      "1     45\n",
      "Name: fasting_blood_sugar, dtype: int64\n",
      "-----\n",
      "1    152\n",
      "0    147\n",
      "2      4\n",
      "Name: rest_ecg, dtype: int64\n",
      "-----\n",
      "162    11\n",
      "163     9\n",
      "160     9\n",
      "152     8\n",
      "173     8\n",
      "       ..\n",
      "128     1\n",
      "129     1\n",
      "134     1\n",
      "137     1\n",
      "202     1\n",
      "Name: thalach, Length: 91, dtype: int64\n",
      "-----\n",
      "0    204\n",
      "1     99\n",
      "Name: exer_angina, dtype: int64\n",
      "-----\n",
      "0.0    99\n",
      "1.2    17\n",
      "1.0    14\n",
      "0.6    14\n",
      "0.8    13\n",
      "1.4    13\n",
      "0.2    12\n",
      "1.6    11\n",
      "1.8    10\n",
      "0.4     9\n",
      "2.0     9\n",
      "0.1     7\n",
      "2.6     6\n",
      "2.8     6\n",
      "1.9     5\n",
      "0.5     5\n",
      "1.5     5\n",
      "3.0     5\n",
      "2.2     4\n",
      "3.6     4\n",
      "0.3     3\n",
      "2.4     3\n",
      "0.9     3\n",
      "4.0     3\n",
      "3.4     3\n",
      "2.3     2\n",
      "1.1     2\n",
      "4.2     2\n",
      "3.2     2\n",
      "2.5     2\n",
      "3.5     1\n",
      "1.3     1\n",
      "3.8     1\n",
      "6.2     1\n",
      "5.6     1\n",
      "3.1     1\n",
      "2.9     1\n",
      "4.4     1\n",
      "0.7     1\n",
      "2.1     1\n",
      "Name: old_peak, dtype: int64\n",
      "-----\n",
      "2    142\n",
      "1    140\n",
      "0     21\n",
      "Name: slope, dtype: int64\n",
      "-----\n",
      "0    175\n",
      "1     65\n",
      "2     38\n",
      "3     20\n",
      "4      5\n",
      "Name: ca, dtype: int64\n",
      "-----\n",
      "2    166\n",
      "3    117\n",
      "1     18\n",
      "0      2\n",
      "Name: thalassemia, dtype: int64\n",
      "-----\n",
      "1    165\n",
      "0    138\n",
      "Name: target, dtype: int64\n",
      "-----\n"
     ]
    }
   ],
   "source": [
    "# check for singularities \n",
    "for c in heart.columns:\n",
    "    print(heart[c].value_counts ())\n",
    "    print(\"-----\")"
   ]
  },
  {
   "cell_type": "markdown",
   "id": "97f49668",
   "metadata": {},
   "source": [
    "We have observed that data is sorted by the target. Hence we need to shuffle data  before splitting to make sure that training and testing data is representative of the overall distribution of data "
   ]
  },
  {
   "cell_type": "code",
   "execution_count": 11,
   "id": "42a44de9",
   "metadata": {},
   "outputs": [
    {
     "data": {
      "text/html": [
       "<div>\n",
       "<style scoped>\n",
       "    .dataframe tbody tr th:only-of-type {\n",
       "        vertical-align: middle;\n",
       "    }\n",
       "\n",
       "    .dataframe tbody tr th {\n",
       "        vertical-align: top;\n",
       "    }\n",
       "\n",
       "    .dataframe thead th {\n",
       "        text-align: right;\n",
       "    }\n",
       "</style>\n",
       "<table border=\"1\" class=\"dataframe\">\n",
       "  <thead>\n",
       "    <tr style=\"text-align: right;\">\n",
       "      <th></th>\n",
       "      <th>age</th>\n",
       "      <th>gender</th>\n",
       "      <th>chest_pain</th>\n",
       "      <th>rest_bps</th>\n",
       "      <th>cholestrol</th>\n",
       "      <th>fasting_blood_sugar</th>\n",
       "      <th>rest_ecg</th>\n",
       "      <th>thalach</th>\n",
       "      <th>exer_angina</th>\n",
       "      <th>old_peak</th>\n",
       "      <th>slope</th>\n",
       "      <th>ca</th>\n",
       "      <th>thalassemia</th>\n",
       "      <th>target</th>\n",
       "    </tr>\n",
       "  </thead>\n",
       "  <tbody>\n",
       "    <tr>\n",
       "      <th>46</th>\n",
       "      <td>44</td>\n",
       "      <td>1</td>\n",
       "      <td>2</td>\n",
       "      <td>140</td>\n",
       "      <td>235</td>\n",
       "      <td>0</td>\n",
       "      <td>0</td>\n",
       "      <td>180</td>\n",
       "      <td>0</td>\n",
       "      <td>0.0</td>\n",
       "      <td>2</td>\n",
       "      <td>0</td>\n",
       "      <td>2</td>\n",
       "      <td>1</td>\n",
       "    </tr>\n",
       "    <tr>\n",
       "      <th>269</th>\n",
       "      <td>56</td>\n",
       "      <td>1</td>\n",
       "      <td>0</td>\n",
       "      <td>130</td>\n",
       "      <td>283</td>\n",
       "      <td>1</td>\n",
       "      <td>0</td>\n",
       "      <td>103</td>\n",
       "      <td>1</td>\n",
       "      <td>1.6</td>\n",
       "      <td>0</td>\n",
       "      <td>0</td>\n",
       "      <td>3</td>\n",
       "      <td>0</td>\n",
       "    </tr>\n",
       "    <tr>\n",
       "      <th>265</th>\n",
       "      <td>66</td>\n",
       "      <td>1</td>\n",
       "      <td>0</td>\n",
       "      <td>112</td>\n",
       "      <td>212</td>\n",
       "      <td>0</td>\n",
       "      <td>0</td>\n",
       "      <td>132</td>\n",
       "      <td>1</td>\n",
       "      <td>0.1</td>\n",
       "      <td>2</td>\n",
       "      <td>1</td>\n",
       "      <td>2</td>\n",
       "      <td>0</td>\n",
       "    </tr>\n",
       "    <tr>\n",
       "      <th>133</th>\n",
       "      <td>41</td>\n",
       "      <td>1</td>\n",
       "      <td>1</td>\n",
       "      <td>110</td>\n",
       "      <td>235</td>\n",
       "      <td>0</td>\n",
       "      <td>1</td>\n",
       "      <td>153</td>\n",
       "      <td>0</td>\n",
       "      <td>0.0</td>\n",
       "      <td>2</td>\n",
       "      <td>0</td>\n",
       "      <td>2</td>\n",
       "      <td>1</td>\n",
       "    </tr>\n",
       "    <tr>\n",
       "      <th>199</th>\n",
       "      <td>65</td>\n",
       "      <td>1</td>\n",
       "      <td>0</td>\n",
       "      <td>110</td>\n",
       "      <td>248</td>\n",
       "      <td>0</td>\n",
       "      <td>0</td>\n",
       "      <td>158</td>\n",
       "      <td>0</td>\n",
       "      <td>0.6</td>\n",
       "      <td>2</td>\n",
       "      <td>2</td>\n",
       "      <td>1</td>\n",
       "      <td>0</td>\n",
       "    </tr>\n",
       "  </tbody>\n",
       "</table>\n",
       "</div>"
      ],
      "text/plain": [
       "     age  gender  chest_pain  rest_bps  cholestrol  fasting_blood_sugar  \\\n",
       "46    44       1           2       140         235                    0   \n",
       "269   56       1           0       130         283                    1   \n",
       "265   66       1           0       112         212                    0   \n",
       "133   41       1           1       110         235                    0   \n",
       "199   65       1           0       110         248                    0   \n",
       "\n",
       "     rest_ecg  thalach  exer_angina  old_peak  slope  ca  thalassemia  target  \n",
       "46          0      180            0       0.0      2   0            2       1  \n",
       "269         0      103            1       1.6      0   0            3       0  \n",
       "265         0      132            1       0.1      2   1            2       0  \n",
       "133         1      153            0       0.0      2   0            2       1  \n",
       "199         0      158            0       0.6      2   2            1       0  "
      ]
     },
     "execution_count": 11,
     "metadata": {},
     "output_type": "execute_result"
    }
   ],
   "source": [
    "# shuffle the data \n",
    "heart = heart.sample(frac= 1)\n",
    "heart.head()"
   ]
  },
  {
   "cell_type": "markdown",
   "id": "74d9205e",
   "metadata": {},
   "source": [
    "### Splitting the data "
   ]
  },
  {
   "cell_type": "code",
   "execution_count": 12,
   "id": "634c64dc",
   "metadata": {},
   "outputs": [
    {
     "name": "stdout",
     "output_type": "stream",
     "text": [
      "(242, 13) (242,)\n",
      "(61, 13) (61,)\n"
     ]
    }
   ],
   "source": [
    "# split data into train and test \n",
    "trainx,testx,trainy,testy = train_test_split(heart.drop('target',1),\n",
    "                                            heart.target,\n",
    "                                            test_size = 0.2)\n",
    "print(trainx.shape,trainy.shape)\n",
    "print(testx.shape, testy.shape)"
   ]
  },
  {
   "cell_type": "markdown",
   "id": "5ad3176f",
   "metadata": {},
   "source": [
    "### Model 1"
   ]
  },
  {
   "cell_type": "code",
   "execution_count": 16,
   "id": "34a1e07a",
   "metadata": {},
   "outputs": [],
   "source": [
    "# build the model \n",
    "m1 = DecisionTreeClassifier().fit(trainx,trainy)"
   ]
  },
  {
   "cell_type": "code",
   "execution_count": 17,
   "id": "400e6053",
   "metadata": {},
   "outputs": [],
   "source": [
    "# prediction \n",
    "p1 = m1.predict(testx)"
   ]
  },
  {
   "cell_type": "markdown",
   "id": "487fbf07",
   "metadata": {},
   "source": [
    "#### Function to print Confusion Matrix and Classification Report "
   ]
  },
  {
   "cell_type": "code",
   "execution_count": 18,
   "id": "de878081",
   "metadata": {},
   "outputs": [],
   "source": [
    "# confusion matrix and classification report \n",
    "\n",
    "def cm(actual,predicted):\n",
    "    # confusion matrix \n",
    "    df = pd.DataFrame({'actual':actual,'predicted':predicted})\n",
    "    print(pd.crosstab(df.actual,df.predicted,margins= True))\n",
    "    \n",
    "    print(\"\\n\")\n",
    "    \n",
    "    # classification report \n",
    "    print(classification_report(actual,predicted))"
   ]
  },
  {
   "cell_type": "code",
   "execution_count": 19,
   "id": "c95f183e",
   "metadata": {},
   "outputs": [
    {
     "name": "stdout",
     "output_type": "stream",
     "text": [
      "predicted   0   1  All\n",
      "actual                \n",
      "0          19   8   27\n",
      "1           7  27   34\n",
      "All        26  35   61\n",
      "\n",
      "\n",
      "              precision    recall  f1-score   support\n",
      "\n",
      "           0       0.73      0.70      0.72        27\n",
      "           1       0.77      0.79      0.78        34\n",
      "\n",
      "    accuracy                           0.75        61\n",
      "   macro avg       0.75      0.75      0.75        61\n",
      "weighted avg       0.75      0.75      0.75        61\n",
      "\n"
     ]
    }
   ],
   "source": [
    "# Print the Confusion Matrix and Classification Report \n",
    "cm(testy,p1)"
   ]
  },
  {
   "cell_type": "markdown",
   "id": "8ad9b675",
   "metadata": {},
   "source": [
    "The overall accuracy of this model is 75%."
   ]
  },
  {
   "cell_type": "code",
   "execution_count": 20,
   "id": "c0babcd9",
   "metadata": {},
   "outputs": [
    {
     "data": {
      "text/plain": [
       "9"
      ]
     },
     "execution_count": 20,
     "metadata": {},
     "output_type": "execute_result"
    }
   ],
   "source": [
    "# get the depth of tree\n",
    "m1.get_depth()"
   ]
  },
  {
   "cell_type": "markdown",
   "id": "94a8ba99",
   "metadata": {},
   "source": [
    "### Model 2\n",
    "We will build this model by fine tuning the hyper- parameters by using GridSearchCV"
   ]
  },
  {
   "cell_type": "code",
   "execution_count": 26,
   "id": "8a313c8c",
   "metadata": {},
   "outputs": [],
   "source": [
    "# Create a instance of model \n",
    "dtclf = DecisionTreeClassifier()"
   ]
  },
  {
   "cell_type": "code",
   "execution_count": 42,
   "id": "f36474f8",
   "metadata": {},
   "outputs": [],
   "source": [
    "# building hyperparameters \n",
    "params = ({'criterion':['ginni','entropy'],\n",
    "           'max_depth':np.arange(2,5),\n",
    "           'min_samples_split':np.arange(2,5)\n",
    "          })"
   ]
  },
  {
   "cell_type": "code",
   "execution_count": 43,
   "id": "61f64b2d",
   "metadata": {},
   "outputs": [],
   "source": [
    "# run the gridSearchCV\n",
    "grid = GridSearchCV(dtclf, param_grid = params, scoring = 'accuracy', \n",
    "                    cv= 10, n_jobs=-1).fit(trainx,trainy)"
   ]
  },
  {
   "cell_type": "code",
   "execution_count": 44,
   "id": "791c54eb",
   "metadata": {},
   "outputs": [
    {
     "data": {
      "text/plain": [
       "{'criterion': 'entropy', 'max_depth': 3, 'min_samples_split': 2}"
      ]
     },
     "execution_count": 44,
     "metadata": {},
     "output_type": "execute_result"
    }
   ],
   "source": [
    "# get the best params\n",
    "bp = grid.best_params_\n",
    "bp"
   ]
  },
  {
   "cell_type": "code",
   "execution_count": 45,
   "id": "26c8c19b",
   "metadata": {},
   "outputs": [],
   "source": [
    "# build model using best params from gridSearchCV\n",
    "m2 = DecisionTreeClassifier( criterion = bp['criterion'],\n",
    "           max_depth = bp['max_depth'],\n",
    "           min_samples_split= bp['min_samples_split']).fit(trainx,trainy)"
   ]
  },
  {
   "cell_type": "code",
   "execution_count": 46,
   "id": "ee784843",
   "metadata": {},
   "outputs": [],
   "source": [
    "# prediction on test data \n",
    "p2= m2.predict(testx)"
   ]
  },
  {
   "cell_type": "code",
   "execution_count": 47,
   "id": "e25c7d50",
   "metadata": {},
   "outputs": [
    {
     "name": "stdout",
     "output_type": "stream",
     "text": [
      "predicted   0   1  All\n",
      "actual                \n",
      "0          21   6   27\n",
      "1           7  27   34\n",
      "All        28  33   61\n",
      "\n",
      "\n",
      "              precision    recall  f1-score   support\n",
      "\n",
      "           0       0.75      0.78      0.76        27\n",
      "           1       0.82      0.79      0.81        34\n",
      "\n",
      "    accuracy                           0.79        61\n",
      "   macro avg       0.78      0.79      0.78        61\n",
      "weighted avg       0.79      0.79      0.79        61\n",
      "\n"
     ]
    }
   ],
   "source": [
    "# confusion matrix and classification report \n",
    "cm(testy,p2)"
   ]
  },
  {
   "cell_type": "markdown",
   "id": "493462a3",
   "metadata": {},
   "source": [
    "Using the GridSearchCV, we can see that the accuracy has increased from 75% to 79% "
   ]
  },
  {
   "cell_type": "code",
   "execution_count": 49,
   "id": "956f04cb",
   "metadata": {},
   "outputs": [
    {
     "data": {
      "text/plain": [
       "[Text(418.5, 475.65000000000003, 'chest_pain <= 0.5\\nentropy = 0.995\\nsamples = 242\\nvalue = [111, 131]'),\n",
       " Text(209.25, 339.75, 'ca <= 0.5\\nentropy = 0.835\\nsamples = 113\\nvalue = [83, 30]'),\n",
       " Text(104.625, 203.85000000000002, 'thalassemia <= 2.5\\nentropy = 0.995\\nsamples = 50\\nvalue = [23, 27]'),\n",
       " Text(52.3125, 67.94999999999999, 'entropy = 0.784\\nsamples = 30\\nvalue = [7, 23]'),\n",
       " Text(156.9375, 67.94999999999999, 'entropy = 0.722\\nsamples = 20\\nvalue = [16, 4]'),\n",
       " Text(313.875, 203.85000000000002, 'age <= 63.5\\nentropy = 0.276\\nsamples = 63\\nvalue = [60, 3]'),\n",
       " Text(261.5625, 67.94999999999999, 'entropy = 0.0\\nsamples = 48\\nvalue = [48, 0]'),\n",
       " Text(366.1875, 67.94999999999999, 'entropy = 0.722\\nsamples = 15\\nvalue = [12, 3]'),\n",
       " Text(627.75, 339.75, 'age <= 56.5\\nentropy = 0.755\\nsamples = 129\\nvalue = [28, 101]'),\n",
       " Text(523.125, 203.85000000000002, 'thalach <= 153.0\\nentropy = 0.428\\nsamples = 80\\nvalue = [7, 73]'),\n",
       " Text(470.8125, 67.94999999999999, 'entropy = 0.896\\nsamples = 16\\nvalue = [5, 11]'),\n",
       " Text(575.4375, 67.94999999999999, 'entropy = 0.201\\nsamples = 64\\nvalue = [2, 62]'),\n",
       " Text(732.375, 203.85000000000002, 'gender <= 0.5\\nentropy = 0.985\\nsamples = 49\\nvalue = [21, 28]'),\n",
       " Text(680.0625, 67.94999999999999, 'entropy = 0.523\\nsamples = 17\\nvalue = [2, 15]'),\n",
       " Text(784.6875, 67.94999999999999, 'entropy = 0.974\\nsamples = 32\\nvalue = [19, 13]')]"
      ]
     },
     "execution_count": 49,
     "metadata": {},
     "output_type": "execute_result"
    },
    {
     "data": {
      "image/png": "[encoded data removed]",
      "text/plain": [
       "<Figure size 1080x720 with 1 Axes>"
      ]
     },
     "metadata": {
      "needs_background": "light"
     },
     "output_type": "display_data"
    }
   ],
   "source": [
    "# draw the tree \n",
    "fig = plt.figure(figsize = (15,10))\n",
    "tree.plot_tree(m2,\n",
    "              feature_names = trainx.columns,\n",
    "              filled = True)"
   ]
  },
  {
   "cell_type": "markdown",
   "id": "a15a66ed",
   "metadata": {},
   "source": [
    "### Feature selection "
   ]
  },
  {
   "cell_type": "code",
   "execution_count": 52,
   "id": "ef5d629e",
   "metadata": {},
   "outputs": [
    {
     "data": {
      "text/html": [
       "<div>\n",
       "<style scoped>\n",
       "    .dataframe tbody tr th:only-of-type {\n",
       "        vertical-align: middle;\n",
       "    }\n",
       "\n",
       "    .dataframe tbody tr th {\n",
       "        vertical-align: top;\n",
       "    }\n",
       "\n",
       "    .dataframe thead th {\n",
       "        text-align: right;\n",
       "    }\n",
       "</style>\n",
       "<table border=\"1\" class=\"dataframe\">\n",
       "  <thead>\n",
       "    <tr style=\"text-align: right;\">\n",
       "      <th></th>\n",
       "      <th>importance</th>\n",
       "    </tr>\n",
       "  </thead>\n",
       "  <tbody>\n",
       "    <tr>\n",
       "      <th>chest_pain</th>\n",
       "      <td>0.393471</td>\n",
       "    </tr>\n",
       "    <tr>\n",
       "      <th>ca</th>\n",
       "      <td>0.217788</td>\n",
       "    </tr>\n",
       "    <tr>\n",
       "      <th>age</th>\n",
       "      <td>0.171601</td>\n",
       "    </tr>\n",
       "    <tr>\n",
       "      <th>thalassemia</th>\n",
       "      <td>0.094702</td>\n",
       "    </tr>\n",
       "    <tr>\n",
       "      <th>gender</th>\n",
       "      <td>0.065787</td>\n",
       "    </tr>\n",
       "    <tr>\n",
       "      <th>thalach</th>\n",
       "      <td>0.056652</td>\n",
       "    </tr>\n",
       "    <tr>\n",
       "      <th>rest_bps</th>\n",
       "      <td>0.000000</td>\n",
       "    </tr>\n",
       "    <tr>\n",
       "      <th>cholestrol</th>\n",
       "      <td>0.000000</td>\n",
       "    </tr>\n",
       "    <tr>\n",
       "      <th>fasting_blood_sugar</th>\n",
       "      <td>0.000000</td>\n",
       "    </tr>\n",
       "    <tr>\n",
       "      <th>rest_ecg</th>\n",
       "      <td>0.000000</td>\n",
       "    </tr>\n",
       "    <tr>\n",
       "      <th>exer_angina</th>\n",
       "      <td>0.000000</td>\n",
       "    </tr>\n",
       "    <tr>\n",
       "      <th>old_peak</th>\n",
       "      <td>0.000000</td>\n",
       "    </tr>\n",
       "    <tr>\n",
       "      <th>slope</th>\n",
       "      <td>0.000000</td>\n",
       "    </tr>\n",
       "  </tbody>\n",
       "</table>\n",
       "</div>"
      ],
      "text/plain": [
       "                     importance\n",
       "chest_pain             0.393471\n",
       "ca                     0.217788\n",
       "age                    0.171601\n",
       "thalassemia            0.094702\n",
       "gender                 0.065787\n",
       "thalach                0.056652\n",
       "rest_bps               0.000000\n",
       "cholestrol             0.000000\n",
       "fasting_blood_sugar    0.000000\n",
       "rest_ecg               0.000000\n",
       "exer_angina            0.000000\n",
       "old_peak               0.000000\n",
       "slope                  0.000000"
      ]
     },
     "execution_count": 52,
     "metadata": {},
     "output_type": "execute_result"
    }
   ],
   "source": [
    "# checking feature importance\n",
    "temp = pd.DataFrame(m2.feature_importances_,trainx.columns, columns= ['importance'])\n",
    "temp.sort_values('importance', ascending = False )"
   ]
  },
  {
   "cell_type": "code",
   "execution_count": 53,
   "id": "32a3836a",
   "metadata": {},
   "outputs": [
    {
     "data": {
      "text/plain": [
       "Index(['age', 'gender', 'chest_pain', 'thalach', 'ca', 'thalassemia'], dtype='object')"
      ]
     },
     "execution_count": 53,
     "metadata": {},
     "output_type": "execute_result"
    }
   ],
   "source": [
    "# selecting columns with importance greater than 0 and creating new model using these features\n",
    "selected_cols = trainx.columns[temp['importance']>0]\n",
    "selected_cols"
   ]
  },
  {
   "cell_type": "markdown",
   "id": "d05deaa4",
   "metadata": {},
   "source": [
    "### Model 3 \n",
    "We will build this model by using only the selected features"
   ]
  },
  {
   "cell_type": "code",
   "execution_count": 56,
   "id": "7a0a6bb0",
   "metadata": {},
   "outputs": [],
   "source": [
    "# Defining the dependent and independent variables\n",
    "X = heart[selected_cols]\n",
    "Y = heart.target"
   ]
  },
  {
   "cell_type": "code",
   "execution_count": 57,
   "id": "6704047e",
   "metadata": {},
   "outputs": [
    {
     "name": "stdout",
     "output_type": "stream",
     "text": [
      "(242, 6) (242,)\n",
      "(61, 6) (61,)\n"
     ]
    }
   ],
   "source": [
    "# train test split \n",
    "trainx1,testx1,trainy1,testy1 = train_test_split(X,Y, test_size = 0.2)\n",
    "print(trainx1.shape, trainy1.shape)\n",
    "print(testx1.shape, testy1.shape)"
   ]
  },
  {
   "cell_type": "code",
   "execution_count": 77,
   "id": "aff6c9ef",
   "metadata": {},
   "outputs": [],
   "source": [
    "# builing model \n",
    "m3 = DecisionTreeClassifier().fit(trainx1,trainy1)"
   ]
  },
  {
   "cell_type": "code",
   "execution_count": 78,
   "id": "d4d9108c",
   "metadata": {},
   "outputs": [],
   "source": [
    "# prediction \n",
    "p3 = m3.predict(testx1)"
   ]
  },
  {
   "cell_type": "code",
   "execution_count": 79,
   "id": "854c15ae",
   "metadata": {},
   "outputs": [
    {
     "name": "stdout",
     "output_type": "stream",
     "text": [
      "predicted   0   1  All\n",
      "actual                \n",
      "0          21  11   32\n",
      "1           7  22   29\n",
      "All        28  33   61\n",
      "\n",
      "\n",
      "              precision    recall  f1-score   support\n",
      "\n",
      "           0       0.75      0.66      0.70        32\n",
      "           1       0.67      0.76      0.71        29\n",
      "\n",
      "    accuracy                           0.70        61\n",
      "   macro avg       0.71      0.71      0.70        61\n",
      "weighted avg       0.71      0.70      0.70        61\n",
      "\n"
     ]
    }
   ],
   "source": [
    "# Print the Confusion Matrix and Classification Report \n",
    "cm(testy1,p3)"
   ]
  },
  {
   "cell_type": "markdown",
   "id": "7975d894",
   "metadata": {},
   "source": [
    "We can see thst reducing the features have affected the accuracy of the model. The overall accuracy has reduced to 70% "
   ]
  },
  {
   "cell_type": "markdown",
   "id": "61f51c9f",
   "metadata": {},
   "source": [
    "### Conclusion \n",
    "* Decision Tree model with grid search Cv gave the best results with overall accuracy of 79% "
   ]
  }
 ],
 "metadata": {
  "kernelspec": {
   "display_name": "Python 3",
   "language": "python",
   "name": "python3"
  },
  "language_info": {
   "codemirror_mode": {
    "name": "ipython",
    "version": 3
   },
   "file_extension": ".py",
   "mimetype": "text/x-python",
   "name": "python",
   "nbconvert_exporter": "python",
   "pygments_lexer": "ipython3",
   "version": "3.8.8"
  }
 },
 "nbformat": 4,
 "nbformat_minor": 5
}
