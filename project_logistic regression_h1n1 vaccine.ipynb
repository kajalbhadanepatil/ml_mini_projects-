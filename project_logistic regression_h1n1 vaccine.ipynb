{
 "cells": [
  {
   "cell_type": "markdown",
   "id": "0ff4a2a1",
   "metadata": {},
   "source": [
    "# Machine learning with Logistic Regression "
   ]
  },
  {
   "cell_type": "markdown",
   "id": "1bc7d9f1",
   "metadata": {},
   "source": [
    "### Problem Statement: \n",
    "Predict how likely it is that the people will take an H1N1 flu vaccine using Logistic Regression."
   ]
  },
  {
   "cell_type": "code",
   "execution_count": 1,
   "id": "d5434d32",
   "metadata": {},
   "outputs": [],
   "source": [
    "# Importing libraries\n",
    "\n",
    "import pandas as pd \n",
    "import numpy as np \n",
    "import matplotlib.pyplot as plt \n",
    "import seaborn as sns \n",
    "import warnings \n",
    "warnings.filterwarnings(\"ignore\")\n",
    "\n",
    "from sklearn.model_selection import train_test_split\n",
    "import statsmodels.api as smapi\n",
    "from sklearn.linear_model import LogisticRegression\n",
    "from sklearn.metrics import confusion_matrix,classification_report\n",
    "from imblearn.over_sampling import SMOTE"
   ]
  },
  {
   "cell_type": "markdown",
   "id": "2bf3d04b",
   "metadata": {},
   "source": [
    "### Read the data "
   ]
  },
  {
   "cell_type": "code",
   "execution_count": 2,
   "id": "612cc999",
   "metadata": {},
   "outputs": [],
   "source": [
    "# Read the data  \n",
    "vaccine = pd.read_csv(r\"D:\\new Data science class\\project\\2. logistic regression\\Vaccine Usage Prediction\\Dataset\\h1n1_vaccine_prediction.csv\")"
   ]
  },
  {
   "cell_type": "code",
   "execution_count": 58,
   "id": "d050c60d",
   "metadata": {},
   "outputs": [
    {
     "data": {
      "text/html": [
       "<div>\n",
       "<style scoped>\n",
       "    .dataframe tbody tr th:only-of-type {\n",
       "        vertical-align: middle;\n",
       "    }\n",
       "\n",
       "    .dataframe tbody tr th {\n",
       "        vertical-align: top;\n",
       "    }\n",
       "\n",
       "    .dataframe thead th {\n",
       "        text-align: right;\n",
       "    }\n",
       "</style>\n",
       "<table border=\"1\" class=\"dataframe\">\n",
       "  <thead>\n",
       "    <tr style=\"text-align: right;\">\n",
       "      <th></th>\n",
       "      <th>unique_id</th>\n",
       "      <th>h1n1_worry</th>\n",
       "      <th>h1n1_awareness</th>\n",
       "      <th>antiviral_medication</th>\n",
       "      <th>contact_avoidance</th>\n",
       "      <th>bought_face_mask</th>\n",
       "      <th>wash_hands_frequently</th>\n",
       "      <th>avoid_large_gatherings</th>\n",
       "      <th>reduced_outside_home_cont</th>\n",
       "      <th>avoid_touch_face</th>\n",
       "      <th>...</th>\n",
       "      <th>race</th>\n",
       "      <th>sex</th>\n",
       "      <th>income_level</th>\n",
       "      <th>marital_status</th>\n",
       "      <th>housing_status</th>\n",
       "      <th>employment</th>\n",
       "      <th>census_msa</th>\n",
       "      <th>no_of_adults</th>\n",
       "      <th>no_of_children</th>\n",
       "      <th>h1n1_vaccine</th>\n",
       "    </tr>\n",
       "  </thead>\n",
       "  <tbody>\n",
       "    <tr>\n",
       "      <th>0</th>\n",
       "      <td>0</td>\n",
       "      <td>1.0</td>\n",
       "      <td>0.0</td>\n",
       "      <td>0.0</td>\n",
       "      <td>0.0</td>\n",
       "      <td>0.0</td>\n",
       "      <td>0.0</td>\n",
       "      <td>0.0</td>\n",
       "      <td>1.0</td>\n",
       "      <td>1.0</td>\n",
       "      <td>...</td>\n",
       "      <td>White</td>\n",
       "      <td>Female</td>\n",
       "      <td>Below Poverty</td>\n",
       "      <td>Not Married</td>\n",
       "      <td>Own</td>\n",
       "      <td>Not in Labor Force</td>\n",
       "      <td>Non-MSA</td>\n",
       "      <td>0.0</td>\n",
       "      <td>0.0</td>\n",
       "      <td>0</td>\n",
       "    </tr>\n",
       "    <tr>\n",
       "      <th>1</th>\n",
       "      <td>1</td>\n",
       "      <td>3.0</td>\n",
       "      <td>2.0</td>\n",
       "      <td>0.0</td>\n",
       "      <td>1.0</td>\n",
       "      <td>0.0</td>\n",
       "      <td>1.0</td>\n",
       "      <td>0.0</td>\n",
       "      <td>1.0</td>\n",
       "      <td>1.0</td>\n",
       "      <td>...</td>\n",
       "      <td>White</td>\n",
       "      <td>Male</td>\n",
       "      <td>Below Poverty</td>\n",
       "      <td>Not Married</td>\n",
       "      <td>Rent</td>\n",
       "      <td>Employed</td>\n",
       "      <td>MSA, Not Principle  City</td>\n",
       "      <td>0.0</td>\n",
       "      <td>0.0</td>\n",
       "      <td>0</td>\n",
       "    </tr>\n",
       "    <tr>\n",
       "      <th>2</th>\n",
       "      <td>2</td>\n",
       "      <td>1.0</td>\n",
       "      <td>1.0</td>\n",
       "      <td>0.0</td>\n",
       "      <td>1.0</td>\n",
       "      <td>0.0</td>\n",
       "      <td>0.0</td>\n",
       "      <td>0.0</td>\n",
       "      <td>0.0</td>\n",
       "      <td>0.0</td>\n",
       "      <td>...</td>\n",
       "      <td>White</td>\n",
       "      <td>Male</td>\n",
       "      <td>&lt;= $75,000, Above Poverty</td>\n",
       "      <td>Not Married</td>\n",
       "      <td>Own</td>\n",
       "      <td>Employed</td>\n",
       "      <td>MSA, Not Principle  City</td>\n",
       "      <td>2.0</td>\n",
       "      <td>0.0</td>\n",
       "      <td>0</td>\n",
       "    </tr>\n",
       "    <tr>\n",
       "      <th>3</th>\n",
       "      <td>3</td>\n",
       "      <td>1.0</td>\n",
       "      <td>1.0</td>\n",
       "      <td>0.0</td>\n",
       "      <td>1.0</td>\n",
       "      <td>0.0</td>\n",
       "      <td>1.0</td>\n",
       "      <td>1.0</td>\n",
       "      <td>0.0</td>\n",
       "      <td>0.0</td>\n",
       "      <td>...</td>\n",
       "      <td>White</td>\n",
       "      <td>Female</td>\n",
       "      <td>Below Poverty</td>\n",
       "      <td>Not Married</td>\n",
       "      <td>Rent</td>\n",
       "      <td>Not in Labor Force</td>\n",
       "      <td>MSA, Principle City</td>\n",
       "      <td>0.0</td>\n",
       "      <td>0.0</td>\n",
       "      <td>0</td>\n",
       "    </tr>\n",
       "    <tr>\n",
       "      <th>4</th>\n",
       "      <td>4</td>\n",
       "      <td>2.0</td>\n",
       "      <td>1.0</td>\n",
       "      <td>0.0</td>\n",
       "      <td>1.0</td>\n",
       "      <td>0.0</td>\n",
       "      <td>1.0</td>\n",
       "      <td>1.0</td>\n",
       "      <td>0.0</td>\n",
       "      <td>1.0</td>\n",
       "      <td>...</td>\n",
       "      <td>White</td>\n",
       "      <td>Female</td>\n",
       "      <td>&lt;= $75,000, Above Poverty</td>\n",
       "      <td>Married</td>\n",
       "      <td>Own</td>\n",
       "      <td>Employed</td>\n",
       "      <td>MSA, Not Principle  City</td>\n",
       "      <td>1.0</td>\n",
       "      <td>0.0</td>\n",
       "      <td>0</td>\n",
       "    </tr>\n",
       "  </tbody>\n",
       "</table>\n",
       "<p>5 rows × 34 columns</p>\n",
       "</div>"
      ],
      "text/plain": [
       "   unique_id  h1n1_worry  h1n1_awareness  antiviral_medication  \\\n",
       "0          0         1.0             0.0                   0.0   \n",
       "1          1         3.0             2.0                   0.0   \n",
       "2          2         1.0             1.0                   0.0   \n",
       "3          3         1.0             1.0                   0.0   \n",
       "4          4         2.0             1.0                   0.0   \n",
       "\n",
       "   contact_avoidance  bought_face_mask  wash_hands_frequently  \\\n",
       "0                0.0               0.0                    0.0   \n",
       "1                1.0               0.0                    1.0   \n",
       "2                1.0               0.0                    0.0   \n",
       "3                1.0               0.0                    1.0   \n",
       "4                1.0               0.0                    1.0   \n",
       "\n",
       "   avoid_large_gatherings  reduced_outside_home_cont  avoid_touch_face  ...  \\\n",
       "0                     0.0                        1.0               1.0  ...   \n",
       "1                     0.0                        1.0               1.0  ...   \n",
       "2                     0.0                        0.0               0.0  ...   \n",
       "3                     1.0                        0.0               0.0  ...   \n",
       "4                     1.0                        0.0               1.0  ...   \n",
       "\n",
       "    race     sex               income_level  marital_status  housing_status  \\\n",
       "0  White  Female              Below Poverty     Not Married             Own   \n",
       "1  White    Male              Below Poverty     Not Married            Rent   \n",
       "2  White    Male  <= $75,000, Above Poverty     Not Married             Own   \n",
       "3  White  Female              Below Poverty     Not Married            Rent   \n",
       "4  White  Female  <= $75,000, Above Poverty         Married             Own   \n",
       "\n",
       "           employment                census_msa  no_of_adults  no_of_children  \\\n",
       "0  Not in Labor Force                   Non-MSA           0.0             0.0   \n",
       "1            Employed  MSA, Not Principle  City           0.0             0.0   \n",
       "2            Employed  MSA, Not Principle  City           2.0             0.0   \n",
       "3  Not in Labor Force       MSA, Principle City           0.0             0.0   \n",
       "4            Employed  MSA, Not Principle  City           1.0             0.0   \n",
       "\n",
       "   h1n1_vaccine  \n",
       "0             0  \n",
       "1             0  \n",
       "2             0  \n",
       "3             0  \n",
       "4             0  \n",
       "\n",
       "[5 rows x 34 columns]"
      ]
     },
     "execution_count": 58,
     "metadata": {},
     "output_type": "execute_result"
    }
   ],
   "source": [
    "# Primary Data Inspection\n",
    "vaccine.head()"
   ]
  },
  {
   "cell_type": "markdown",
   "id": "e5a0f7c5",
   "metadata": {},
   "source": [
    "### Data fields\n",
    "* unique_id -- Unique identifier for each respondent \n",
    "* h1n1_worry -- Worry about the h1n1 flu(0,1,2,3) 0=Not worried at all, 1=Not very worried, 2=Somewhat worried, 3=Very worried \n",
    "* h1n1_awareness -- Signifies the amount of knowledge or understanding the respondent has about h1n1 flu - (0,1,2) - 0=No knowledge, 1=little knowledge, 2=good knowledge \n",
    "* antiviral_medication-- Has the respondent taken antiviral vaccination - (0,1) \n",
    "* contact_avoidance-- Has avoided any close contact with people who have flu-like symptoms - (0,1) \n",
    "* bought_face_mask -- Has the respondent bought mask or not - (0,1) \n",
    "* wash_hands_frequently-- Washes hands frequently or uses hand sanitizer - (0,1)\n",
    "* avoid_large_gatherings-- Has the respondent reduced time spent at large gatherings - (0,1) \n",
    "* reduced_outside_home_cont-- Has the respondent reduced contact with people outside their own house - (0,1) \n",
    "* avoid_touch_face -- Avoids touching nose, eyes, mouth - (0,1) \n",
    "* dr_recc_h1n1_vacc-- Doctor has recommended h1n1 vaccine - (0,1) \n",
    "* dr_recc_seasonal_vacc-- The doctor has recommended seasonalflu vaccine - (0,1) \n",
    "* chronic_medic_condition-- Has any chronic medical condition - (0,1) \n",
    "* cont_child_undr_6_mnth -- Has regular contact with child the age of 6 months - (0,1) \n",
    "* is_health_worker-- Is respondent a health worker - (0,1) \n",
    "* has_health_insur-- Does respondent have health insurance - (0,1) \n",
    "* is_h1n1_vacc_effective-- Does respondent think that the h1n1 vaccine is effective - (1,2,3,4,5)- (1=Thinks not effective at all, 2=Thinks it is not very effective, 3=Doesn't know if it is effective or not, 4=Thinks it is somewhat effective, 5=Thinks it is highly effective) \n",
    "* is_h1n1_risky-- What respondents think about the risk of getting ill with h1n1 in the absence of the vaccine- (1,2,3,4,5)- (1=Thinks it is not very low risk, 2=Thinks it is somewhat low risk, 3=don’t know if it is risky or not, 4=Thinks it is a somewhat high risk, 5=Thinks it is very highly risky) \n",
    "* sick_from_h1n1_vacc-- Does respondent worry about getting sick by taking the h1n1 vaccine - (1,2,3,4,5)- (1=Respondent not worried at all, 2=Respondent is not very worried, 3=Doesn't know, 4=Respondent is somewhat worried, 5Respondent is very worried) * is_seas_vacc_effective-- Does respondent think that the seasonal vaccine is effective- (1,2,3,4,5)- (1=Thinks not effective at all, 2=Thinks it is not very effective, 3=Doesn't know if it is effective or not, 4=Thinks it is somewhat effective, 5=Thinks it is highly effective) \n",
    "* is_seas_flu_risky-- What respondenst think about the risk of getting ill with seasonal flu in the absence of the vaccine- (1,2,3,4,5)- (1=Thinks it is not very low risk, 2=Thinks it is somewhat low risk, 3=Doesn't know if it is risky or not, 4=Thinks it is somewhat high risk, 5=Thinks it is very highly risky) \n",
    "* sick_from_seas_vacc-- Does respondent worry about getting sick by taking the seasonal flu vaccine - (1,2,3,4,5)- (1=Respondent not worried at all, 2=Respondent is not very worried, 3=Doesn't know, 4=Respondent is somewhat worried, 5Respondent is very worried) \n",
    "* age_bracket-- Age bracket of the respondent - (18 - 34 Years, 35 - 44 Years, 45 - 54 Years, 55 - 64 Years, 64+ Years) \n",
    "* qualification -- Qualification/education level of the respondent as per their response -(<12 Years, 12 Years, College Graduate, Some College) \n",
    "* race -- Respondent's race - (White, Black, Other or Multiple ,Hispanic) \n",
    "* sex -- Respondent's sex - (Female, Male) \n",
    "* income_level-- Annual income of the respondent as per the 2008 poverty Census - (<= 75000−AbovePoverty,> 75000−AbovePoverty,>75000, Below Poverty) \n",
    "* marital_status-- Respondent's marital status - (Not Married, Married) \n",
    "* housing_status -- Respondent's housing status - (Own, Rent) \n",
    "* employment -- Respondent's employment status - (Not in Labor Force, Employed, Unemployed) \n",
    "* census_msa -- Residence of the respondent with the MSA(metropolitan statistical area)(Non-MSA, MSA-Not Principle, CityMSA-Principle city) - (Yes, no)\n",
    "* no_of_adults-- Number of adults in the respondent's house (0,1,2,3) - (Yes, no) \n",
    "* no_of_children-- Number of children in the respondent's house(0,1,2,3) - (Yes, No) \n",
    "* h1n1_vaccine (Dependent variable)--Did the respondent received the h1n1 vaccine or not(1,0) - (Yes, No)"
   ]
  },
  {
   "cell_type": "markdown",
   "id": "1f87a988",
   "metadata": {},
   "source": [
    "### EDA"
   ]
  },
  {
   "cell_type": "code",
   "execution_count": 59,
   "id": "7b9327be",
   "metadata": {},
   "outputs": [
    {
     "data": {
      "text/plain": [
       "(26707, 34)"
      ]
     },
     "execution_count": 59,
     "metadata": {},
     "output_type": "execute_result"
    }
   ],
   "source": [
    "# No of rows and columns in data\n",
    "vaccine.shape"
   ]
  },
  {
   "cell_type": "code",
   "execution_count": 60,
   "id": "5c0b85f5",
   "metadata": {},
   "outputs": [
    {
     "data": {
      "text/plain": [
       "Index(['unique_id', 'h1n1_worry', 'h1n1_awareness', 'antiviral_medication',\n",
       "       'contact_avoidance', 'bought_face_mask', 'wash_hands_frequently',\n",
       "       'avoid_large_gatherings', 'reduced_outside_home_cont',\n",
       "       'avoid_touch_face', 'dr_recc_h1n1_vacc', 'dr_recc_seasonal_vacc',\n",
       "       'chronic_medic_condition', 'cont_child_undr_6_mnths',\n",
       "       'is_health_worker', 'has_health_insur', 'is_h1n1_vacc_effective',\n",
       "       'is_h1n1_risky', 'sick_from_h1n1_vacc', 'is_seas_vacc_effective',\n",
       "       'is_seas_risky', 'sick_from_seas_vacc', 'age_bracket', 'qualification',\n",
       "       'race', 'sex', 'income_level', 'marital_status', 'housing_status',\n",
       "       'employment', 'census_msa', 'no_of_adults', 'no_of_children',\n",
       "       'h1n1_vaccine'],\n",
       "      dtype='object')"
      ]
     },
     "execution_count": 60,
     "metadata": {},
     "output_type": "execute_result"
    }
   ],
   "source": [
    "# Checking all the columns in data\n",
    "vaccine.columns"
   ]
  },
  {
   "cell_type": "code",
   "execution_count": 5,
   "id": "e36d686c",
   "metadata": {},
   "outputs": [
    {
     "data": {
      "text/plain": [
       "(26707, 33)"
      ]
     },
     "execution_count": 5,
     "metadata": {},
     "output_type": "execute_result"
    }
   ],
   "source": [
    "# droping unwanted columns \n",
    "#'unique_id' --> as it is not required for analysis\n",
    "\n",
    "vaccine.drop(columns = ['unique_id'], axis = 1, inplace = True )\n",
    "\n",
    "# Checking wheter unique id column has been dropped properly\n",
    "vaccine.head()\n",
    "vaccine.shape"
   ]
  },
  {
   "cell_type": "code",
   "execution_count": 62,
   "id": "1fb25b7b",
   "metadata": {},
   "outputs": [
    {
     "name": "stdout",
     "output_type": "stream",
     "text": [
      "<class 'pandas.core.frame.DataFrame'>\n",
      "RangeIndex: 26707 entries, 0 to 26706\n",
      "Data columns (total 33 columns):\n",
      " #   Column                     Non-Null Count  Dtype  \n",
      "---  ------                     --------------  -----  \n",
      " 0   h1n1_worry                 26615 non-null  float64\n",
      " 1   h1n1_awareness             26591 non-null  float64\n",
      " 2   antiviral_medication       26636 non-null  float64\n",
      " 3   contact_avoidance          26499 non-null  float64\n",
      " 4   bought_face_mask           26688 non-null  float64\n",
      " 5   wash_hands_frequently      26665 non-null  float64\n",
      " 6   avoid_large_gatherings     26620 non-null  float64\n",
      " 7   reduced_outside_home_cont  26625 non-null  float64\n",
      " 8   avoid_touch_face           26579 non-null  float64\n",
      " 9   dr_recc_h1n1_vacc          24547 non-null  float64\n",
      " 10  dr_recc_seasonal_vacc      24547 non-null  float64\n",
      " 11  chronic_medic_condition    25736 non-null  float64\n",
      " 12  cont_child_undr_6_mnths    25887 non-null  float64\n",
      " 13  is_health_worker           25903 non-null  float64\n",
      " 14  has_health_insur           14433 non-null  float64\n",
      " 15  is_h1n1_vacc_effective     26316 non-null  float64\n",
      " 16  is_h1n1_risky              26319 non-null  float64\n",
      " 17  sick_from_h1n1_vacc        26312 non-null  float64\n",
      " 18  is_seas_vacc_effective     26245 non-null  float64\n",
      " 19  is_seas_risky              26193 non-null  float64\n",
      " 20  sick_from_seas_vacc        26170 non-null  float64\n",
      " 21  age_bracket                26707 non-null  object \n",
      " 22  qualification              25300 non-null  object \n",
      " 23  race                       26707 non-null  object \n",
      " 24  sex                        26707 non-null  object \n",
      " 25  income_level               22284 non-null  object \n",
      " 26  marital_status             25299 non-null  object \n",
      " 27  housing_status             24665 non-null  object \n",
      " 28  employment                 25244 non-null  object \n",
      " 29  census_msa                 26707 non-null  object \n",
      " 30  no_of_adults               26458 non-null  float64\n",
      " 31  no_of_children             26458 non-null  float64\n",
      " 32  h1n1_vaccine               26707 non-null  int64  \n",
      "dtypes: float64(23), int64(1), object(9)\n",
      "memory usage: 6.7+ MB\n"
     ]
    }
   ],
   "source": [
    "# checking info \n",
    "vaccine.info()"
   ]
  },
  {
   "cell_type": "markdown",
   "id": "e250e7bf",
   "metadata": {},
   "source": [
    "Primary analysis shows that \n",
    "* There are nulls in some columns \n",
    "* There are different types od datatypes"
   ]
  },
  {
   "cell_type": "code",
   "execution_count": 6,
   "id": "5ddb8bc1",
   "metadata": {},
   "outputs": [
    {
     "data": {
      "text/plain": [
       "(array(['h1n1_worry', 'h1n1_awareness', 'antiviral_medication',\n",
       "        'contact_avoidance', 'bought_face_mask', 'wash_hands_frequently',\n",
       "        'avoid_large_gatherings', 'reduced_outside_home_cont',\n",
       "        'avoid_touch_face', 'dr_recc_h1n1_vacc', 'dr_recc_seasonal_vacc',\n",
       "        'chronic_medic_condition', 'cont_child_undr_6_mnths',\n",
       "        'is_health_worker', 'has_health_insur', 'is_h1n1_vacc_effective',\n",
       "        'is_h1n1_risky', 'sick_from_h1n1_vacc', 'is_seas_vacc_effective',\n",
       "        'is_seas_risky', 'sick_from_seas_vacc', 'no_of_adults',\n",
       "        'no_of_children', 'h1n1_vaccine'], dtype=object),\n",
       " array(['age_bracket', 'qualification', 'race', 'sex', 'income_level',\n",
       "        'marital_status', 'housing_status', 'employment', 'census_msa'],\n",
       "       dtype=object))"
      ]
     },
     "execution_count": 6,
     "metadata": {},
     "output_type": "execute_result"
    }
   ],
   "source": [
    "# splitting into numeric and categorical columns for detailed analysis \n",
    "\n",
    "nc = vaccine.select_dtypes(exclude= 'object').columns.values\n",
    "fc = vaccine.select_dtypes(include='object').columns.values\n",
    "nc,fc"
   ]
  },
  {
   "cell_type": "code",
   "execution_count": 64,
   "id": "efa2aac6",
   "metadata": {},
   "outputs": [
    {
     "data": {
      "text/html": [
       "<div>\n",
       "<style scoped>\n",
       "    .dataframe tbody tr th:only-of-type {\n",
       "        vertical-align: middle;\n",
       "    }\n",
       "\n",
       "    .dataframe tbody tr th {\n",
       "        vertical-align: top;\n",
       "    }\n",
       "\n",
       "    .dataframe thead th {\n",
       "        text-align: right;\n",
       "    }\n",
       "</style>\n",
       "<table border=\"1\" class=\"dataframe\">\n",
       "  <thead>\n",
       "    <tr style=\"text-align: right;\">\n",
       "      <th></th>\n",
       "      <th>no_null</th>\n",
       "      <th>per_null</th>\n",
       "    </tr>\n",
       "  </thead>\n",
       "  <tbody>\n",
       "    <tr>\n",
       "      <th>h1n1_worry</th>\n",
       "      <td>92</td>\n",
       "      <td>0.344479</td>\n",
       "    </tr>\n",
       "    <tr>\n",
       "      <th>h1n1_awareness</th>\n",
       "      <td>116</td>\n",
       "      <td>0.434343</td>\n",
       "    </tr>\n",
       "    <tr>\n",
       "      <th>antiviral_medication</th>\n",
       "      <td>71</td>\n",
       "      <td>0.265848</td>\n",
       "    </tr>\n",
       "    <tr>\n",
       "      <th>contact_avoidance</th>\n",
       "      <td>208</td>\n",
       "      <td>0.778822</td>\n",
       "    </tr>\n",
       "    <tr>\n",
       "      <th>bought_face_mask</th>\n",
       "      <td>19</td>\n",
       "      <td>0.071142</td>\n",
       "    </tr>\n",
       "    <tr>\n",
       "      <th>wash_hands_frequently</th>\n",
       "      <td>42</td>\n",
       "      <td>0.157262</td>\n",
       "    </tr>\n",
       "    <tr>\n",
       "      <th>avoid_large_gatherings</th>\n",
       "      <td>87</td>\n",
       "      <td>0.325757</td>\n",
       "    </tr>\n",
       "    <tr>\n",
       "      <th>reduced_outside_home_cont</th>\n",
       "      <td>82</td>\n",
       "      <td>0.307036</td>\n",
       "    </tr>\n",
       "    <tr>\n",
       "      <th>avoid_touch_face</th>\n",
       "      <td>128</td>\n",
       "      <td>0.479275</td>\n",
       "    </tr>\n",
       "    <tr>\n",
       "      <th>dr_recc_h1n1_vacc</th>\n",
       "      <td>2160</td>\n",
       "      <td>8.087767</td>\n",
       "    </tr>\n",
       "    <tr>\n",
       "      <th>dr_recc_seasonal_vacc</th>\n",
       "      <td>2160</td>\n",
       "      <td>8.087767</td>\n",
       "    </tr>\n",
       "    <tr>\n",
       "      <th>chronic_medic_condition</th>\n",
       "      <td>971</td>\n",
       "      <td>3.635751</td>\n",
       "    </tr>\n",
       "    <tr>\n",
       "      <th>cont_child_undr_6_mnths</th>\n",
       "      <td>820</td>\n",
       "      <td>3.070356</td>\n",
       "    </tr>\n",
       "    <tr>\n",
       "      <th>is_health_worker</th>\n",
       "      <td>804</td>\n",
       "      <td>3.010447</td>\n",
       "    </tr>\n",
       "    <tr>\n",
       "      <th>has_health_insur</th>\n",
       "      <td>12274</td>\n",
       "      <td>45.957989</td>\n",
       "    </tr>\n",
       "    <tr>\n",
       "      <th>is_h1n1_vacc_effective</th>\n",
       "      <td>391</td>\n",
       "      <td>1.464036</td>\n",
       "    </tr>\n",
       "    <tr>\n",
       "      <th>is_h1n1_risky</th>\n",
       "      <td>388</td>\n",
       "      <td>1.452803</td>\n",
       "    </tr>\n",
       "    <tr>\n",
       "      <th>sick_from_h1n1_vacc</th>\n",
       "      <td>395</td>\n",
       "      <td>1.479013</td>\n",
       "    </tr>\n",
       "    <tr>\n",
       "      <th>is_seas_vacc_effective</th>\n",
       "      <td>462</td>\n",
       "      <td>1.729884</td>\n",
       "    </tr>\n",
       "    <tr>\n",
       "      <th>is_seas_risky</th>\n",
       "      <td>514</td>\n",
       "      <td>1.924589</td>\n",
       "    </tr>\n",
       "    <tr>\n",
       "      <th>sick_from_seas_vacc</th>\n",
       "      <td>537</td>\n",
       "      <td>2.010709</td>\n",
       "    </tr>\n",
       "    <tr>\n",
       "      <th>age_bracket</th>\n",
       "      <td>0</td>\n",
       "      <td>0.000000</td>\n",
       "    </tr>\n",
       "    <tr>\n",
       "      <th>qualification</th>\n",
       "      <td>1407</td>\n",
       "      <td>5.268282</td>\n",
       "    </tr>\n",
       "    <tr>\n",
       "      <th>race</th>\n",
       "      <td>0</td>\n",
       "      <td>0.000000</td>\n",
       "    </tr>\n",
       "    <tr>\n",
       "      <th>sex</th>\n",
       "      <td>0</td>\n",
       "      <td>0.000000</td>\n",
       "    </tr>\n",
       "    <tr>\n",
       "      <th>income_level</th>\n",
       "      <td>4423</td>\n",
       "      <td>16.561201</td>\n",
       "    </tr>\n",
       "    <tr>\n",
       "      <th>marital_status</th>\n",
       "      <td>1408</td>\n",
       "      <td>5.272026</td>\n",
       "    </tr>\n",
       "    <tr>\n",
       "      <th>housing_status</th>\n",
       "      <td>2042</td>\n",
       "      <td>7.645936</td>\n",
       "    </tr>\n",
       "    <tr>\n",
       "      <th>employment</th>\n",
       "      <td>1463</td>\n",
       "      <td>5.477965</td>\n",
       "    </tr>\n",
       "    <tr>\n",
       "      <th>census_msa</th>\n",
       "      <td>0</td>\n",
       "      <td>0.000000</td>\n",
       "    </tr>\n",
       "    <tr>\n",
       "      <th>no_of_adults</th>\n",
       "      <td>249</td>\n",
       "      <td>0.932340</td>\n",
       "    </tr>\n",
       "    <tr>\n",
       "      <th>no_of_children</th>\n",
       "      <td>249</td>\n",
       "      <td>0.932340</td>\n",
       "    </tr>\n",
       "    <tr>\n",
       "      <th>h1n1_vaccine</th>\n",
       "      <td>0</td>\n",
       "      <td>0.000000</td>\n",
       "    </tr>\n",
       "  </tbody>\n",
       "</table>\n",
       "</div>"
      ],
      "text/plain": [
       "                           no_null   per_null\n",
       "h1n1_worry                      92   0.344479\n",
       "h1n1_awareness                 116   0.434343\n",
       "antiviral_medication            71   0.265848\n",
       "contact_avoidance              208   0.778822\n",
       "bought_face_mask                19   0.071142\n",
       "wash_hands_frequently           42   0.157262\n",
       "avoid_large_gatherings          87   0.325757\n",
       "reduced_outside_home_cont       82   0.307036\n",
       "avoid_touch_face               128   0.479275\n",
       "dr_recc_h1n1_vacc             2160   8.087767\n",
       "dr_recc_seasonal_vacc         2160   8.087767\n",
       "chronic_medic_condition        971   3.635751\n",
       "cont_child_undr_6_mnths        820   3.070356\n",
       "is_health_worker               804   3.010447\n",
       "has_health_insur             12274  45.957989\n",
       "is_h1n1_vacc_effective         391   1.464036\n",
       "is_h1n1_risky                  388   1.452803\n",
       "sick_from_h1n1_vacc            395   1.479013\n",
       "is_seas_vacc_effective         462   1.729884\n",
       "is_seas_risky                  514   1.924589\n",
       "sick_from_seas_vacc            537   2.010709\n",
       "age_bracket                      0   0.000000\n",
       "qualification                 1407   5.268282\n",
       "race                             0   0.000000\n",
       "sex                              0   0.000000\n",
       "income_level                  4423  16.561201\n",
       "marital_status                1408   5.272026\n",
       "housing_status                2042   7.645936\n",
       "employment                    1463   5.477965\n",
       "census_msa                       0   0.000000\n",
       "no_of_adults                   249   0.932340\n",
       "no_of_children                 249   0.932340\n",
       "h1n1_vaccine                     0   0.000000"
      ]
     },
     "execution_count": 64,
     "metadata": {},
     "output_type": "execute_result"
    }
   ],
   "source": [
    "# checking missing values in percentage\n",
    "\n",
    "no_null = vaccine.isnull().sum()\n",
    "per_null = vaccine.isnull().sum()*100/len(vaccine)\n",
    "df = pd.DataFrame(zip(no_null,per_null),columns=['no_null','per_null'],index=vaccine.columns)\n",
    "df"
   ]
  },
  {
   "cell_type": "markdown",
   "id": "dabb8a1e",
   "metadata": {},
   "source": [
    "#### Handling missing values"
   ]
  },
  {
   "cell_type": "code",
   "execution_count": 7,
   "id": "8d6192b1",
   "metadata": {},
   "outputs": [],
   "source": [
    "# filling missing values in numeric data with median \n",
    "\n",
    "for col in nc:\n",
    "    vaccine[col] = vaccine[col].fillna(vaccine[col].median()) "
   ]
  },
  {
   "cell_type": "code",
   "execution_count": 66,
   "id": "cd94e4f1",
   "metadata": {},
   "outputs": [
    {
     "data": {
      "text/plain": [
       "h1n1_worry                      0\n",
       "h1n1_awareness                  0\n",
       "antiviral_medication            0\n",
       "contact_avoidance               0\n",
       "bought_face_mask                0\n",
       "wash_hands_frequently           0\n",
       "avoid_large_gatherings          0\n",
       "reduced_outside_home_cont       0\n",
       "avoid_touch_face                0\n",
       "dr_recc_h1n1_vacc               0\n",
       "dr_recc_seasonal_vacc           0\n",
       "chronic_medic_condition         0\n",
       "cont_child_undr_6_mnths         0\n",
       "is_health_worker                0\n",
       "has_health_insur                0\n",
       "is_h1n1_vacc_effective          0\n",
       "is_h1n1_risky                   0\n",
       "sick_from_h1n1_vacc             0\n",
       "is_seas_vacc_effective          0\n",
       "is_seas_risky                   0\n",
       "sick_from_seas_vacc             0\n",
       "age_bracket                     0\n",
       "qualification                1407\n",
       "race                            0\n",
       "sex                             0\n",
       "income_level                 4423\n",
       "marital_status               1408\n",
       "housing_status               2042\n",
       "employment                   1463\n",
       "census_msa                      0\n",
       "no_of_adults                    0\n",
       "no_of_children                  0\n",
       "h1n1_vaccine                    0\n",
       "dtype: int64"
      ]
     },
     "execution_count": 66,
     "metadata": {},
     "output_type": "execute_result"
    }
   ],
   "source": [
    "# checking wether missing values have been imputed properly \n",
    "vaccine.isnull().sum()"
   ]
  },
  {
   "cell_type": "code",
   "execution_count": 8,
   "id": "b56e4137",
   "metadata": {},
   "outputs": [],
   "source": [
    "# filling missing values in categorical data with \"missing\"\n",
    "\n",
    "for col in fc:\n",
    "    vaccine[col]= vaccine[col].fillna(\"missing\")"
   ]
  },
  {
   "cell_type": "code",
   "execution_count": 68,
   "id": "f33800c9",
   "metadata": {},
   "outputs": [
    {
     "data": {
      "text/plain": [
       "h1n1_worry                   0\n",
       "h1n1_awareness               0\n",
       "antiviral_medication         0\n",
       "contact_avoidance            0\n",
       "bought_face_mask             0\n",
       "wash_hands_frequently        0\n",
       "avoid_large_gatherings       0\n",
       "reduced_outside_home_cont    0\n",
       "avoid_touch_face             0\n",
       "dr_recc_h1n1_vacc            0\n",
       "dr_recc_seasonal_vacc        0\n",
       "chronic_medic_condition      0\n",
       "cont_child_undr_6_mnths      0\n",
       "is_health_worker             0\n",
       "has_health_insur             0\n",
       "is_h1n1_vacc_effective       0\n",
       "is_h1n1_risky                0\n",
       "sick_from_h1n1_vacc          0\n",
       "is_seas_vacc_effective       0\n",
       "is_seas_risky                0\n",
       "sick_from_seas_vacc          0\n",
       "age_bracket                  0\n",
       "qualification                0\n",
       "race                         0\n",
       "sex                          0\n",
       "income_level                 0\n",
       "marital_status               0\n",
       "housing_status               0\n",
       "employment                   0\n",
       "census_msa                   0\n",
       "no_of_adults                 0\n",
       "no_of_children               0\n",
       "h1n1_vaccine                 0\n",
       "dtype: int64"
      ]
     },
     "execution_count": 68,
     "metadata": {},
     "output_type": "execute_result"
    }
   ],
   "source": [
    "vaccine.isnull().sum()"
   ]
  },
  {
   "cell_type": "markdown",
   "id": "da2d8baf",
   "metadata": {},
   "source": [
    "#### Check for multicolinearity "
   ]
  },
  {
   "cell_type": "code",
   "execution_count": 70,
   "id": "2966d16c",
   "metadata": {},
   "outputs": [
    {
     "data": {
      "text/plain": [
       "<AxesSubplot:>"
      ]
     },
     "execution_count": 70,
     "metadata": {},
     "output_type": "execute_result"
    },
    {
     "data": {
      "image/png": "[encoded data removed]",
      "text/plain": [
       "<Figure size 1440x1440 with 2 Axes>"
      ]
     },
     "metadata": {
      "needs_background": "light"
     },
     "output_type": "display_data"
    }
   ],
   "source": [
    "# check for multicolinearity in numeric columns\n",
    "cor = np.tril(vaccine[nc].corr())\n",
    "\n",
    "plt.figure(figsize=(20,20))\n",
    "sns.heatmap(cor, annot= True, xticklabels = nc,yticklabels= nc, square= False, linewidths=1)"
   ]
  },
  {
   "cell_type": "markdown",
   "id": "7a492d3b",
   "metadata": {},
   "source": [
    "From the graph it can be infered that there is no multicolinearity in features that is greater than 0.6"
   ]
  },
  {
   "cell_type": "code",
   "execution_count": 9,
   "id": "5f467068",
   "metadata": {},
   "outputs": [
    {
     "data": {
      "text/plain": [
       "0    21033\n",
       "1     5674\n",
       "Name: h1n1_vaccine, dtype: int64"
      ]
     },
     "execution_count": 9,
     "metadata": {},
     "output_type": "execute_result"
    }
   ],
   "source": [
    "# check distribution of y variable \n",
    "vaccine.h1n1_vaccine.value_counts()   "
   ]
  },
  {
   "cell_type": "markdown",
   "id": "2689dd2d",
   "metadata": {},
   "source": [
    "The Y-(target) variable is unevenly distributed. Lets see how this affects the model. "
   ]
  },
  {
   "cell_type": "markdown",
   "id": "3a77c0e9",
   "metadata": {},
   "source": [
    "### Pre- processing of data "
   ]
  },
  {
   "cell_type": "markdown",
   "id": "8022d32e",
   "metadata": {},
   "source": [
    "#### Convert factoral features into dummy variables"
   ]
  },
  {
   "cell_type": "code",
   "execution_count": 16,
   "id": "51cb58c5",
   "metadata": {},
   "outputs": [
    {
     "name": "stdout",
     "output_type": "stream",
     "text": [
      "Index(['h1n1_worry', 'h1n1_awareness', 'antiviral_medication',\n",
      "       'contact_avoidance', 'bought_face_mask', 'wash_hands_frequently',\n",
      "       'avoid_large_gatherings', 'reduced_outside_home_cont',\n",
      "       'avoid_touch_face', 'dr_recc_h1n1_vacc', 'dr_recc_seasonal_vacc',\n",
      "       'chronic_medic_condition', 'cont_child_undr_6_mnths',\n",
      "       'is_health_worker', 'has_health_insur', 'is_h1n1_vacc_effective',\n",
      "       'is_h1n1_risky', 'sick_from_h1n1_vacc', 'is_seas_vacc_effective',\n",
      "       'is_seas_risky', 'sick_from_seas_vacc', 'age_bracket', 'qualification',\n",
      "       'race', 'sex', 'income_level', 'marital_status', 'housing_status',\n",
      "       'employment', 'census_msa', 'no_of_adults', 'no_of_children',\n",
      "       'h1n1_vaccine', 'age_bracket_35 - 44 Years',\n",
      "       'age_bracket_45 - 54 Years', 'age_bracket_55 - 64 Years',\n",
      "       'age_bracket_65+ Years', 'qualification_< 12 Years',\n",
      "       'qualification_College Graduate', 'qualification_Some College',\n",
      "       'qualification_missing', 'race_Hispanic', 'race_Other or Multiple',\n",
      "       'race_White', 'sex_Male', 'income_level_> $75,000',\n",
      "       'income_level_Below Poverty', 'income_level_missing',\n",
      "       'marital_status_Not Married', 'marital_status_missing',\n",
      "       'housing_status_Rent', 'housing_status_missing',\n",
      "       'employment_Not in Labor Force', 'employment_Unemployed',\n",
      "       'employment_missing', 'census_msa_MSA, Principle City',\n",
      "       'census_msa_Non-MSA'],\n",
      "      dtype='object')\n"
     ]
    },
    {
     "data": {
      "text/plain": [
       "Index(['h1n1_worry', 'h1n1_awareness', 'antiviral_medication',\n",
       "       'contact_avoidance', 'bought_face_mask', 'wash_hands_frequently',\n",
       "       'avoid_large_gatherings', 'reduced_outside_home_cont',\n",
       "       'avoid_touch_face', 'dr_recc_h1n1_vacc', 'dr_recc_seasonal_vacc',\n",
       "       'chronic_medic_condition', 'cont_child_undr_6_mnths',\n",
       "       'is_health_worker', 'has_health_insur', 'is_h1n1_vacc_effective',\n",
       "       'is_h1n1_risky', 'sick_from_h1n1_vacc', 'is_seas_vacc_effective',\n",
       "       'is_seas_risky', 'sick_from_seas_vacc', 'no_of_adults',\n",
       "       'no_of_children', 'h1n1_vaccine', 'age_bracket_35 - 44 Years',\n",
       "       'age_bracket_45 - 54 Years', 'age_bracket_55 - 64 Years',\n",
       "       'age_bracket_65+ Years', 'qualification_< 12 Years',\n",
       "       'qualification_College Graduate', 'qualification_Some College',\n",
       "       'qualification_missing', 'race_Hispanic', 'race_Other or Multiple',\n",
       "       'race_White', 'sex_Male', 'income_level_> $75,000',\n",
       "       'income_level_Below Poverty', 'income_level_missing',\n",
       "       'marital_status_Not Married', 'marital_status_missing',\n",
       "       'housing_status_Rent', 'housing_status_missing',\n",
       "       'employment_Not in Labor Force', 'employment_Unemployed',\n",
       "       'employment_missing', 'census_msa_MSA, Principle City',\n",
       "       'census_msa_Non-MSA'],\n",
       "      dtype='object')"
      ]
     },
     "execution_count": 16,
     "metadata": {},
     "output_type": "execute_result"
    }
   ],
   "source": [
    "# convert factors to dummy variables\n",
    "vaccine_new = vaccine.copy()\n",
    "\n",
    "for c in fc:\n",
    "    dummy = pd.get_dummies(vaccine_new[c],drop_first= True, prefix= c)\n",
    "    vaccine_new = vaccine_new.join(dummy)\n",
    "print(vaccine_new.columns)\n",
    "\n",
    "# remove old factor variables \n",
    "vaccine_new.drop(columns=fc, inplace = True)\n",
    "vaccine_new.columns"
   ]
  },
  {
   "cell_type": "markdown",
   "id": "1d1003b2",
   "metadata": {},
   "source": [
    "### Functions for splitting data, builing model, printing confusion matrix and classification report "
   ]
  },
  {
   "cell_type": "code",
   "execution_count": 32,
   "id": "f52a48d7",
   "metadata": {},
   "outputs": [],
   "source": [
    "# functions \n",
    "\n",
    "# split data into train and test \n",
    "def splitData(data,y,ratio):\n",
    "    trainx,testx,trainy,testy = train_test_split(data.drop(y,1),\n",
    "                                                data[y],\n",
    "                                                test_size= ratio)\n",
    "    return(trainx,testx,trainy,testy)\n",
    "\n",
    "# build the model \n",
    "def buildModel(trainx,trainy):\n",
    "    model = LogisticRegression().fit(trainx, trainy)\n",
    "    return (model)\n",
    "\n",
    "# confusion matrix and classification report  \n",
    "def cm(actual,predicted):\n",
    "    # confusion matrix\n",
    "    df = pd.DataFrame({'actual':actual,'predicted':predicted})\n",
    "    print(pd.crosstab(df.actual,df.predicted, margins = True))\n",
    "    \n",
    "    print(\"\\n\")\n",
    "    \n",
    "    # classification report\n",
    "    print(classification_report(actual,predicted))"
   ]
  },
  {
   "cell_type": "markdown",
   "id": "d4a39331",
   "metadata": {},
   "source": [
    "#### Splitting the data "
   ]
  },
  {
   "cell_type": "code",
   "execution_count": 74,
   "id": "bc66ae9c",
   "metadata": {},
   "outputs": [
    {
     "data": {
      "text/plain": [
       "((8013, 47), (8013,))"
      ]
     },
     "execution_count": 74,
     "metadata": {},
     "output_type": "execute_result"
    }
   ],
   "source": [
    "# split the data \n",
    "trainx1,testx1,trainy1,testy1= splitData(vaccine_new,'h1n1_vaccine',0.3)\n",
    "\n",
    "trainx1.shape,trainy1.shape\n",
    "testx1.shape,testy1.shape"
   ]
  },
  {
   "cell_type": "markdown",
   "id": "1a4db8a0",
   "metadata": {},
   "source": [
    "### Model 1"
   ]
  },
  {
   "cell_type": "code",
   "execution_count": 75,
   "id": "6acbd256",
   "metadata": {},
   "outputs": [],
   "source": [
    "# build the model \n",
    "m1 = buildModel(trainx1,trainy1)"
   ]
  },
  {
   "cell_type": "code",
   "execution_count": null,
   "id": "942f4fb9",
   "metadata": {},
   "outputs": [],
   "source": [
    "# prediction \n",
    "p1 = m1.predict(testx1)\n",
    "p1"
   ]
  },
  {
   "cell_type": "code",
   "execution_count": 77,
   "id": "f151846d",
   "metadata": {},
   "outputs": [
    {
     "name": "stdout",
     "output_type": "stream",
     "text": [
      "predicted     0     1   All\n",
      "actual                     \n",
      "0          5965   373  6338\n",
      "1           982   693  1675\n",
      "All        6947  1066  8013\n",
      "\n",
      "\n",
      "              precision    recall  f1-score   support\n",
      "\n",
      "           0       0.86      0.94      0.90      6338\n",
      "           1       0.65      0.41      0.51      1675\n",
      "\n",
      "    accuracy                           0.83      8013\n",
      "   macro avg       0.75      0.68      0.70      8013\n",
      "weighted avg       0.82      0.83      0.82      8013\n",
      "\n"
     ]
    }
   ],
   "source": [
    "# print confusion matrix and classification report\n",
    "cm(testy1,p1)"
   ]
  },
  {
   "cell_type": "markdown",
   "id": "fe35faec",
   "metadata": {},
   "source": [
    "This model has overall accuracy of 83% but precision, recall and f1-score are highly biased towards class 0"
   ]
  },
  {
   "cell_type": "markdown",
   "id": "c321ba18",
   "metadata": {},
   "source": [
    "### Model 2 "
   ]
  },
  {
   "cell_type": "markdown",
   "id": "e5d4444a",
   "metadata": {},
   "source": [
    "We will build the next model by tuning the class_weight parameter in Logistic Regression as the target variable is highly unbalanced"
   ]
  },
  {
   "cell_type": "code",
   "execution_count": 80,
   "id": "14e59d50",
   "metadata": {},
   "outputs": [],
   "source": [
    "# model two \n",
    "m2 = LogisticRegression(class_weight={0:0.20,1:0.80}).fit(trainx1,trainy1)"
   ]
  },
  {
   "cell_type": "code",
   "execution_count": 81,
   "id": "ce69af7b",
   "metadata": {},
   "outputs": [
    {
     "data": {
      "text/plain": [
       "array([0, 0, 1, ..., 0, 1, 0], dtype=int64)"
      ]
     },
     "execution_count": 81,
     "metadata": {},
     "output_type": "execute_result"
    }
   ],
   "source": [
    "# prediction \n",
    "p2 = m2.predict(testx1)\n",
    "p2"
   ]
  },
  {
   "cell_type": "code",
   "execution_count": 82,
   "id": "322ff193",
   "metadata": {},
   "outputs": [
    {
     "name": "stdout",
     "output_type": "stream",
     "text": [
      "predicted     0     1   All\n",
      "actual                     \n",
      "0          4879  1459  6338\n",
      "1           440  1235  1675\n",
      "All        5319  2694  8013\n",
      "\n",
      "\n",
      "              precision    recall  f1-score   support\n",
      "\n",
      "           0       0.92      0.77      0.84      6338\n",
      "           1       0.46      0.74      0.57      1675\n",
      "\n",
      "    accuracy                           0.76      8013\n",
      "   macro avg       0.69      0.75      0.70      8013\n",
      "weighted avg       0.82      0.76      0.78      8013\n",
      "\n"
     ]
    }
   ],
   "source": [
    "# print confusion matrix and classification report\n",
    "cm(testy1,p2)"
   ]
  },
  {
   "cell_type": "markdown",
   "id": "3546759b",
   "metadata": {},
   "source": [
    "This model has overall accuracy of 76% which is less than the previous model1 but recall has somewhat balanced on both the classes "
   ]
  },
  {
   "cell_type": "markdown",
   "id": "f83440a6",
   "metadata": {},
   "source": [
    "### Handling unbalanced data using SMOTE"
   ]
  },
  {
   "cell_type": "code",
   "execution_count": 44,
   "id": "c4ec4a83",
   "metadata": {},
   "outputs": [],
   "source": [
    "x = vaccine_new.drop('h1n1_vaccine',1)\n",
    "y = vaccine_new.h1n1_vaccine"
   ]
  },
  {
   "cell_type": "code",
   "execution_count": 45,
   "id": "2aa0c658",
   "metadata": {},
   "outputs": [],
   "source": [
    "# Sampling of data \n",
    "sm = SMOTE()\n",
    "smX,smY= sm.fit_resample(x,y)"
   ]
  },
  {
   "cell_type": "code",
   "execution_count": 46,
   "id": "a991af9a",
   "metadata": {},
   "outputs": [],
   "source": [
    "# create new dataset \n",
    "vaccine_smote = smX.join(smY)"
   ]
  },
  {
   "cell_type": "code",
   "execution_count": 47,
   "id": "ab6e9a45",
   "metadata": {},
   "outputs": [
    {
     "data": {
      "text/plain": [
       "<AxesSubplot:xlabel='h1n1_vaccine', ylabel='count'>"
      ]
     },
     "execution_count": 47,
     "metadata": {},
     "output_type": "execute_result"
    },
    {
     "data": {
      "image/png": "[encoded data removed]",
      "text/plain": [
       "<Figure size 432x288 with 1 Axes>"
      ]
     },
     "metadata": {
      "needs_background": "light"
     },
     "output_type": "display_data"
    }
   ],
   "source": [
    "# after oversampling check the distribution of y variable \n",
    "sns.countplot(x=vaccine_smote.h1n1_vaccine,data= vaccine_smote)"
   ]
  },
  {
   "cell_type": "code",
   "execution_count": 49,
   "id": "fb97d6b1",
   "metadata": {},
   "outputs": [
    {
     "name": "stdout",
     "output_type": "stream",
     "text": [
      "(29446, 47) (29446,)\n",
      "(12620, 47) (12620,)\n"
     ]
    }
   ],
   "source": [
    "# split the data \n",
    "trainx2,testx2,trainy2,testy2= splitData(vaccine_smote,'h1n1_vaccine',0.3)\n",
    "print(trainx2.shape,trainy2.shape)\n",
    "print(testx2.shape,testy2.shape)"
   ]
  },
  {
   "cell_type": "markdown",
   "id": "0e7dd8e5",
   "metadata": {},
   "source": [
    "### Model 3 "
   ]
  },
  {
   "cell_type": "markdown",
   "id": "9a2c26dd",
   "metadata": {},
   "source": [
    "We will build this model with data that is sampled by using SMOTE technique"
   ]
  },
  {
   "cell_type": "code",
   "execution_count": 50,
   "id": "c88422d3",
   "metadata": {},
   "outputs": [],
   "source": [
    "# build the model \n",
    "m3 = buildModel(trainx2,trainy2)"
   ]
  },
  {
   "cell_type": "code",
   "execution_count": 51,
   "id": "66288149",
   "metadata": {},
   "outputs": [
    {
     "data": {
      "text/plain": [
       "array([0, 1, 1, ..., 0, 1, 1], dtype=int64)"
      ]
     },
     "execution_count": 51,
     "metadata": {},
     "output_type": "execute_result"
    }
   ],
   "source": [
    "# prediction \n",
    "p3 = m3.predict(testx2)\n",
    "p3"
   ]
  },
  {
   "cell_type": "code",
   "execution_count": 52,
   "id": "e49bb9ff",
   "metadata": {},
   "outputs": [
    {
     "name": "stdout",
     "output_type": "stream",
     "text": [
      "predicted     0     1    All\n",
      "actual                      \n",
      "0          5187  1177   6364\n",
      "1          1276  4980   6256\n",
      "All        6463  6157  12620\n",
      "\n",
      "\n",
      "              precision    recall  f1-score   support\n",
      "\n",
      "           0       0.80      0.82      0.81      6364\n",
      "           1       0.81      0.80      0.80      6256\n",
      "\n",
      "    accuracy                           0.81     12620\n",
      "   macro avg       0.81      0.81      0.81     12620\n",
      "weighted avg       0.81      0.81      0.81     12620\n",
      "\n"
     ]
    }
   ],
   "source": [
    "# print confusion matrix and classification report\n",
    "cm(testy2,p3)"
   ]
  },
  {
   "cell_type": "markdown",
   "id": "04cfc272",
   "metadata": {},
   "source": [
    "This model shows an overall accuracy of 81% and has balanced values of precision,recall as well as f1 score"
   ]
  },
  {
   "cell_type": "markdown",
   "id": "e334ac45",
   "metadata": {},
   "source": [
    "### Feature engineering \n",
    "\n",
    "* 1) Combining all the behavioural columns togeter to get behaviour score\n",
    "* 2) Combining opinion columns togeter to get an opinion score \n",
    "* 3) In column race, race other than white show less representation hence combing them to form a single group"
   ]
  },
  {
   "cell_type": "code",
   "execution_count": 60,
   "id": "61adb804",
   "metadata": {},
   "outputs": [],
   "source": [
    "# Making a copy of data for feature engineering so that we do not tamper with our original data \n",
    "vaccine2= vaccine.copy()"
   ]
  },
  {
   "cell_type": "code",
   "execution_count": 61,
   "id": "d4bc5eb1",
   "metadata": {},
   "outputs": [
    {
     "data": {
      "text/plain": [
       "Index(['h1n1_worry', 'h1n1_awareness', 'antiviral_medication',\n",
       "       'contact_avoidance', 'bought_face_mask', 'wash_hands_frequently',\n",
       "       'avoid_large_gatherings', 'reduced_outside_home_cont',\n",
       "       'avoid_touch_face', 'dr_recc_h1n1_vacc', 'dr_recc_seasonal_vacc',\n",
       "       'chronic_medic_condition', 'cont_child_undr_6_mnths',\n",
       "       'is_health_worker', 'has_health_insur', 'is_h1n1_vacc_effective',\n",
       "       'is_h1n1_risky', 'sick_from_h1n1_vacc', 'is_seas_vacc_effective',\n",
       "       'is_seas_risky', 'sick_from_seas_vacc', 'age_bracket', 'qualification',\n",
       "       'race', 'sex', 'income_level', 'marital_status', 'housing_status',\n",
       "       'employment', 'census_msa', 'no_of_adults', 'no_of_children',\n",
       "       'h1n1_vaccine'],\n",
       "      dtype='object')"
      ]
     },
     "execution_count": 61,
     "metadata": {},
     "output_type": "execute_result"
    }
   ],
   "source": [
    "# checking the columns in data \n",
    "vaccine2.columns"
   ]
  },
  {
   "cell_type": "code",
   "execution_count": 62,
   "id": "4e232322",
   "metadata": {},
   "outputs": [],
   "source": [
    "# combining all the behavioural coumns togeter to get behaviour score \n",
    "behaviour_cols = ['contact_avoidance', 'bought_face_mask', 'wash_hands_frequently',\n",
    "       'avoid_large_gatherings', 'reduced_outside_home_cont',\n",
    "       'avoid_touch_face']\n",
    "vaccine2[\"behaviour_score\"]= vaccine2[behaviour_cols].sum(axis = 1)\n",
    "vaccine2.drop(columns=behaviour_cols,inplace=True)"
   ]
  },
  {
   "cell_type": "code",
   "execution_count": 63,
   "id": "d08ca6ed",
   "metadata": {},
   "outputs": [
    {
     "data": {
      "text/html": [
       "<div>\n",
       "<style scoped>\n",
       "    .dataframe tbody tr th:only-of-type {\n",
       "        vertical-align: middle;\n",
       "    }\n",
       "\n",
       "    .dataframe tbody tr th {\n",
       "        vertical-align: top;\n",
       "    }\n",
       "\n",
       "    .dataframe thead th {\n",
       "        text-align: right;\n",
       "    }\n",
       "</style>\n",
       "<table border=\"1\" class=\"dataframe\">\n",
       "  <thead>\n",
       "    <tr style=\"text-align: right;\">\n",
       "      <th></th>\n",
       "      <th>h1n1_worry</th>\n",
       "      <th>h1n1_awareness</th>\n",
       "      <th>antiviral_medication</th>\n",
       "      <th>dr_recc_h1n1_vacc</th>\n",
       "      <th>dr_recc_seasonal_vacc</th>\n",
       "      <th>chronic_medic_condition</th>\n",
       "      <th>cont_child_undr_6_mnths</th>\n",
       "      <th>is_health_worker</th>\n",
       "      <th>has_health_insur</th>\n",
       "      <th>is_h1n1_vacc_effective</th>\n",
       "      <th>...</th>\n",
       "      <th>sex</th>\n",
       "      <th>income_level</th>\n",
       "      <th>marital_status</th>\n",
       "      <th>housing_status</th>\n",
       "      <th>employment</th>\n",
       "      <th>census_msa</th>\n",
       "      <th>no_of_adults</th>\n",
       "      <th>no_of_children</th>\n",
       "      <th>h1n1_vaccine</th>\n",
       "      <th>behaviour_score</th>\n",
       "    </tr>\n",
       "  </thead>\n",
       "  <tbody>\n",
       "    <tr>\n",
       "      <th>0</th>\n",
       "      <td>1.0</td>\n",
       "      <td>0.0</td>\n",
       "      <td>0.0</td>\n",
       "      <td>0.0</td>\n",
       "      <td>0.0</td>\n",
       "      <td>0.0</td>\n",
       "      <td>0.0</td>\n",
       "      <td>0.0</td>\n",
       "      <td>1.0</td>\n",
       "      <td>3.0</td>\n",
       "      <td>...</td>\n",
       "      <td>Female</td>\n",
       "      <td>Below Poverty</td>\n",
       "      <td>Not Married</td>\n",
       "      <td>Own</td>\n",
       "      <td>Not in Labor Force</td>\n",
       "      <td>Non-MSA</td>\n",
       "      <td>0.0</td>\n",
       "      <td>0.0</td>\n",
       "      <td>0</td>\n",
       "      <td>2.0</td>\n",
       "    </tr>\n",
       "    <tr>\n",
       "      <th>1</th>\n",
       "      <td>3.0</td>\n",
       "      <td>2.0</td>\n",
       "      <td>0.0</td>\n",
       "      <td>0.0</td>\n",
       "      <td>0.0</td>\n",
       "      <td>0.0</td>\n",
       "      <td>0.0</td>\n",
       "      <td>0.0</td>\n",
       "      <td>1.0</td>\n",
       "      <td>5.0</td>\n",
       "      <td>...</td>\n",
       "      <td>Male</td>\n",
       "      <td>Below Poverty</td>\n",
       "      <td>Not Married</td>\n",
       "      <td>Rent</td>\n",
       "      <td>Employed</td>\n",
       "      <td>MSA, Not Principle  City</td>\n",
       "      <td>0.0</td>\n",
       "      <td>0.0</td>\n",
       "      <td>0</td>\n",
       "      <td>4.0</td>\n",
       "    </tr>\n",
       "    <tr>\n",
       "      <th>2</th>\n",
       "      <td>1.0</td>\n",
       "      <td>1.0</td>\n",
       "      <td>0.0</td>\n",
       "      <td>0.0</td>\n",
       "      <td>0.0</td>\n",
       "      <td>1.0</td>\n",
       "      <td>0.0</td>\n",
       "      <td>0.0</td>\n",
       "      <td>1.0</td>\n",
       "      <td>3.0</td>\n",
       "      <td>...</td>\n",
       "      <td>Male</td>\n",
       "      <td>&lt;= $75,000, Above Poverty</td>\n",
       "      <td>Not Married</td>\n",
       "      <td>Own</td>\n",
       "      <td>Employed</td>\n",
       "      <td>MSA, Not Principle  City</td>\n",
       "      <td>2.0</td>\n",
       "      <td>0.0</td>\n",
       "      <td>0</td>\n",
       "      <td>1.0</td>\n",
       "    </tr>\n",
       "    <tr>\n",
       "      <th>3</th>\n",
       "      <td>1.0</td>\n",
       "      <td>1.0</td>\n",
       "      <td>0.0</td>\n",
       "      <td>0.0</td>\n",
       "      <td>1.0</td>\n",
       "      <td>1.0</td>\n",
       "      <td>0.0</td>\n",
       "      <td>0.0</td>\n",
       "      <td>1.0</td>\n",
       "      <td>3.0</td>\n",
       "      <td>...</td>\n",
       "      <td>Female</td>\n",
       "      <td>Below Poverty</td>\n",
       "      <td>Not Married</td>\n",
       "      <td>Rent</td>\n",
       "      <td>Not in Labor Force</td>\n",
       "      <td>MSA, Principle City</td>\n",
       "      <td>0.0</td>\n",
       "      <td>0.0</td>\n",
       "      <td>0</td>\n",
       "      <td>3.0</td>\n",
       "    </tr>\n",
       "    <tr>\n",
       "      <th>4</th>\n",
       "      <td>2.0</td>\n",
       "      <td>1.0</td>\n",
       "      <td>0.0</td>\n",
       "      <td>0.0</td>\n",
       "      <td>0.0</td>\n",
       "      <td>0.0</td>\n",
       "      <td>0.0</td>\n",
       "      <td>0.0</td>\n",
       "      <td>1.0</td>\n",
       "      <td>3.0</td>\n",
       "      <td>...</td>\n",
       "      <td>Female</td>\n",
       "      <td>&lt;= $75,000, Above Poverty</td>\n",
       "      <td>Married</td>\n",
       "      <td>Own</td>\n",
       "      <td>Employed</td>\n",
       "      <td>MSA, Not Principle  City</td>\n",
       "      <td>1.0</td>\n",
       "      <td>0.0</td>\n",
       "      <td>0</td>\n",
       "      <td>4.0</td>\n",
       "    </tr>\n",
       "  </tbody>\n",
       "</table>\n",
       "<p>5 rows × 28 columns</p>\n",
       "</div>"
      ],
      "text/plain": [
       "   h1n1_worry  h1n1_awareness  antiviral_medication  dr_recc_h1n1_vacc  \\\n",
       "0         1.0             0.0                   0.0                0.0   \n",
       "1         3.0             2.0                   0.0                0.0   \n",
       "2         1.0             1.0                   0.0                0.0   \n",
       "3         1.0             1.0                   0.0                0.0   \n",
       "4         2.0             1.0                   0.0                0.0   \n",
       "\n",
       "   dr_recc_seasonal_vacc  chronic_medic_condition  cont_child_undr_6_mnths  \\\n",
       "0                    0.0                      0.0                      0.0   \n",
       "1                    0.0                      0.0                      0.0   \n",
       "2                    0.0                      1.0                      0.0   \n",
       "3                    1.0                      1.0                      0.0   \n",
       "4                    0.0                      0.0                      0.0   \n",
       "\n",
       "   is_health_worker  has_health_insur  is_h1n1_vacc_effective  ...     sex  \\\n",
       "0               0.0               1.0                     3.0  ...  Female   \n",
       "1               0.0               1.0                     5.0  ...    Male   \n",
       "2               0.0               1.0                     3.0  ...    Male   \n",
       "3               0.0               1.0                     3.0  ...  Female   \n",
       "4               0.0               1.0                     3.0  ...  Female   \n",
       "\n",
       "                income_level  marital_status  housing_status  \\\n",
       "0              Below Poverty     Not Married             Own   \n",
       "1              Below Poverty     Not Married            Rent   \n",
       "2  <= $75,000, Above Poverty     Not Married             Own   \n",
       "3              Below Poverty     Not Married            Rent   \n",
       "4  <= $75,000, Above Poverty         Married             Own   \n",
       "\n",
       "           employment                census_msa no_of_adults no_of_children  \\\n",
       "0  Not in Labor Force                   Non-MSA          0.0            0.0   \n",
       "1            Employed  MSA, Not Principle  City          0.0            0.0   \n",
       "2            Employed  MSA, Not Principle  City          2.0            0.0   \n",
       "3  Not in Labor Force       MSA, Principle City          0.0            0.0   \n",
       "4            Employed  MSA, Not Principle  City          1.0            0.0   \n",
       "\n",
       "  h1n1_vaccine behaviour_score  \n",
       "0            0             2.0  \n",
       "1            0             4.0  \n",
       "2            0             1.0  \n",
       "3            0             3.0  \n",
       "4            0             4.0  \n",
       "\n",
       "[5 rows x 28 columns]"
      ]
     },
     "execution_count": 63,
     "metadata": {},
     "output_type": "execute_result"
    }
   ],
   "source": [
    "vaccine2.head(5)"
   ]
  },
  {
   "cell_type": "code",
   "execution_count": 64,
   "id": "82c90881",
   "metadata": {},
   "outputs": [],
   "source": [
    "# similarly combining opinion columns togeter to get an opinion score \n",
    "opinion_cols = ['is_h1n1_vacc_effective','is_h1n1_risky', 'sick_from_h1n1_vacc', 'is_seas_vacc_effective',\n",
    "               'is_seas_risky', 'sick_from_seas_vacc']\n",
    "\n",
    "vaccine2[\"opinion_score\"]= vaccine2[opinion_cols].sum(axis=1)\n",
    "vaccine2.drop(columns = opinion_cols, inplace = True )"
   ]
  },
  {
   "cell_type": "code",
   "execution_count": 65,
   "id": "cc4fa469",
   "metadata": {},
   "outputs": [
    {
     "data": {
      "text/html": [
       "<div>\n",
       "<style scoped>\n",
       "    .dataframe tbody tr th:only-of-type {\n",
       "        vertical-align: middle;\n",
       "    }\n",
       "\n",
       "    .dataframe tbody tr th {\n",
       "        vertical-align: top;\n",
       "    }\n",
       "\n",
       "    .dataframe thead th {\n",
       "        text-align: right;\n",
       "    }\n",
       "</style>\n",
       "<table border=\"1\" class=\"dataframe\">\n",
       "  <thead>\n",
       "    <tr style=\"text-align: right;\">\n",
       "      <th></th>\n",
       "      <th>h1n1_worry</th>\n",
       "      <th>h1n1_awareness</th>\n",
       "      <th>antiviral_medication</th>\n",
       "      <th>dr_recc_h1n1_vacc</th>\n",
       "      <th>dr_recc_seasonal_vacc</th>\n",
       "      <th>chronic_medic_condition</th>\n",
       "      <th>cont_child_undr_6_mnths</th>\n",
       "      <th>is_health_worker</th>\n",
       "      <th>has_health_insur</th>\n",
       "      <th>age_bracket</th>\n",
       "      <th>...</th>\n",
       "      <th>income_level</th>\n",
       "      <th>marital_status</th>\n",
       "      <th>housing_status</th>\n",
       "      <th>employment</th>\n",
       "      <th>census_msa</th>\n",
       "      <th>no_of_adults</th>\n",
       "      <th>no_of_children</th>\n",
       "      <th>h1n1_vaccine</th>\n",
       "      <th>behaviour_score</th>\n",
       "      <th>opinion_score</th>\n",
       "    </tr>\n",
       "  </thead>\n",
       "  <tbody>\n",
       "    <tr>\n",
       "      <th>0</th>\n",
       "      <td>1.0</td>\n",
       "      <td>0.0</td>\n",
       "      <td>0.0</td>\n",
       "      <td>0.0</td>\n",
       "      <td>0.0</td>\n",
       "      <td>0.0</td>\n",
       "      <td>0.0</td>\n",
       "      <td>0.0</td>\n",
       "      <td>1.0</td>\n",
       "      <td>55 - 64 Years</td>\n",
       "      <td>...</td>\n",
       "      <td>Below Poverty</td>\n",
       "      <td>Not Married</td>\n",
       "      <td>Own</td>\n",
       "      <td>Not in Labor Force</td>\n",
       "      <td>Non-MSA</td>\n",
       "      <td>0.0</td>\n",
       "      <td>0.0</td>\n",
       "      <td>0</td>\n",
       "      <td>2.0</td>\n",
       "      <td>11.0</td>\n",
       "    </tr>\n",
       "    <tr>\n",
       "      <th>1</th>\n",
       "      <td>3.0</td>\n",
       "      <td>2.0</td>\n",
       "      <td>0.0</td>\n",
       "      <td>0.0</td>\n",
       "      <td>0.0</td>\n",
       "      <td>0.0</td>\n",
       "      <td>0.0</td>\n",
       "      <td>0.0</td>\n",
       "      <td>1.0</td>\n",
       "      <td>35 - 44 Years</td>\n",
       "      <td>...</td>\n",
       "      <td>Below Poverty</td>\n",
       "      <td>Not Married</td>\n",
       "      <td>Rent</td>\n",
       "      <td>Employed</td>\n",
       "      <td>MSA, Not Principle  City</td>\n",
       "      <td>0.0</td>\n",
       "      <td>0.0</td>\n",
       "      <td>0</td>\n",
       "      <td>4.0</td>\n",
       "      <td>23.0</td>\n",
       "    </tr>\n",
       "    <tr>\n",
       "      <th>2</th>\n",
       "      <td>1.0</td>\n",
       "      <td>1.0</td>\n",
       "      <td>0.0</td>\n",
       "      <td>0.0</td>\n",
       "      <td>0.0</td>\n",
       "      <td>1.0</td>\n",
       "      <td>0.0</td>\n",
       "      <td>0.0</td>\n",
       "      <td>1.0</td>\n",
       "      <td>18 - 34 Years</td>\n",
       "      <td>...</td>\n",
       "      <td>&lt;= $75,000, Above Poverty</td>\n",
       "      <td>Not Married</td>\n",
       "      <td>Own</td>\n",
       "      <td>Employed</td>\n",
       "      <td>MSA, Not Principle  City</td>\n",
       "      <td>2.0</td>\n",
       "      <td>0.0</td>\n",
       "      <td>0</td>\n",
       "      <td>1.0</td>\n",
       "      <td>12.0</td>\n",
       "    </tr>\n",
       "    <tr>\n",
       "      <th>3</th>\n",
       "      <td>1.0</td>\n",
       "      <td>1.0</td>\n",
       "      <td>0.0</td>\n",
       "      <td>0.0</td>\n",
       "      <td>1.0</td>\n",
       "      <td>1.0</td>\n",
       "      <td>0.0</td>\n",
       "      <td>0.0</td>\n",
       "      <td>1.0</td>\n",
       "      <td>65+ Years</td>\n",
       "      <td>...</td>\n",
       "      <td>Below Poverty</td>\n",
       "      <td>Not Married</td>\n",
       "      <td>Rent</td>\n",
       "      <td>Not in Labor Force</td>\n",
       "      <td>MSA, Principle City</td>\n",
       "      <td>0.0</td>\n",
       "      <td>0.0</td>\n",
       "      <td>0</td>\n",
       "      <td>3.0</td>\n",
       "      <td>21.0</td>\n",
       "    </tr>\n",
       "    <tr>\n",
       "      <th>4</th>\n",
       "      <td>2.0</td>\n",
       "      <td>1.0</td>\n",
       "      <td>0.0</td>\n",
       "      <td>0.0</td>\n",
       "      <td>0.0</td>\n",
       "      <td>0.0</td>\n",
       "      <td>0.0</td>\n",
       "      <td>0.0</td>\n",
       "      <td>1.0</td>\n",
       "      <td>45 - 54 Years</td>\n",
       "      <td>...</td>\n",
       "      <td>&lt;= $75,000, Above Poverty</td>\n",
       "      <td>Married</td>\n",
       "      <td>Own</td>\n",
       "      <td>Employed</td>\n",
       "      <td>MSA, Not Principle  City</td>\n",
       "      <td>1.0</td>\n",
       "      <td>0.0</td>\n",
       "      <td>0</td>\n",
       "      <td>4.0</td>\n",
       "      <td>16.0</td>\n",
       "    </tr>\n",
       "  </tbody>\n",
       "</table>\n",
       "<p>5 rows × 23 columns</p>\n",
       "</div>"
      ],
      "text/plain": [
       "   h1n1_worry  h1n1_awareness  antiviral_medication  dr_recc_h1n1_vacc  \\\n",
       "0         1.0             0.0                   0.0                0.0   \n",
       "1         3.0             2.0                   0.0                0.0   \n",
       "2         1.0             1.0                   0.0                0.0   \n",
       "3         1.0             1.0                   0.0                0.0   \n",
       "4         2.0             1.0                   0.0                0.0   \n",
       "\n",
       "   dr_recc_seasonal_vacc  chronic_medic_condition  cont_child_undr_6_mnths  \\\n",
       "0                    0.0                      0.0                      0.0   \n",
       "1                    0.0                      0.0                      0.0   \n",
       "2                    0.0                      1.0                      0.0   \n",
       "3                    1.0                      1.0                      0.0   \n",
       "4                    0.0                      0.0                      0.0   \n",
       "\n",
       "   is_health_worker  has_health_insur    age_bracket  ...  \\\n",
       "0               0.0               1.0  55 - 64 Years  ...   \n",
       "1               0.0               1.0  35 - 44 Years  ...   \n",
       "2               0.0               1.0  18 - 34 Years  ...   \n",
       "3               0.0               1.0      65+ Years  ...   \n",
       "4               0.0               1.0  45 - 54 Years  ...   \n",
       "\n",
       "                income_level marital_status housing_status  \\\n",
       "0              Below Poverty    Not Married            Own   \n",
       "1              Below Poverty    Not Married           Rent   \n",
       "2  <= $75,000, Above Poverty    Not Married            Own   \n",
       "3              Below Poverty    Not Married           Rent   \n",
       "4  <= $75,000, Above Poverty        Married            Own   \n",
       "\n",
       "           employment                census_msa no_of_adults no_of_children  \\\n",
       "0  Not in Labor Force                   Non-MSA          0.0            0.0   \n",
       "1            Employed  MSA, Not Principle  City          0.0            0.0   \n",
       "2            Employed  MSA, Not Principle  City          2.0            0.0   \n",
       "3  Not in Labor Force       MSA, Principle City          0.0            0.0   \n",
       "4            Employed  MSA, Not Principle  City          1.0            0.0   \n",
       "\n",
       "  h1n1_vaccine  behaviour_score  opinion_score  \n",
       "0            0              2.0           11.0  \n",
       "1            0              4.0           23.0  \n",
       "2            0              1.0           12.0  \n",
       "3            0              3.0           21.0  \n",
       "4            0              4.0           16.0  \n",
       "\n",
       "[5 rows x 23 columns]"
      ]
     },
     "execution_count": 65,
     "metadata": {},
     "output_type": "execute_result"
    }
   ],
   "source": [
    "vaccine2.head()"
   ]
  },
  {
   "cell_type": "code",
   "execution_count": 66,
   "id": "66b96ac8",
   "metadata": {},
   "outputs": [],
   "source": [
    "vaccine2.race.value_counts()\n",
    "# as race other than white show less representation combing them to form a single group\n",
    "\n",
    "vaccine2[\"race\"] = vaccine2[\"race\"].replace(['Black','Hispanic','Other or Multiple'],'other')"
   ]
  },
  {
   "cell_type": "code",
   "execution_count": 67,
   "id": "bcc99c99",
   "metadata": {},
   "outputs": [
    {
     "data": {
      "text/plain": [
       "White    21222\n",
       "other     5485\n",
       "Name: race, dtype: int64"
      ]
     },
     "execution_count": 67,
     "metadata": {},
     "output_type": "execute_result"
    }
   ],
   "source": [
    "vaccine2.race.value_counts()"
   ]
  },
  {
   "cell_type": "markdown",
   "id": "06d5c449",
   "metadata": {},
   "source": [
    "#### Splitting features into factoral and numeric "
   ]
  },
  {
   "cell_type": "code",
   "execution_count": 68,
   "id": "52d1431d",
   "metadata": {},
   "outputs": [
    {
     "data": {
      "text/plain": [
       "(array(['h1n1_worry', 'h1n1_awareness', 'antiviral_medication',\n",
       "        'dr_recc_h1n1_vacc', 'dr_recc_seasonal_vacc',\n",
       "        'chronic_medic_condition', 'cont_child_undr_6_mnths',\n",
       "        'is_health_worker', 'has_health_insur', 'no_of_adults',\n",
       "        'no_of_children', 'h1n1_vaccine', 'behaviour_score',\n",
       "        'opinion_score'], dtype=object),\n",
       " array(['age_bracket', 'qualification', 'race', 'sex', 'income_level',\n",
       "        'marital_status', 'housing_status', 'employment', 'census_msa'],\n",
       "       dtype=object))"
      ]
     },
     "execution_count": 68,
     "metadata": {},
     "output_type": "execute_result"
    }
   ],
   "source": [
    "# split columns into numeric and factoral\n",
    "nc = vaccine2.select_dtypes(exclude= 'object').columns.values\n",
    "fc = vaccine2.select_dtypes(include='object').columns.values\n",
    "nc,fc"
   ]
  },
  {
   "cell_type": "markdown",
   "id": "78ea96b6",
   "metadata": {},
   "source": [
    "#### Converting factoral features into dummy using one hot encoding "
   ]
  },
  {
   "cell_type": "code",
   "execution_count": 69,
   "id": "f2f5ac9c",
   "metadata": {},
   "outputs": [
    {
     "name": "stdout",
     "output_type": "stream",
     "text": [
      "Index(['h1n1_worry', 'h1n1_awareness', 'antiviral_medication',\n",
      "       'dr_recc_h1n1_vacc', 'dr_recc_seasonal_vacc', 'chronic_medic_condition',\n",
      "       'cont_child_undr_6_mnths', 'is_health_worker', 'has_health_insur',\n",
      "       'age_bracket', 'qualification', 'race', 'sex', 'income_level',\n",
      "       'marital_status', 'housing_status', 'employment', 'census_msa',\n",
      "       'no_of_adults', 'no_of_children', 'h1n1_vaccine', 'behaviour_score',\n",
      "       'opinion_score', 'age_bracket_35 - 44 Years',\n",
      "       'age_bracket_45 - 54 Years', 'age_bracket_55 - 64 Years',\n",
      "       'age_bracket_65+ Years', 'qualification_< 12 Years',\n",
      "       'qualification_College Graduate', 'qualification_Some College',\n",
      "       'qualification_missing', 'race_other', 'sex_Male',\n",
      "       'income_level_> $75,000', 'income_level_Below Poverty',\n",
      "       'income_level_missing', 'marital_status_Not Married',\n",
      "       'marital_status_missing', 'housing_status_Rent',\n",
      "       'housing_status_missing', 'employment_Not in Labor Force',\n",
      "       'employment_Unemployed', 'employment_missing',\n",
      "       'census_msa_MSA, Principle City', 'census_msa_Non-MSA'],\n",
      "      dtype='object')\n"
     ]
    },
    {
     "data": {
      "text/plain": [
       "Index(['h1n1_worry', 'h1n1_awareness', 'antiviral_medication',\n",
       "       'dr_recc_h1n1_vacc', 'dr_recc_seasonal_vacc', 'chronic_medic_condition',\n",
       "       'cont_child_undr_6_mnths', 'is_health_worker', 'has_health_insur',\n",
       "       'no_of_adults', 'no_of_children', 'h1n1_vaccine', 'behaviour_score',\n",
       "       'opinion_score', 'age_bracket_35 - 44 Years',\n",
       "       'age_bracket_45 - 54 Years', 'age_bracket_55 - 64 Years',\n",
       "       'age_bracket_65+ Years', 'qualification_< 12 Years',\n",
       "       'qualification_College Graduate', 'qualification_Some College',\n",
       "       'qualification_missing', 'race_other', 'sex_Male',\n",
       "       'income_level_> $75,000', 'income_level_Below Poverty',\n",
       "       'income_level_missing', 'marital_status_Not Married',\n",
       "       'marital_status_missing', 'housing_status_Rent',\n",
       "       'housing_status_missing', 'employment_Not in Labor Force',\n",
       "       'employment_Unemployed', 'employment_missing',\n",
       "       'census_msa_MSA, Principle City', 'census_msa_Non-MSA'],\n",
       "      dtype='object')"
      ]
     },
     "execution_count": 69,
     "metadata": {},
     "output_type": "execute_result"
    }
   ],
   "source": [
    "# create dummy variable for factoral columns \n",
    "vaccine2_new = vaccine2.copy()\n",
    "\n",
    "for c in fc:\n",
    "    dummy = pd.get_dummies(vaccine2_new[c],drop_first= True, prefix= c)\n",
    "    vaccine2_new = vaccine2_new.join(dummy)\n",
    "print(vaccine2_new.columns)\n",
    "\n",
    "# remove old factor variables \n",
    "vaccine2_new.drop(columns=fc, inplace = True)\n",
    "vaccine2_new.columns"
   ]
  },
  {
   "cell_type": "code",
   "execution_count": 70,
   "id": "5b9b97f4",
   "metadata": {},
   "outputs": [],
   "source": [
    "x = vaccine2_new.drop('h1n1_vaccine',1)\n",
    "y = vaccine2_new.h1n1_vaccine"
   ]
  },
  {
   "cell_type": "markdown",
   "id": "e184c2c9",
   "metadata": {},
   "source": [
    "#### Sampling the Feature Engineered data using Smote "
   ]
  },
  {
   "cell_type": "code",
   "execution_count": 78,
   "id": "48dc57d0",
   "metadata": {},
   "outputs": [],
   "source": [
    "# Sampling the data \n",
    "sm = SMOTE()\n",
    "smX,smY= sm.fit_resample(x,y)"
   ]
  },
  {
   "cell_type": "code",
   "execution_count": 72,
   "id": "a74911d1",
   "metadata": {},
   "outputs": [],
   "source": [
    "# create new dataset \n",
    "vaccine2_smote = smX.join(smY)"
   ]
  },
  {
   "cell_type": "code",
   "execution_count": 73,
   "id": "65945285",
   "metadata": {},
   "outputs": [
    {
     "data": {
      "text/plain": [
       "<AxesSubplot:xlabel='h1n1_vaccine', ylabel='count'>"
      ]
     },
     "execution_count": 73,
     "metadata": {},
     "output_type": "execute_result"
    },
    {
     "data": {
      "image/png": "[encoded data removed]",
      "text/plain": [
       "<Figure size 432x288 with 1 Axes>"
      ]
     },
     "metadata": {
      "needs_background": "light"
     },
     "output_type": "display_data"
    }
   ],
   "source": [
    "# after oversampling check the distribution of y variable \n",
    "sns.countplot(x=vaccine2_smote.h1n1_vaccine,data= vaccine2_smote)"
   ]
  },
  {
   "cell_type": "markdown",
   "id": "ce0af157",
   "metadata": {},
   "source": [
    "#### Splitting the data"
   ]
  },
  {
   "cell_type": "code",
   "execution_count": 74,
   "id": "0ac534b0",
   "metadata": {},
   "outputs": [
    {
     "name": "stdout",
     "output_type": "stream",
     "text": [
      "(29446, 35) (29446,)\n",
      "(12620, 35) (12620,)\n"
     ]
    }
   ],
   "source": [
    "# split the data \n",
    "trainx3,testx3,trainy3,testy3= splitData(vaccine2_smote,'h1n1_vaccine',0.3)\n",
    "\n",
    "print(trainx3.shape,trainy3.shape)\n",
    "print(testx3.shape,testy3.shape)"
   ]
  },
  {
   "cell_type": "markdown",
   "id": "4f0db54c",
   "metadata": {},
   "source": [
    "### Model 4"
   ]
  },
  {
   "cell_type": "markdown",
   "id": "838fdaf6",
   "metadata": {},
   "source": [
    "We will build this model using data that has columns that we have created as part of Feature Engineering "
   ]
  },
  {
   "cell_type": "code",
   "execution_count": 75,
   "id": "ef2af594",
   "metadata": {},
   "outputs": [],
   "source": [
    "# build the model \n",
    "m4 = buildModel(trainx3,trainy3)"
   ]
  },
  {
   "cell_type": "code",
   "execution_count": 76,
   "id": "75fb1146",
   "metadata": {},
   "outputs": [
    {
     "data": {
      "text/plain": [
       "array([0, 1, 1, ..., 1, 1, 1], dtype=int64)"
      ]
     },
     "execution_count": 76,
     "metadata": {},
     "output_type": "execute_result"
    }
   ],
   "source": [
    "# prediction \n",
    "p4 = m4.predict(testx3)\n",
    "p4"
   ]
  },
  {
   "cell_type": "code",
   "execution_count": 77,
   "id": "0cdafcc1",
   "metadata": {},
   "outputs": [
    {
     "name": "stdout",
     "output_type": "stream",
     "text": [
      "predicted     0     1    All\n",
      "actual                      \n",
      "0          5045  1244   6289\n",
      "1          1541  4790   6331\n",
      "All        6586  6034  12620\n",
      "\n",
      "\n",
      "              precision    recall  f1-score   support\n",
      "\n",
      "           0       0.77      0.80      0.78      6289\n",
      "           1       0.79      0.76      0.77      6331\n",
      "\n",
      "    accuracy                           0.78     12620\n",
      "   macro avg       0.78      0.78      0.78     12620\n",
      "weighted avg       0.78      0.78      0.78     12620\n",
      "\n"
     ]
    }
   ],
   "source": [
    "# print confusion matrix and classification report\n",
    "cm(testy3,p4)"
   ]
  },
  {
   "cell_type": "markdown",
   "id": "e3f0ce76",
   "metadata": {},
   "source": [
    "The overall accuracy for this model is 78%  which is less than model 3 "
   ]
  },
  {
   "cell_type": "markdown",
   "id": "91f1756e",
   "metadata": {},
   "source": [
    "### Model 5 : Using logit model from statsmodel"
   ]
  },
  {
   "cell_type": "code",
   "execution_count": 79,
   "id": "d7aae6aa",
   "metadata": {},
   "outputs": [
    {
     "name": "stdout",
     "output_type": "stream",
     "text": [
      "Optimization terminated successfully.\n",
      "         Current function value: 0.436345\n",
      "         Iterations 7\n"
     ]
    }
   ],
   "source": [
    "# Model 5 : Logit model\n",
    "model5 = smapi.Logit(trainy2,trainx2).fit()\n",
    "p5= model5.predict(testx2)"
   ]
  },
  {
   "cell_type": "code",
   "execution_count": 80,
   "id": "e3a111cb",
   "metadata": {},
   "outputs": [
    {
     "name": "stdout",
     "output_type": "stream",
     "text": [
      "                           Logit Regression Results                           \n",
      "==============================================================================\n",
      "Dep. Variable:           h1n1_vaccine   No. Observations:                29446\n",
      "Model:                          Logit   Df Residuals:                    29399\n",
      "Method:                           MLE   Df Model:                           46\n",
      "Date:                Mon, 17 Jan 2022   Pseudo R-squ.:                  0.3705\n",
      "Time:                        19:50:23   Log-Likelihood:                -12849.\n",
      "converged:                       True   LL-Null:                       -20410.\n",
      "Covariance Type:            nonrobust   LLR p-value:                     0.000\n",
      "==================================================================================================\n",
      "                                     coef    std err          z      P>|z|      [0.025      0.975]\n",
      "--------------------------------------------------------------------------------------------------\n",
      "h1n1_worry                        -0.0848      0.022     -3.898      0.000      -0.127      -0.042\n",
      "h1n1_awareness                     0.1667      0.029      5.680      0.000       0.109       0.224\n",
      "antiviral_medication               0.2914      0.077      3.772      0.000       0.140       0.443\n",
      "contact_avoidance                  0.0016      0.041      0.038      0.970      -0.080       0.083\n",
      "bought_face_mask                   0.2066      0.067      3.088      0.002       0.075       0.338\n",
      "wash_hands_frequently             -0.0512      0.051     -1.013      0.311      -0.150       0.048\n",
      "avoid_large_gatherings            -0.2202      0.044     -5.048      0.000      -0.306      -0.135\n",
      "reduced_outside_home_cont         -0.0312      0.044     -0.708      0.479      -0.118       0.055\n",
      "avoid_touch_face                  -0.0082      0.040     -0.206      0.837      -0.086       0.070\n",
      "dr_recc_h1n1_vacc                  2.2539      0.052     43.186      0.000       2.152       2.356\n",
      "dr_recc_seasonal_vacc             -0.5979      0.049    -12.268      0.000      -0.693      -0.502\n",
      "chronic_medic_condition            0.1067      0.038      2.792      0.005       0.032       0.182\n",
      "cont_child_undr_6_mnths           -0.0073      0.062     -0.118      0.906      -0.129       0.114\n",
      "is_health_worker                   0.6593      0.052     12.676      0.000       0.557       0.761\n",
      "has_health_insur                  -0.2118      0.068     -3.095      0.002      -0.346      -0.078\n",
      "is_h1n1_vacc_effective             0.5906      0.021     28.792      0.000       0.550       0.631\n",
      "is_h1n1_risky                      0.3562      0.016     22.620      0.000       0.325       0.387\n",
      "sick_from_h1n1_vacc               -0.0266      0.014     -1.839      0.066      -0.055       0.002\n",
      "is_seas_vacc_effective             0.0768      0.019      3.960      0.000       0.039       0.115\n",
      "is_seas_risky                      0.1548      0.015     10.440      0.000       0.126       0.184\n",
      "sick_from_seas_vacc               -0.1126      0.014     -7.942      0.000      -0.140      -0.085\n",
      "no_of_adults                      -0.3082      0.025    -12.329      0.000      -0.357      -0.259\n",
      "no_of_children                    -0.2153      0.021    -10.085      0.000      -0.257      -0.173\n",
      "age_bracket_35 - 44 Years         -1.3675      0.058    -23.520      0.000      -1.481      -1.253\n",
      "age_bracket_45 - 54 Years         -1.4550      0.051    -28.293      0.000      -1.556      -1.354\n",
      "age_bracket_55 - 64 Years         -1.1627      0.051    -22.865      0.000      -1.262      -1.063\n",
      "age_bracket_65+ Years             -0.8162      0.055    -14.874      0.000      -0.924      -0.709\n",
      "qualification_< 12 Years          -0.9941      0.075    -13.246      0.000      -1.141      -0.847\n",
      "qualification_College Graduate    -0.7389      0.043    -17.185      0.000      -0.823      -0.655\n",
      "qualification_Some College        -1.0758      0.045    -24.038      0.000      -1.163      -0.988\n",
      "qualification_missing             -0.0299      0.195     -0.153      0.878      -0.412       0.352\n",
      "race_Hispanic                     -1.2116      0.087    -13.867      0.000      -1.383      -1.040\n",
      "race_Other or Multiple            -1.3903      0.091    -15.299      0.000      -1.568      -1.212\n",
      "race_White                        -1.0256      0.052    -19.609      0.000      -1.128      -0.923\n",
      "sex_Male                          -0.3328      0.033     -9.962      0.000      -0.398      -0.267\n",
      "income_level_> $75,000            -0.4993      0.043    -11.735      0.000      -0.583      -0.416\n",
      "income_level_Below Poverty        -0.4372      0.070     -6.204      0.000      -0.575      -0.299\n",
      "income_level_missing              -0.6658      0.063    -10.584      0.000      -0.789      -0.542\n",
      "marital_status_Not Married        -0.9329      0.038    -24.268      0.000      -1.008      -0.858\n",
      "marital_status_missing            -0.3177      0.202     -1.575      0.115      -0.713       0.078\n",
      "housing_status_Rent               -0.8558      0.048    -17.763      0.000      -0.950      -0.761\n",
      "housing_status_missing            -0.3225      0.126     -2.553      0.011      -0.570      -0.075\n",
      "employment_Not in Labor Force     -0.4380      0.042    -10.443      0.000      -0.520      -0.356\n",
      "employment_Unemployed             -1.0688      0.098    -10.957      0.000      -1.260      -0.878\n",
      "employment_missing                -0.1060      0.199     -0.534      0.593      -0.495       0.283\n",
      "census_msa_MSA, Principle City    -0.5492      0.038    -14.463      0.000      -0.624      -0.475\n",
      "census_msa_Non-MSA                -0.6905      0.040    -17.332      0.000      -0.769      -0.612\n",
      "==================================================================================================\n"
     ]
    }
   ],
   "source": [
    "# Model Summary :\n",
    "print(model5.summary())"
   ]
  },
  {
   "cell_type": "markdown",
   "id": "ef967af7",
   "metadata": {},
   "source": [
    "* Model is converged.\n",
    "* model p value is below 0.05.\n",
    "* The model summary shows the coefficent of each variables we used to create model."
   ]
  },
  {
   "cell_type": "code",
   "execution_count": 40,
   "id": "98d47c54",
   "metadata": {},
   "outputs": [],
   "source": [
    "# Defining Prediction Threshold:\n",
    "def predictClass(probs,cutoff):\n",
    "    if (0<=cutoff<=1):\n",
    "        P = probs.copy()\n",
    "        P[P < cutoff] = 0\n",
    "        P[P > cutoff] = 1\n",
    "    \n",
    "    return(P.astype(int))"
   ]
  },
  {
   "cell_type": "code",
   "execution_count": 81,
   "id": "543d7540",
   "metadata": {},
   "outputs": [],
   "source": [
    "# Results on threshold of 0.5\n",
    "pred1=predictClass(p5,0.5)"
   ]
  },
  {
   "cell_type": "code",
   "execution_count": 82,
   "id": "564abf8b",
   "metadata": {},
   "outputs": [
    {
     "name": "stdout",
     "output_type": "stream",
     "text": [
      "predicted     0     1    All\n",
      "actual                      \n",
      "0          5152  1212   6364\n",
      "1          1273  4983   6256\n",
      "All        6425  6195  12620\n",
      "\n",
      "\n",
      "              precision    recall  f1-score   support\n",
      "\n",
      "           0       0.80      0.81      0.81      6364\n",
      "           1       0.80      0.80      0.80      6256\n",
      "\n",
      "    accuracy                           0.80     12620\n",
      "   macro avg       0.80      0.80      0.80     12620\n",
      "weighted avg       0.80      0.80      0.80     12620\n",
      "\n"
     ]
    }
   ],
   "source": [
    "# final report of model performance.\n",
    "cm(testy2,pred1)"
   ]
  },
  {
   "cell_type": "markdown",
   "id": "9d40d1cb",
   "metadata": {},
   "source": [
    "This model shows an overall accuracy of 80% and has balanced values of precision,recall as well as f1 score"
   ]
  },
  {
   "cell_type": "markdown",
   "id": "0163de02",
   "metadata": {},
   "source": [
    "### Conclusion \n",
    "* Handling unbalanced data with SMOTE technique gives better results than using class weight parameter of logistic regression\n",
    "* Feature Engineering that we did for this model reduced the accuracy for the model \n",
    "* Statsmodels offers modeling from the perspective of statistics. It gives a detailed summary of the model for interpretation "
   ]
  },
  {
   "cell_type": "code",
   "execution_count": null,
   "id": "035d0fb2",
   "metadata": {},
   "outputs": [],
   "source": []
  }
 ],
 "metadata": {
  "kernelspec": {
   "display_name": "Python 3",
   "language": "python",
   "name": "python3"
  },
  "language_info": {
   "codemirror_mode": {
    "name": "ipython",
    "version": 3
   },
   "file_extension": ".py",
   "mimetype": "text/x-python",
   "name": "python",
   "nbconvert_exporter": "python",
   "pygments_lexer": "ipython3",
   "version": "3.8.8"
  }
 },
 "nbformat": 4,
 "nbformat_minor": 5
}
