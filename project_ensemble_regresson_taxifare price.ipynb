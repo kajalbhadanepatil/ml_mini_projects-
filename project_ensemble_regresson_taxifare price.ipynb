{
 "cells": [
  {
   "cell_type": "markdown",
   "id": "3e0f6264",
   "metadata": {},
   "source": [
    "# Machine learning with Ensemble models - Regression  "
   ]
  },
  {
   "cell_type": "markdown",
   "id": "7ab16908",
   "metadata": {},
   "source": [
    "### Problem Statement:\n",
    "Given pickup and dropoff locations, the pickup timestamp, and the passenger count, the objective is to predict the fare of the taxi ride using ensemble models "
   ]
  },
  {
   "cell_type": "code",
   "execution_count": 37,
   "id": "016e5ad1",
   "metadata": {},
   "outputs": [],
   "source": [
    "# import libraries\n",
    "import pandas as pd \n",
    "import numpy as np \n",
    "import matplotlib.pyplot as plt \n",
    "import warnings\n",
    "warnings.filterwarnings(\"ignore\")\n",
    "\n",
    "from sklearn.model_selection import train_test_split, GridSearchCV\n",
    "from sklearn.ensemble import RandomForestRegressor\n",
    "from sklearn.ensemble import AdaBoostRegressor\n",
    "from sklearn.ensemble import GradientBoostingRegressor\n",
    "import xgboost as xg\n",
    "from sklearn.metrics import mean_squared_error,r2_score"
   ]
  },
  {
   "cell_type": "markdown",
   "id": "0a54b967",
   "metadata": {},
   "source": [
    "### Read the data "
   ]
  },
  {
   "cell_type": "code",
   "execution_count": 3,
   "id": "92be8cc3",
   "metadata": {},
   "outputs": [],
   "source": [
    "# Read the data from local drive\n",
    "taxi = pd.read_csv(r\"D:\\new Data science class\\project\\4. random forest\\Taxi Fare Prediction\\Dataset\\TaxiFare.csv\")"
   ]
  },
  {
   "cell_type": "code",
   "execution_count": 4,
   "id": "dcddf385",
   "metadata": {},
   "outputs": [
    {
     "data": {
      "text/html": [
       "<div>\n",
       "<style scoped>\n",
       "    .dataframe tbody tr th:only-of-type {\n",
       "        vertical-align: middle;\n",
       "    }\n",
       "\n",
       "    .dataframe tbody tr th {\n",
       "        vertical-align: top;\n",
       "    }\n",
       "\n",
       "    .dataframe thead th {\n",
       "        text-align: right;\n",
       "    }\n",
       "</style>\n",
       "<table border=\"1\" class=\"dataframe\">\n",
       "  <thead>\n",
       "    <tr style=\"text-align: right;\">\n",
       "      <th></th>\n",
       "      <th>unique_id</th>\n",
       "      <th>amount</th>\n",
       "      <th>date_time_of_pickup</th>\n",
       "      <th>longitude_of_pickup</th>\n",
       "      <th>latitude_of_pickup</th>\n",
       "      <th>longitude_of_dropoff</th>\n",
       "      <th>latitude_of_dropoff</th>\n",
       "      <th>no_of_passenger</th>\n",
       "    </tr>\n",
       "  </thead>\n",
       "  <tbody>\n",
       "    <tr>\n",
       "      <th>0</th>\n",
       "      <td>26:21.0</td>\n",
       "      <td>4.5</td>\n",
       "      <td>2009-06-15 17:26:21 UTC</td>\n",
       "      <td>-73.844311</td>\n",
       "      <td>40.721319</td>\n",
       "      <td>-73.841610</td>\n",
       "      <td>40.712278</td>\n",
       "      <td>1</td>\n",
       "    </tr>\n",
       "    <tr>\n",
       "      <th>1</th>\n",
       "      <td>52:16.0</td>\n",
       "      <td>16.9</td>\n",
       "      <td>2010-01-05 16:52:16 UTC</td>\n",
       "      <td>-74.016048</td>\n",
       "      <td>40.711303</td>\n",
       "      <td>-73.979268</td>\n",
       "      <td>40.782004</td>\n",
       "      <td>1</td>\n",
       "    </tr>\n",
       "    <tr>\n",
       "      <th>2</th>\n",
       "      <td>35:00.0</td>\n",
       "      <td>5.7</td>\n",
       "      <td>2011-08-18 00:35:00 UTC</td>\n",
       "      <td>-73.982738</td>\n",
       "      <td>40.761270</td>\n",
       "      <td>-73.991242</td>\n",
       "      <td>40.750562</td>\n",
       "      <td>2</td>\n",
       "    </tr>\n",
       "    <tr>\n",
       "      <th>3</th>\n",
       "      <td>30:42.0</td>\n",
       "      <td>7.7</td>\n",
       "      <td>2012-04-21 04:30:42 UTC</td>\n",
       "      <td>-73.987130</td>\n",
       "      <td>40.733143</td>\n",
       "      <td>-73.991567</td>\n",
       "      <td>40.758092</td>\n",
       "      <td>1</td>\n",
       "    </tr>\n",
       "    <tr>\n",
       "      <th>4</th>\n",
       "      <td>51:00.0</td>\n",
       "      <td>5.3</td>\n",
       "      <td>2010-03-09 07:51:00 UTC</td>\n",
       "      <td>-73.968095</td>\n",
       "      <td>40.768008</td>\n",
       "      <td>-73.956655</td>\n",
       "      <td>40.783762</td>\n",
       "      <td>1</td>\n",
       "    </tr>\n",
       "  </tbody>\n",
       "</table>\n",
       "</div>"
      ],
      "text/plain": [
       "  unique_id  amount      date_time_of_pickup  longitude_of_pickup  \\\n",
       "0   26:21.0     4.5  2009-06-15 17:26:21 UTC           -73.844311   \n",
       "1   52:16.0    16.9  2010-01-05 16:52:16 UTC           -74.016048   \n",
       "2   35:00.0     5.7  2011-08-18 00:35:00 UTC           -73.982738   \n",
       "3   30:42.0     7.7  2012-04-21 04:30:42 UTC           -73.987130   \n",
       "4   51:00.0     5.3  2010-03-09 07:51:00 UTC           -73.968095   \n",
       "\n",
       "   latitude_of_pickup  longitude_of_dropoff  latitude_of_dropoff  \\\n",
       "0           40.721319            -73.841610            40.712278   \n",
       "1           40.711303            -73.979268            40.782004   \n",
       "2           40.761270            -73.991242            40.750562   \n",
       "3           40.733143            -73.991567            40.758092   \n",
       "4           40.768008            -73.956655            40.783762   \n",
       "\n",
       "   no_of_passenger  \n",
       "0                1  \n",
       "1                1  \n",
       "2                2  \n",
       "3                1  \n",
       "4                1  "
      ]
     },
     "execution_count": 4,
     "metadata": {},
     "output_type": "execute_result"
    }
   ],
   "source": [
    "#Primary data inspection \n",
    "taxi.head()"
   ]
  },
  {
   "cell_type": "markdown",
   "id": "283446f8",
   "metadata": {},
   "source": [
    "### Data fields \n",
    "* unique_id -- A unique identifier or key for each record in the dataset \n",
    "* date_time_of_pickup -- The time when the ride started \n",
    "* longitude_of_pickup -- Longitude of the taxi ride pickup point \n",
    "* latitude_of_pickup -- Latitude of the taxi ride pickup point \n",
    "* longitude__of_dropoff -- Longitude of the taxi ride dropoff point \n",
    "* latitude_of_dropoff -- Latitude of the taxi ride dropoff point \n",
    "* no_of_passenger -- count of the passengers during the ride \n",
    "* amount(target variable) -- dollar amount of the cost of the taxi ride"
   ]
  },
  {
   "cell_type": "markdown",
   "id": "5ba01dca",
   "metadata": {},
   "source": [
    "### EDA"
   ]
  },
  {
   "cell_type": "code",
   "execution_count": 5,
   "id": "9244c189",
   "metadata": {},
   "outputs": [
    {
     "data": {
      "text/plain": [
       "(50000, 8)"
      ]
     },
     "execution_count": 5,
     "metadata": {},
     "output_type": "execute_result"
    }
   ],
   "source": [
    "# Check no of rows and columns in dataset\n",
    "taxi.shape"
   ]
  },
  {
   "cell_type": "markdown",
   "id": "24c2fb55",
   "metadata": {},
   "source": [
    "* There are 50,000 records\n",
    "* There are 8 fields "
   ]
  },
  {
   "cell_type": "code",
   "execution_count": 6,
   "id": "1699af00",
   "metadata": {},
   "outputs": [
    {
     "data": {
      "text/plain": [
       "unique_id               0\n",
       "amount                  0\n",
       "date_time_of_pickup     0\n",
       "longitude_of_pickup     0\n",
       "latitude_of_pickup      0\n",
       "longitude_of_dropoff    0\n",
       "latitude_of_dropoff     0\n",
       "no_of_passenger         0\n",
       "dtype: int64"
      ]
     },
     "execution_count": 6,
     "metadata": {},
     "output_type": "execute_result"
    }
   ],
   "source": [
    "# check for nulls \n",
    "taxi.isnull().sum()"
   ]
  },
  {
   "cell_type": "markdown",
   "id": "25efc90f",
   "metadata": {},
   "source": [
    "* There are no nulls in the dataset "
   ]
  },
  {
   "cell_type": "code",
   "execution_count": 7,
   "id": "bfa1cd74",
   "metadata": {},
   "outputs": [
    {
     "data": {
      "text/plain": [
       "unique_id                object\n",
       "amount                  float64\n",
       "date_time_of_pickup      object\n",
       "longitude_of_pickup     float64\n",
       "latitude_of_pickup      float64\n",
       "longitude_of_dropoff    float64\n",
       "latitude_of_dropoff     float64\n",
       "no_of_passenger           int64\n",
       "dtype: object"
      ]
     },
     "execution_count": 7,
     "metadata": {},
     "output_type": "execute_result"
    }
   ],
   "source": [
    "# checking the datatypes for fields \n",
    "taxi.dtypes"
   ]
  },
  {
   "cell_type": "markdown",
   "id": "ffc44c4a",
   "metadata": {},
   "source": [
    "* The date_time_of_pickup field is object, we need to convert it into datetime "
   ]
  },
  {
   "cell_type": "code",
   "execution_count": 8,
   "id": "95d9929c",
   "metadata": {},
   "outputs": [
    {
     "data": {
      "text/plain": [
       "Index(['unique_id', 'amount', 'date_time_of_pickup', 'longitude_of_pickup',\n",
       "       'latitude_of_pickup', 'longitude_of_dropoff', 'latitude_of_dropoff',\n",
       "       'no_of_passenger'],\n",
       "      dtype='object')"
      ]
     },
     "execution_count": 8,
     "metadata": {},
     "output_type": "execute_result"
    }
   ],
   "source": [
    "# checking all columns in the dataset \n",
    "taxi.columns"
   ]
  },
  {
   "cell_type": "code",
   "execution_count": 9,
   "id": "207cfe2f",
   "metadata": {},
   "outputs": [
    {
     "data": {
      "text/html": [
       "<div>\n",
       "<style scoped>\n",
       "    .dataframe tbody tr th:only-of-type {\n",
       "        vertical-align: middle;\n",
       "    }\n",
       "\n",
       "    .dataframe tbody tr th {\n",
       "        vertical-align: top;\n",
       "    }\n",
       "\n",
       "    .dataframe thead th {\n",
       "        text-align: right;\n",
       "    }\n",
       "</style>\n",
       "<table border=\"1\" class=\"dataframe\">\n",
       "  <thead>\n",
       "    <tr style=\"text-align: right;\">\n",
       "      <th></th>\n",
       "      <th>amount</th>\n",
       "      <th>longitude_of_pickup</th>\n",
       "      <th>latitude_of_pickup</th>\n",
       "      <th>longitude_of_dropoff</th>\n",
       "      <th>latitude_of_dropoff</th>\n",
       "      <th>no_of_passenger</th>\n",
       "    </tr>\n",
       "  </thead>\n",
       "  <tbody>\n",
       "    <tr>\n",
       "      <th>count</th>\n",
       "      <td>50000.000000</td>\n",
       "      <td>50000.000000</td>\n",
       "      <td>50000.000000</td>\n",
       "      <td>50000.000000</td>\n",
       "      <td>50000.000000</td>\n",
       "      <td>50000.000000</td>\n",
       "    </tr>\n",
       "    <tr>\n",
       "      <th>mean</th>\n",
       "      <td>11.364171</td>\n",
       "      <td>-72.509756</td>\n",
       "      <td>39.933759</td>\n",
       "      <td>-72.504616</td>\n",
       "      <td>39.926251</td>\n",
       "      <td>1.667840</td>\n",
       "    </tr>\n",
       "    <tr>\n",
       "      <th>std</th>\n",
       "      <td>9.685557</td>\n",
       "      <td>10.393860</td>\n",
       "      <td>6.224857</td>\n",
       "      <td>10.407570</td>\n",
       "      <td>6.014737</td>\n",
       "      <td>1.289195</td>\n",
       "    </tr>\n",
       "    <tr>\n",
       "      <th>min</th>\n",
       "      <td>-5.000000</td>\n",
       "      <td>-75.423848</td>\n",
       "      <td>-74.006893</td>\n",
       "      <td>-84.654241</td>\n",
       "      <td>-74.006377</td>\n",
       "      <td>0.000000</td>\n",
       "    </tr>\n",
       "    <tr>\n",
       "      <th>25%</th>\n",
       "      <td>6.000000</td>\n",
       "      <td>-73.992062</td>\n",
       "      <td>40.734880</td>\n",
       "      <td>-73.991152</td>\n",
       "      <td>40.734372</td>\n",
       "      <td>1.000000</td>\n",
       "    </tr>\n",
       "    <tr>\n",
       "      <th>50%</th>\n",
       "      <td>8.500000</td>\n",
       "      <td>-73.981840</td>\n",
       "      <td>40.752678</td>\n",
       "      <td>-73.980082</td>\n",
       "      <td>40.753372</td>\n",
       "      <td>1.000000</td>\n",
       "    </tr>\n",
       "    <tr>\n",
       "      <th>75%</th>\n",
       "      <td>12.500000</td>\n",
       "      <td>-73.967148</td>\n",
       "      <td>40.767360</td>\n",
       "      <td>-73.963584</td>\n",
       "      <td>40.768167</td>\n",
       "      <td>2.000000</td>\n",
       "    </tr>\n",
       "    <tr>\n",
       "      <th>max</th>\n",
       "      <td>200.000000</td>\n",
       "      <td>40.783472</td>\n",
       "      <td>401.083332</td>\n",
       "      <td>40.851027</td>\n",
       "      <td>43.415190</td>\n",
       "      <td>6.000000</td>\n",
       "    </tr>\n",
       "  </tbody>\n",
       "</table>\n",
       "</div>"
      ],
      "text/plain": [
       "             amount  longitude_of_pickup  latitude_of_pickup  \\\n",
       "count  50000.000000         50000.000000        50000.000000   \n",
       "mean      11.364171           -72.509756           39.933759   \n",
       "std        9.685557            10.393860            6.224857   \n",
       "min       -5.000000           -75.423848          -74.006893   \n",
       "25%        6.000000           -73.992062           40.734880   \n",
       "50%        8.500000           -73.981840           40.752678   \n",
       "75%       12.500000           -73.967148           40.767360   \n",
       "max      200.000000            40.783472          401.083332   \n",
       "\n",
       "       longitude_of_dropoff  latitude_of_dropoff  no_of_passenger  \n",
       "count          50000.000000         50000.000000     50000.000000  \n",
       "mean             -72.504616            39.926251         1.667840  \n",
       "std               10.407570             6.014737         1.289195  \n",
       "min              -84.654241           -74.006377         0.000000  \n",
       "25%              -73.991152            40.734372         1.000000  \n",
       "50%              -73.980082            40.753372         1.000000  \n",
       "75%              -73.963584            40.768167         2.000000  \n",
       "max               40.851027            43.415190         6.000000  "
      ]
     },
     "execution_count": 9,
     "metadata": {},
     "output_type": "execute_result"
    }
   ],
   "source": [
    "# Data description of numeric columns \n",
    "taxi.describe()"
   ]
  },
  {
   "cell_type": "markdown",
   "id": "f32a33e0",
   "metadata": {},
   "source": [
    "### Pre- processing "
   ]
  },
  {
   "cell_type": "markdown",
   "id": "a66c198b",
   "metadata": {},
   "source": [
    "#### Dropping rows having negative negative amount "
   ]
  },
  {
   "cell_type": "code",
   "execution_count": 10,
   "id": "5b000a46",
   "metadata": {},
   "outputs": [],
   "source": [
    "# Amount cannot be negative, hence dropping rows having negative amount \n",
    "taxi = taxi.drop(taxi[taxi[\"amount\"]<1].index, axis = 0)"
   ]
  },
  {
   "cell_type": "code",
   "execution_count": 11,
   "id": "18d6a68a",
   "metadata": {},
   "outputs": [
    {
     "data": {
      "text/plain": [
       "count    49990.000000\n",
       "mean        11.366813\n",
       "std          9.684697\n",
       "min          2.500000\n",
       "25%          6.000000\n",
       "50%          8.500000\n",
       "75%         12.500000\n",
       "max        200.000000\n",
       "Name: amount, dtype: float64"
      ]
     },
     "execution_count": 11,
     "metadata": {},
     "output_type": "execute_result"
    }
   ],
   "source": [
    "# Checking wheter the negative amount have been dropped \n",
    "taxi.amount.describe()"
   ]
  },
  {
   "cell_type": "markdown",
   "id": "3b742a9b",
   "metadata": {},
   "source": [
    "#### Converting date_time of pickup into datetime and extracting useful information "
   ]
  },
  {
   "cell_type": "code",
   "execution_count": 12,
   "id": "0aa05901",
   "metadata": {},
   "outputs": [
    {
     "data": {
      "text/plain": [
       "datetime64[ns, UTC]"
      ]
     },
     "execution_count": 12,
     "metadata": {},
     "output_type": "execute_result"
    }
   ],
   "source": [
    "# as date_time of pickup is object converting it to datetime \n",
    "\n",
    "taxi['date_time_of_pickup'] = pd.to_datetime(taxi['date_time_of_pickup'])\n",
    "taxi.date_time_of_pickup.dtypes"
   ]
  },
  {
   "cell_type": "code",
   "execution_count": 13,
   "id": "12dc1f66",
   "metadata": {},
   "outputs": [],
   "source": [
    "# Extraxting information from date_time of pickup\n",
    "\n",
    "taxi[\"year\"] = taxi[\"date_time_of_pickup\"].dt.year\n",
    "taxi[\"month\"] = taxi[\"date_time_of_pickup\"].dt.month\n",
    "taxi[\"date\"]=taxi[\"date_time_of_pickup\"].dt.day\n",
    "taxi[\"day_of_week\"] = taxi[\"date_time_of_pickup\"].dt.dayofweek\n",
    "taxi[\"hour\"] = taxi[\"date_time_of_pickup\"].dt.hour"
   ]
  },
  {
   "cell_type": "markdown",
   "id": "5bc2bf09",
   "metadata": {},
   "source": [
    "#### Creating a column distance to calculate fare as fare depends on distance"
   ]
  },
  {
   "cell_type": "code",
   "execution_count": 14,
   "id": "48dd10e8",
   "metadata": {},
   "outputs": [],
   "source": [
    "# creating distance column to calculate fare as fare depends on distance \n",
    "taxi[\"diff_long\"] = (taxi[\"longitude_of_dropoff\"]- taxi[\"longitude_of_pickup\"]).abs()\n",
    "taxi[\"diff_lat\"] = (taxi[\"latitude_of_dropoff\"]- taxi[\"latitude_of_pickup\"]).abs()"
   ]
  },
  {
   "cell_type": "markdown",
   "id": "5aa64c1a",
   "metadata": {},
   "source": [
    "#### Creating dataframe with only required columns and dropping unwanted columns"
   ]
  },
  {
   "cell_type": "code",
   "execution_count": 16,
   "id": "560a2fda",
   "metadata": {},
   "outputs": [],
   "source": [
    "# drop unwanted columns\n",
    "taxi.drop(columns=['unique_id','date_time_of_pickup',\"longitude_of_dropoff\",\"longitude_of_pickup\",\"latitude_of_dropoff\",\"latitude_of_pickup\"],inplace= True)"
   ]
  },
  {
   "cell_type": "code",
   "execution_count": 17,
   "id": "9dc0a2d0",
   "metadata": {},
   "outputs": [
    {
     "data": {
      "text/html": [
       "<div>\n",
       "<style scoped>\n",
       "    .dataframe tbody tr th:only-of-type {\n",
       "        vertical-align: middle;\n",
       "    }\n",
       "\n",
       "    .dataframe tbody tr th {\n",
       "        vertical-align: top;\n",
       "    }\n",
       "\n",
       "    .dataframe thead th {\n",
       "        text-align: right;\n",
       "    }\n",
       "</style>\n",
       "<table border=\"1\" class=\"dataframe\">\n",
       "  <thead>\n",
       "    <tr style=\"text-align: right;\">\n",
       "      <th></th>\n",
       "      <th>amount</th>\n",
       "      <th>no_of_passenger</th>\n",
       "      <th>year</th>\n",
       "      <th>month</th>\n",
       "      <th>date</th>\n",
       "      <th>day_of_week</th>\n",
       "      <th>hour</th>\n",
       "      <th>diff_long</th>\n",
       "      <th>diff_lat</th>\n",
       "    </tr>\n",
       "  </thead>\n",
       "  <tbody>\n",
       "    <tr>\n",
       "      <th>0</th>\n",
       "      <td>4.5</td>\n",
       "      <td>1</td>\n",
       "      <td>2009</td>\n",
       "      <td>6</td>\n",
       "      <td>15</td>\n",
       "      <td>0</td>\n",
       "      <td>17</td>\n",
       "      <td>0.002701</td>\n",
       "      <td>0.009041</td>\n",
       "    </tr>\n",
       "    <tr>\n",
       "      <th>1</th>\n",
       "      <td>16.9</td>\n",
       "      <td>1</td>\n",
       "      <td>2010</td>\n",
       "      <td>1</td>\n",
       "      <td>5</td>\n",
       "      <td>1</td>\n",
       "      <td>16</td>\n",
       "      <td>0.036780</td>\n",
       "      <td>0.070701</td>\n",
       "    </tr>\n",
       "    <tr>\n",
       "      <th>2</th>\n",
       "      <td>5.7</td>\n",
       "      <td>2</td>\n",
       "      <td>2011</td>\n",
       "      <td>8</td>\n",
       "      <td>18</td>\n",
       "      <td>3</td>\n",
       "      <td>0</td>\n",
       "      <td>0.008504</td>\n",
       "      <td>0.010708</td>\n",
       "    </tr>\n",
       "    <tr>\n",
       "      <th>3</th>\n",
       "      <td>7.7</td>\n",
       "      <td>1</td>\n",
       "      <td>2012</td>\n",
       "      <td>4</td>\n",
       "      <td>21</td>\n",
       "      <td>5</td>\n",
       "      <td>4</td>\n",
       "      <td>0.004437</td>\n",
       "      <td>0.024949</td>\n",
       "    </tr>\n",
       "    <tr>\n",
       "      <th>4</th>\n",
       "      <td>5.3</td>\n",
       "      <td>1</td>\n",
       "      <td>2010</td>\n",
       "      <td>3</td>\n",
       "      <td>9</td>\n",
       "      <td>1</td>\n",
       "      <td>7</td>\n",
       "      <td>0.011440</td>\n",
       "      <td>0.015754</td>\n",
       "    </tr>\n",
       "  </tbody>\n",
       "</table>\n",
       "</div>"
      ],
      "text/plain": [
       "   amount  no_of_passenger  year  month  date  day_of_week  hour  diff_long  \\\n",
       "0     4.5                1  2009      6    15            0    17   0.002701   \n",
       "1    16.9                1  2010      1     5            1    16   0.036780   \n",
       "2     5.7                2  2011      8    18            3     0   0.008504   \n",
       "3     7.7                1  2012      4    21            5     4   0.004437   \n",
       "4     5.3                1  2010      3     9            1     7   0.011440   \n",
       "\n",
       "   diff_lat  \n",
       "0  0.009041  \n",
       "1  0.070701  \n",
       "2  0.010708  \n",
       "3  0.024949  \n",
       "4  0.015754  "
      ]
     },
     "execution_count": 17,
     "metadata": {},
     "output_type": "execute_result"
    }
   ],
   "source": [
    "# final analysis of required dataframe \n",
    "taxi.head()"
   ]
  },
  {
   "cell_type": "code",
   "execution_count": 18,
   "id": "8793d2a8",
   "metadata": {},
   "outputs": [
    {
     "data": {
      "text/plain": [
       "amount             float64\n",
       "no_of_passenger      int64\n",
       "year                 int64\n",
       "month                int64\n",
       "date                 int64\n",
       "day_of_week          int64\n",
       "hour                 int64\n",
       "diff_long          float64\n",
       "diff_lat           float64\n",
       "dtype: object"
      ]
     },
     "execution_count": 18,
     "metadata": {},
     "output_type": "execute_result"
    }
   ],
   "source": [
    "# Final check for the datatypes of required dataframe \n",
    "taxi.dtypes"
   ]
  },
  {
   "cell_type": "markdown",
   "id": "121d93cb",
   "metadata": {},
   "source": [
    "#### Dividing the data into train and test "
   ]
  },
  {
   "cell_type": "code",
   "execution_count": 19,
   "id": "4168fa8a",
   "metadata": {},
   "outputs": [],
   "source": [
    "# train test split\n",
    "trainx, testx, trainy,testy = train_test_split(taxi.drop(\"amount\",1),\n",
    "                                              taxi.amount,\n",
    "                                              test_size= 0.2)"
   ]
  },
  {
   "cell_type": "markdown",
   "id": "36748d1b",
   "metadata": {},
   "source": [
    "### Model1"
   ]
  },
  {
   "cell_type": "code",
   "execution_count": 20,
   "id": "79c191f7",
   "metadata": {},
   "outputs": [
    {
     "data": {
      "text/plain": [
       "RandomForestRegressor()"
      ]
     },
     "execution_count": 20,
     "metadata": {},
     "output_type": "execute_result"
    }
   ],
   "source": [
    "# model building\n",
    "model1 = RandomForestRegressor()\n",
    "model1.fit(trainx,trainy)"
   ]
  },
  {
   "cell_type": "code",
   "execution_count": 23,
   "id": "984c6229",
   "metadata": {},
   "outputs": [
    {
     "name": "stdout",
     "output_type": "stream",
     "text": [
      "model Random Forest Regressor \n",
      "\tmse = 20.1, \n",
      "\trmse = 4.48, \n",
      "\tr2_score= 0.7726795663989037\n"
     ]
    }
   ],
   "source": [
    "# predictions \n",
    "pred1 = model1.predict(testx)\n",
    "\n",
    "# Evaluation\n",
    "mse1 = mean_squared_error(testy,pred1)\n",
    "r1= r2_score(testy,pred1)\n",
    "print(\"model Random Forest Regressor \\n\\tmse = {}, \\n\\trmse = {}, \\n\\tr2_score= {}\".format(round(mse1,2),round(np.sqrt(mse1),2),r1))"
   ]
  },
  {
   "cell_type": "markdown",
   "id": "7dcacc71",
   "metadata": {},
   "source": [
    "* This Baseline model gives a r2_score of 77%"
   ]
  },
  {
   "cell_type": "markdown",
   "id": "522894d9",
   "metadata": {},
   "source": [
    "### Model 2 \n",
    "We will build this model by hyper parameter tuning using gridSearchCV"
   ]
  },
  {
   "cell_type": "code",
   "execution_count": 24,
   "id": "17b5c4f5",
   "metadata": {},
   "outputs": [],
   "source": [
    "# using girdSearchCV\n",
    "# Defining the parameters \n",
    "\n",
    "params = ({'criterion':['squared_error', 'mse'],\n",
    "          'max_depth':np.arange(4,10),\n",
    "          'min_samples_split':np.arange(2,10)})"
   ]
  },
  {
   "cell_type": "code",
   "execution_count": 25,
   "id": "1be1a3b6",
   "metadata": {},
   "outputs": [],
   "source": [
    "# run the gridSearchCV\n",
    "rfreg = RandomForestRegressor()\n",
    "grid = GridSearchCV(rfreg, param_grid = params, scoring = 'neg_mean_squared_error', \n",
    "                    cv= 3, n_jobs=-1).fit(trainx,trainy)"
   ]
  },
  {
   "cell_type": "code",
   "execution_count": 26,
   "id": "43b84c0d",
   "metadata": {},
   "outputs": [
    {
     "data": {
      "text/plain": [
       "{'criterion': 'mse', 'max_depth': 9, 'min_samples_split': 9}"
      ]
     },
     "execution_count": 26,
     "metadata": {},
     "output_type": "execute_result"
    }
   ],
   "source": [
    "# best params \n",
    "bp = grid.best_params_\n",
    "bp"
   ]
  },
  {
   "cell_type": "code",
   "execution_count": 28,
   "id": "acd9ea95",
   "metadata": {},
   "outputs": [],
   "source": [
    "# build the model using best params \n",
    "\n",
    "model2 = RandomForestRegressor(criterion = 'mse',\n",
    "                          max_depth = bp['max_depth'],\n",
    "                          min_samples_split= bp['min_samples_split']).fit(trainx,trainy)"
   ]
  },
  {
   "cell_type": "code",
   "execution_count": 29,
   "id": "7ce9d571",
   "metadata": {},
   "outputs": [],
   "source": [
    "# predictions \n",
    "pred2= model2.predict(testx)"
   ]
  },
  {
   "cell_type": "code",
   "execution_count": 30,
   "id": "1141a93d",
   "metadata": {},
   "outputs": [
    {
     "name": "stdout",
     "output_type": "stream",
     "text": [
      "model Random Forest Regressor \n",
      "\tmse = 17.62, \n",
      "\trmse = 4.2, \n",
      "\tr2_score= 0.8007561961778287\n"
     ]
    }
   ],
   "source": [
    "# Evaluation\n",
    "mse2 = mean_squared_error(testy,pred2)\n",
    "r2= r2_score(testy,pred2)\n",
    "print(\"model Random Forest Regressor \\n\\tmse = {}, \\n\\trmse = {}, \\n\\tr2_score= {}\".format(round(mse2,2),round(np.sqrt(mse2),2),r2))"
   ]
  },
  {
   "cell_type": "markdown",
   "id": "47c3b9de",
   "metadata": {},
   "source": [
    "* The model made by using gridSearchCV has improved the r2_score to 80 %"
   ]
  },
  {
   "cell_type": "code",
   "execution_count": 72,
   "id": "d9410bf5",
   "metadata": {},
   "outputs": [
    {
     "data": {
      "text/html": [
       "<div>\n",
       "<style scoped>\n",
       "    .dataframe tbody tr th:only-of-type {\n",
       "        vertical-align: middle;\n",
       "    }\n",
       "\n",
       "    .dataframe tbody tr th {\n",
       "        vertical-align: top;\n",
       "    }\n",
       "\n",
       "    .dataframe thead th {\n",
       "        text-align: right;\n",
       "    }\n",
       "</style>\n",
       "<table border=\"1\" class=\"dataframe\">\n",
       "  <thead>\n",
       "    <tr style=\"text-align: right;\">\n",
       "      <th></th>\n",
       "      <th>importance</th>\n",
       "    </tr>\n",
       "  </thead>\n",
       "  <tbody>\n",
       "    <tr>\n",
       "      <th>diff_long</th>\n",
       "      <td>0.723064</td>\n",
       "    </tr>\n",
       "    <tr>\n",
       "      <th>diff_lat</th>\n",
       "      <td>0.226937</td>\n",
       "    </tr>\n",
       "    <tr>\n",
       "      <th>year</th>\n",
       "      <td>0.023631</td>\n",
       "    </tr>\n",
       "    <tr>\n",
       "      <th>hour</th>\n",
       "      <td>0.010481</td>\n",
       "    </tr>\n",
       "    <tr>\n",
       "      <th>month</th>\n",
       "      <td>0.005861</td>\n",
       "    </tr>\n",
       "    <tr>\n",
       "      <th>date</th>\n",
       "      <td>0.005128</td>\n",
       "    </tr>\n",
       "    <tr>\n",
       "      <th>day_of_week</th>\n",
       "      <td>0.003445</td>\n",
       "    </tr>\n",
       "    <tr>\n",
       "      <th>no_of_passenger</th>\n",
       "      <td>0.001453</td>\n",
       "    </tr>\n",
       "  </tbody>\n",
       "</table>\n",
       "</div>"
      ],
      "text/plain": [
       "                 importance\n",
       "diff_long          0.723064\n",
       "diff_lat           0.226937\n",
       "year               0.023631\n",
       "hour               0.010481\n",
       "month              0.005861\n",
       "date               0.005128\n",
       "day_of_week        0.003445\n",
       "no_of_passenger    0.001453"
      ]
     },
     "execution_count": 72,
     "metadata": {},
     "output_type": "execute_result"
    }
   ],
   "source": [
    "feat_imp= pd.DataFrame(model2.feature_importances_, trainx.columns, columns= [\"importance\"])\n",
    "\n",
    "feat_imp.sort_values(\"importance\", ascending = False)"
   ]
  },
  {
   "cell_type": "markdown",
   "id": "3ebfe9ce",
   "metadata": {},
   "source": [
    "* We can see that the diff_long and diff_lat have higher importance than all other features. \n",
    "* This means that price is highly dependent on distance travelled "
   ]
  },
  {
   "cell_type": "markdown",
   "id": "44ea0e2b",
   "metadata": {},
   "source": [
    "### Model 3\n",
    "We will build this model using AdaBoostRegressor "
   ]
  },
  {
   "cell_type": "code",
   "execution_count": 32,
   "id": "6935fab3",
   "metadata": {},
   "outputs": [],
   "source": [
    "model3 = AdaBoostRegressor(RandomForestRegressor(max_depth=1),n_estimators=50,learning_rate= 1).fit(trainx,trainy)"
   ]
  },
  {
   "cell_type": "code",
   "execution_count": 33,
   "id": "298f2eb6",
   "metadata": {},
   "outputs": [
    {
     "name": "stdout",
     "output_type": "stream",
     "text": [
      "model Adaboost Regressor \n",
      "\tmse = 45.23, \n",
      "\trmse = 6.73, \n",
      "\tr2_score= 0.4884955033185908\n"
     ]
    }
   ],
   "source": [
    "# predictions \n",
    "pred3 = model3.predict(testx)\n",
    "\n",
    "# Evaluation\n",
    "mse3 = mean_squared_error(testy,pred3)\n",
    "r3= r2_score(testy,pred3)\n",
    "print(\"model Adaboost Regressor \\n\\tmse = {}, \\n\\trmse = {}, \\n\\tr2_score= {}\".format(round(mse3,2),round(np.sqrt(mse3),2),r3))"
   ]
  },
  {
   "cell_type": "markdown",
   "id": "8a8ebf0b",
   "metadata": {},
   "source": [
    "* This model is not performing well "
   ]
  },
  {
   "cell_type": "markdown",
   "id": "779011e7",
   "metadata": {},
   "source": [
    "### Model 4 \n",
    "We will build this model using Gradient Boosting Regressor"
   ]
  },
  {
   "cell_type": "code",
   "execution_count": 35,
   "id": "fb0e3736",
   "metadata": {},
   "outputs": [
    {
     "data": {
      "text/plain": [
       "GradientBoostingRegressor()"
      ]
     },
     "execution_count": 35,
     "metadata": {},
     "output_type": "execute_result"
    }
   ],
   "source": [
    "# Building model\n",
    "model4 = GradientBoostingRegressor()\n",
    "model4.fit(trainx,trainy)"
   ]
  },
  {
   "cell_type": "code",
   "execution_count": 36,
   "id": "5577fb93",
   "metadata": {},
   "outputs": [
    {
     "name": "stdout",
     "output_type": "stream",
     "text": [
      "model Gradient Boosting Regressor \n",
      "\tmse = 17.24, \n",
      "\trmse = 4.15, \n",
      "\tr2_score= 0.8050586677646006\n"
     ]
    }
   ],
   "source": [
    "# predictions \n",
    "pred4 = model4.predict(testx)\n",
    "\n",
    "# Evaluation\n",
    "mse4 = mean_squared_error(testy,pred4)\n",
    "r4= r2_score(testy,pred4)\n",
    "print(\"model Gradient Boosting Regressor \\n\\tmse = {}, \\n\\trmse = {}, \\n\\tr2_score= {}\".format(round(mse4,2),round(np.sqrt(mse4),2),r4))"
   ]
  },
  {
   "cell_type": "markdown",
   "id": "0df18ce8",
   "metadata": {},
   "source": [
    "* This model is giving a r2_score of 80.5% "
   ]
  },
  {
   "cell_type": "markdown",
   "id": "e8e1482c",
   "metadata": {},
   "source": [
    "### Model 5\n",
    "We will build thos model using XGboost Regressor"
   ]
  },
  {
   "cell_type": "code",
   "execution_count": 38,
   "id": "6cab6a65",
   "metadata": {},
   "outputs": [
    {
     "data": {
      "text/plain": [
       "XGBRegressor(base_score=0.5, booster='gbtree', colsample_bylevel=1,\n",
       "             colsample_bynode=1, colsample_bytree=1, enable_categorical=False,\n",
       "             gamma=0, gpu_id=-1, importance_type=None,\n",
       "             interaction_constraints='', learning_rate=0.300000012,\n",
       "             max_delta_step=0, max_depth=6, min_child_weight=1, missing=nan,\n",
       "             monotone_constraints='()', n_estimators=100, n_jobs=8,\n",
       "             num_parallel_tree=1, predictor='auto', random_state=0, reg_alpha=0,\n",
       "             reg_lambda=1, scale_pos_weight=1, subsample=1, tree_method='exact',\n",
       "             validate_parameters=1, verbosity=None)"
      ]
     },
     "execution_count": 38,
     "metadata": {},
     "output_type": "execute_result"
    }
   ],
   "source": [
    "# Building model\n",
    "model5 = xg.XGBRegressor()\n",
    "model5.fit(trainx,trainy)"
   ]
  },
  {
   "cell_type": "code",
   "execution_count": 39,
   "id": "d70c7954",
   "metadata": {},
   "outputs": [
    {
     "name": "stdout",
     "output_type": "stream",
     "text": [
      "model XGBoost Regressor \n",
      "\tmse = 21.11, \n",
      "\trmse = 4.59, \n",
      "\tr2_score= 0.7612624161163248\n"
     ]
    }
   ],
   "source": [
    "# predictions \n",
    "pred5 = model5.predict(testx)\n",
    "\n",
    "# Evaluation\n",
    "mse5 = mean_squared_error(testy,pred5)\n",
    "r5= r2_score(testy,pred5)\n",
    "print(\"model XGBoost Regressor \\n\\tmse = {}, \\n\\trmse = {}, \\n\\tr2_score= {}\".format(round(mse5,2),round(np.sqrt(mse5),2),r5))"
   ]
  },
  {
   "cell_type": "markdown",
   "id": "7aef3f4f",
   "metadata": {},
   "source": [
    "* This model gives an r2_score of 76% "
   ]
  },
  {
   "cell_type": "markdown",
   "id": "2d074aad",
   "metadata": {},
   "source": [
    "### Feature engineering "
   ]
  },
  {
   "cell_type": "markdown",
   "id": "20bbb7ec",
   "metadata": {},
   "source": [
    "We will converte month, dayof week and hour into categorical data"
   ]
  },
  {
   "cell_type": "code",
   "execution_count": 51,
   "id": "0a7c0d09",
   "metadata": {},
   "outputs": [],
   "source": [
    "# make a copy of dataset so that we do not tamper with original dataset \n",
    "taxi2= taxi.copy()"
   ]
  },
  {
   "cell_type": "markdown",
   "id": "5b4c6d87",
   "metadata": {},
   "source": [
    "#### Converting months into seasons as- fall,winter,spring and summer "
   ]
  },
  {
   "cell_type": "code",
   "execution_count": 52,
   "id": "c539cfb8",
   "metadata": {},
   "outputs": [],
   "source": [
    "# converting months into season to reduce the levels \n",
    "taxi2.month.value_counts()\n",
    "taxi2.month.astype('str')\n",
    "taxi2.month = taxi2.month.replace({(9,10,11):'fall',\n",
    "                   (12,1,2):'winter',\n",
    "                    (3,4,5):'spring',\n",
    "                    (6,7,8):'summer'})"
   ]
  },
  {
   "cell_type": "markdown",
   "id": "d468a6d7",
   "metadata": {},
   "source": [
    "#### Converting day of weeek as - weekend and weekday"
   ]
  },
  {
   "cell_type": "code",
   "execution_count": 53,
   "id": "b9ffe590",
   "metadata": {},
   "outputs": [],
   "source": [
    "# converting days of week into weekend and not weekend\n",
    "\n",
    "taxi2.day_of_week.value_counts()\n",
    "taxi2.day_of_week = taxi2.day_of_week.replace({(0,1,2,3,4):'weekday',\n",
    "                                              (5,6):'weekend'})"
   ]
  },
  {
   "cell_type": "markdown",
   "id": "ff022b16",
   "metadata": {},
   "source": [
    "#### Converting hour into intervals as - night, morning,afternoon and evening "
   ]
  },
  {
   "cell_type": "code",
   "execution_count": 54,
   "id": "1956cd74",
   "metadata": {},
   "outputs": [],
   "source": [
    "# splitting hour into 6 hr interval\n",
    "taxi2.hour.value_counts()\n",
    "taxi2.hour = taxi2.hour.replace({(23,24,0,1,2,3,4):'night',\n",
    "                                (5,6,7,8,9,10):'morning',\n",
    "                                (11,12,13,14,15,16):'afternoon',\n",
    "                               (17,18,19,20,21,22):'evening'})"
   ]
  },
  {
   "cell_type": "code",
   "execution_count": 55,
   "id": "4149f789",
   "metadata": {},
   "outputs": [
    {
     "data": {
      "text/plain": [
       "amount             float64\n",
       "no_of_passenger      int64\n",
       "year                 int64\n",
       "month               object\n",
       "date                 int64\n",
       "day_of_week         object\n",
       "hour                object\n",
       "diff_long          float64\n",
       "diff_lat           float64\n",
       "dtype: object"
      ]
     },
     "execution_count": 55,
     "metadata": {},
     "output_type": "execute_result"
    }
   ],
   "source": [
    "# final check on dAtatypes \n",
    "taxi2.dtypes"
   ]
  },
  {
   "cell_type": "markdown",
   "id": "1d29e3a7",
   "metadata": {},
   "source": [
    "* We can see that month, day_of_week and hour which were earlier int has now been converted into object datatype"
   ]
  },
  {
   "cell_type": "markdown",
   "id": "4c63e0f9",
   "metadata": {},
   "source": [
    "### Splitting columns into numeric and categorical "
   ]
  },
  {
   "cell_type": "code",
   "execution_count": 57,
   "id": "9f99dfc4",
   "metadata": {},
   "outputs": [
    {
     "data": {
      "text/plain": [
       "(array(['month', 'day_of_week', 'hour'], dtype=object),\n",
       " array(['amount', 'no_of_passenger', 'year', 'date', 'diff_long',\n",
       "        'diff_lat'], dtype=object))"
      ]
     },
     "execution_count": 57,
     "metadata": {},
     "output_type": "execute_result"
    }
   ],
   "source": [
    "# split columns into categorical and numeric\n",
    "fc = taxi2.select_dtypes(include=\"object\").columns.values\n",
    "nc = taxi2.select_dtypes(exclude = \"object\").columns.values\n",
    "fc,nc"
   ]
  },
  {
   "cell_type": "markdown",
   "id": "f8c79120",
   "metadata": {},
   "source": [
    "### Creating dummy variables for categorical columns"
   ]
  },
  {
   "cell_type": "code",
   "execution_count": 58,
   "id": "6bd92fd6",
   "metadata": {},
   "outputs": [
    {
     "name": "stdout",
     "output_type": "stream",
     "text": [
      "Index(['amount', 'no_of_passenger', 'year', 'month', 'date', 'day_of_week',\n",
      "       'hour', 'diff_long', 'diff_lat', 'month_spring', 'month_summer',\n",
      "       'month_winter', 'day_of_week_weekend', 'hour_evening', 'hour_morning',\n",
      "       'hour_night'],\n",
      "      dtype='object')\n"
     ]
    }
   ],
   "source": [
    "# create dummy variables \n",
    "for c in fc:\n",
    "    dummy = pd.get_dummies(taxi2[c], drop_first= True, prefix = c)\n",
    "    taxi2 = taxi2.join(dummy) \n",
    "print(taxi2.columns)"
   ]
  },
  {
   "cell_type": "code",
   "execution_count": 59,
   "id": "3f2db5ad",
   "metadata": {},
   "outputs": [],
   "source": [
    "# remove old columns \n",
    "taxi2.drop(columns=fc, inplace= True)"
   ]
  },
  {
   "cell_type": "code",
   "execution_count": 60,
   "id": "204defdf",
   "metadata": {},
   "outputs": [
    {
     "data": {
      "text/plain": [
       "Index(['amount', 'no_of_passenger', 'year', 'date', 'diff_long', 'diff_lat',\n",
       "       'month_spring', 'month_summer', 'month_winter', 'day_of_week_weekend',\n",
       "       'hour_evening', 'hour_morning', 'hour_night'],\n",
       "      dtype='object')"
      ]
     },
     "execution_count": 60,
     "metadata": {},
     "output_type": "execute_result"
    }
   ],
   "source": [
    "taxi2.columns"
   ]
  },
  {
   "cell_type": "markdown",
   "id": "4c6448e3",
   "metadata": {},
   "source": [
    "### Splitting data into train and test "
   ]
  },
  {
   "cell_type": "code",
   "execution_count": 61,
   "id": "69502a64",
   "metadata": {},
   "outputs": [],
   "source": [
    "# train test split \n",
    "trainx2,testx2, trainy2, testy2 = train_test_split(taxi2.drop(\"amount\",1),\n",
    "                                                  taxi2.amount,\n",
    "                                                  test_size= 0.2)"
   ]
  },
  {
   "cell_type": "markdown",
   "id": "ddff639b",
   "metadata": {},
   "source": [
    "### Model 6\n",
    "We will build a baseline random forest model with this modified dataset"
   ]
  },
  {
   "cell_type": "code",
   "execution_count": 62,
   "id": "9bf9b587",
   "metadata": {},
   "outputs": [
    {
     "data": {
      "text/plain": [
       "RandomForestRegressor()"
      ]
     },
     "execution_count": 62,
     "metadata": {},
     "output_type": "execute_result"
    }
   ],
   "source": [
    "# model building\n",
    "model6 = RandomForestRegressor()\n",
    "model6.fit(trainx2,trainy2)"
   ]
  },
  {
   "cell_type": "code",
   "execution_count": 69,
   "id": "cd29b90f",
   "metadata": {},
   "outputs": [
    {
     "name": "stdout",
     "output_type": "stream",
     "text": [
      "model Random Forest Regressor \n",
      "\tmse = 22.67, \n",
      "\trmse = 4.76, \n",
      "\tr2_score= 0.7505728357129633\n"
     ]
    }
   ],
   "source": [
    "# predictions \n",
    "pred6 = model6.predict(testx2)\n",
    "\n",
    "# Evaluation\n",
    "mse6 = mean_squared_error(testy2,pred6)\n",
    "r6= r2_score(testy2,pred6)\n",
    "print(\"model Random Forest Regressor \\n\\tmse = {}, \\n\\trmse = {}, \\n\\tr2_score= {}\".format(round(mse6,2),round(np.sqrt(mse6),2),r6))"
   ]
  },
  {
   "cell_type": "markdown",
   "id": "977a876e",
   "metadata": {},
   "source": [
    "* We can see the r2_score is 75 % which is slightly less than model 1 in which we did not use any feature engineering "
   ]
  },
  {
   "cell_type": "markdown",
   "id": "778af439",
   "metadata": {},
   "source": [
    "### Model 7 \n",
    "We us try to build this model by tuning the above baseline model using GridSearchCV to see wether we can achive higher r2_score "
   ]
  },
  {
   "cell_type": "code",
   "execution_count": 64,
   "id": "bbe2e3e5",
   "metadata": {},
   "outputs": [],
   "source": [
    "# build model on grid search cv \n",
    "\n",
    "params2 = ({'criterion':['squared_error', 'mse'],\n",
    "          'max_depth':np.arange(2,10),\n",
    "          'min_samples_split':np.arange(2,10)})"
   ]
  },
  {
   "cell_type": "code",
   "execution_count": 65,
   "id": "8808b03b",
   "metadata": {},
   "outputs": [],
   "source": [
    "# run the gridSearchCV\n",
    "\n",
    "rfreg = RandomForestRegressor()\n",
    "grid2 = GridSearchCV(rfreg, param_grid = params2, scoring = 'neg_mean_squared_error', \n",
    "                    cv= 5, n_jobs=-1).fit(trainx2,trainy2)"
   ]
  },
  {
   "cell_type": "code",
   "execution_count": 66,
   "id": "bf9a0669",
   "metadata": {},
   "outputs": [
    {
     "data": {
      "text/plain": [
       "{'criterion': 'mse', 'max_depth': 8, 'min_samples_split': 8}"
      ]
     },
     "execution_count": 66,
     "metadata": {},
     "output_type": "execute_result"
    }
   ],
   "source": [
    "# best params \n",
    "bp2 = grid2.best_params_\n",
    "bp2"
   ]
  },
  {
   "cell_type": "code",
   "execution_count": 67,
   "id": "4cf35783",
   "metadata": {},
   "outputs": [],
   "source": [
    "# build the model using best params \n",
    "\n",
    "model7 = RandomForestRegressor(criterion = 'mse',\n",
    "                          max_depth = bp2['max_depth'],\n",
    "                          min_samples_split= bp2['min_samples_split']).fit(trainx2,trainy2)"
   ]
  },
  {
   "cell_type": "code",
   "execution_count": 68,
   "id": "773ae6fb",
   "metadata": {},
   "outputs": [],
   "source": [
    "# predictions \n",
    "pred7= model7.predict(testx2)"
   ]
  },
  {
   "cell_type": "code",
   "execution_count": 70,
   "id": "754e58ac",
   "metadata": {},
   "outputs": [
    {
     "name": "stdout",
     "output_type": "stream",
     "text": [
      "model Random Forest Regressor \n",
      "\tmse = 21.71, \n",
      "\trmse = 4.66, \n",
      "\tr2_score= 0.7611274056782187\n"
     ]
    }
   ],
   "source": [
    "# Evaluation\n",
    "mse7 = mean_squared_error(testy2,pred7)\n",
    "r7= r2_score(testy2,pred7)\n",
    "print(\"model Random Forest Regressor \\n\\tmse = {}, \\n\\trmse = {}, \\n\\tr2_score= {}\".format(round(mse7,2),round(np.sqrt(mse7),2),r7))"
   ]
  },
  {
   "cell_type": "markdown",
   "id": "d8beefd6",
   "metadata": {},
   "source": [
    "* This model gives better r2_score than model 6 but not as good as model 2 "
   ]
  },
  {
   "cell_type": "markdown",
   "id": "632aa380",
   "metadata": {},
   "source": [
    "### Results"
   ]
  },
  {
   "cell_type": "code",
   "execution_count": 74,
   "id": "bf0bfc25",
   "metadata": {},
   "outputs": [
    {
     "data": {
      "text/html": [
       "<div>\n",
       "<style scoped>\n",
       "    .dataframe tbody tr th:only-of-type {\n",
       "        vertical-align: middle;\n",
       "    }\n",
       "\n",
       "    .dataframe tbody tr th {\n",
       "        vertical-align: top;\n",
       "    }\n",
       "\n",
       "    .dataframe thead th {\n",
       "        text-align: right;\n",
       "    }\n",
       "</style>\n",
       "<table border=\"1\" class=\"dataframe\">\n",
       "  <thead>\n",
       "    <tr style=\"text-align: right;\">\n",
       "      <th></th>\n",
       "      <th>Alogithrm</th>\n",
       "      <th>Description</th>\n",
       "      <th>Ovearll Accuracy</th>\n",
       "    </tr>\n",
       "  </thead>\n",
       "  <tbody>\n",
       "    <tr>\n",
       "      <th>0</th>\n",
       "      <td>Model 1</td>\n",
       "      <td>Random Forest Regression</td>\n",
       "      <td>0.772680</td>\n",
       "    </tr>\n",
       "    <tr>\n",
       "      <th>1</th>\n",
       "      <td>Model 2</td>\n",
       "      <td>Random Forest Regression with GridSearchCV</td>\n",
       "      <td>0.800756</td>\n",
       "    </tr>\n",
       "    <tr>\n",
       "      <th>2</th>\n",
       "      <td>Model 3</td>\n",
       "      <td>AdaboostRegression</td>\n",
       "      <td>0.488496</td>\n",
       "    </tr>\n",
       "    <tr>\n",
       "      <th>3</th>\n",
       "      <td>Model 4</td>\n",
       "      <td>Gradient Boosting Regression</td>\n",
       "      <td>0.805059</td>\n",
       "    </tr>\n",
       "    <tr>\n",
       "      <th>4</th>\n",
       "      <td>Model 5</td>\n",
       "      <td>XGBoost Regression</td>\n",
       "      <td>0.761262</td>\n",
       "    </tr>\n",
       "    <tr>\n",
       "      <th>5</th>\n",
       "      <td>Model 6</td>\n",
       "      <td>Random Forest Regression with Feature Engineer...</td>\n",
       "      <td>0.750573</td>\n",
       "    </tr>\n",
       "    <tr>\n",
       "      <th>6</th>\n",
       "      <td>Model 7</td>\n",
       "      <td>Random Forest Regression with Feature Engineer...</td>\n",
       "      <td>0.761127</td>\n",
       "    </tr>\n",
       "  </tbody>\n",
       "</table>\n",
       "</div>"
      ],
      "text/plain": [
       "  Alogithrm                                        Description  \\\n",
       "0   Model 1                           Random Forest Regression   \n",
       "1   Model 2         Random Forest Regression with GridSearchCV   \n",
       "2   Model 3                                 AdaboostRegression   \n",
       "3   Model 4                       Gradient Boosting Regression   \n",
       "4   Model 5                                 XGBoost Regression   \n",
       "5   Model 6  Random Forest Regression with Feature Engineer...   \n",
       "6   Model 7  Random Forest Regression with Feature Engineer...   \n",
       "\n",
       "   Ovearll Accuracy  \n",
       "0          0.772680  \n",
       "1          0.800756  \n",
       "2          0.488496  \n",
       "3          0.805059  \n",
       "4          0.761262  \n",
       "5          0.750573  \n",
       "6          0.761127  "
      ]
     },
     "execution_count": 74,
     "metadata": {},
     "output_type": "execute_result"
    }
   ],
   "source": [
    "data= [['Model 1','Random Forest Regression',r1],\n",
    "       ['Model 2','Random Forest Regression with GridSearchCV',r2],\n",
    "       ['Model 3','AdaboostRegression',r3],\n",
    "       ['Model 4','Gradient Boosting Regression',r4],\n",
    "       ['Model 5','XGBoost Regression',r5],\n",
    "       ['Model 6','Random Forest Regression with Feature Engineering ',r6],\n",
    "       ['Model 7','Random Forest Regression with Feature Engineering and GridSearchCV',r7]]\n",
    "       \n",
    "df = pd.DataFrame(data,columns=['Alogithrm','Description','Ovearll Accuracy'])\n",
    "df"
   ]
  },
  {
   "cell_type": "markdown",
   "id": "f8f99dd6",
   "metadata": {},
   "source": [
    "### Conclusion\n",
    "* The Gradient Boosting regression and Random Forest with GridSearchCV gives almost same results \n",
    "* Feature Engineering used in this model was found to reduce the r2_score slightly \n",
    "* Adaboost Regressor is not suitable model for this dataset \n",
    "* The best model for this dataset was found to be GradientBoosting"
   ]
  }
 ],
 "metadata": {
  "kernelspec": {
   "display_name": "Python 3",
   "language": "python",
   "name": "python3"
  },
  "language_info": {
   "codemirror_mode": {
    "name": "ipython",
    "version": 3
   },
   "file_extension": ".py",
   "mimetype": "text/x-python",
   "name": "python",
   "nbconvert_exporter": "python",
   "pygments_lexer": "ipython3",
   "version": "3.8.8"
  }
 },
 "nbformat": 4,
 "nbformat_minor": 5
}
