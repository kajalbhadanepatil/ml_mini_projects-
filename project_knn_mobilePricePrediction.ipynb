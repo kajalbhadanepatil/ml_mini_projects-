{
 "cells": [
  {
   "cell_type": "markdown",
   "id": "4fa407ae",
   "metadata": {},
   "source": [
    "# Machine learning with KNN"
   ]
  },
  {
   "cell_type": "markdown",
   "id": "4e4625d9",
   "metadata": {},
   "source": [
    "## Problem Statement \n",
    "Predict a price range, indicating how high the price is, using K-Nearest Neighbors algorithm."
   ]
  },
  {
   "cell_type": "code",
   "execution_count": 1,
   "id": "c1a07b42",
   "metadata": {},
   "outputs": [],
   "source": [
    "# install libraries \n",
    "import pandas as pd \n",
    "import numpy as np \n",
    "import matplotlib.pyplot as plt \n",
    "import seaborn as sns \n",
    "import warnings \n",
    "warnings.filterwarnings(\"ignore\")\n",
    "from sklearn.preprocessing import MinMaxScaler, StandardScaler\n",
    "from sklearn.model_selection import train_test_split, cross_val_score\n",
    "from sklearn import neighbors\n",
    "from sklearn.metrics import classification_report"
   ]
  },
  {
   "cell_type": "markdown",
   "id": "0463275b",
   "metadata": {},
   "source": [
    "### Read the data "
   ]
  },
  {
   "cell_type": "code",
   "execution_count": 2,
   "id": "3c1ccbfc",
   "metadata": {},
   "outputs": [],
   "source": [
    "# read the file \n",
    "mobile = pd.read_csv(r\"D:\\new Data science class\\project\\6. knn\\Market Positioning of Mobile\\Dataset\\Mobile_data.csv\")"
   ]
  },
  {
   "cell_type": "code",
   "execution_count": 3,
   "id": "8ba58f76",
   "metadata": {
    "scrolled": true
   },
   "outputs": [
    {
     "data": {
      "text/html": [
       "<div>\n",
       "<style scoped>\n",
       "    .dataframe tbody tr th:only-of-type {\n",
       "        vertical-align: middle;\n",
       "    }\n",
       "\n",
       "    .dataframe tbody tr th {\n",
       "        vertical-align: top;\n",
       "    }\n",
       "\n",
       "    .dataframe thead th {\n",
       "        text-align: right;\n",
       "    }\n",
       "</style>\n",
       "<table border=\"1\" class=\"dataframe\">\n",
       "  <thead>\n",
       "    <tr style=\"text-align: right;\">\n",
       "      <th></th>\n",
       "      <th>battery_power</th>\n",
       "      <th>clock_speed</th>\n",
       "      <th>fc</th>\n",
       "      <th>int_memory</th>\n",
       "      <th>m_dep</th>\n",
       "      <th>mobile_wt</th>\n",
       "      <th>n_cores</th>\n",
       "      <th>pc</th>\n",
       "      <th>px_height</th>\n",
       "      <th>px_width</th>\n",
       "      <th>ram</th>\n",
       "      <th>sc_h</th>\n",
       "      <th>sc_w</th>\n",
       "      <th>talk_time</th>\n",
       "      <th>price_range</th>\n",
       "    </tr>\n",
       "  </thead>\n",
       "  <tbody>\n",
       "    <tr>\n",
       "      <th>0</th>\n",
       "      <td>842</td>\n",
       "      <td>2.2</td>\n",
       "      <td>1</td>\n",
       "      <td>7</td>\n",
       "      <td>0.6</td>\n",
       "      <td>188</td>\n",
       "      <td>2</td>\n",
       "      <td>2</td>\n",
       "      <td>20</td>\n",
       "      <td>756</td>\n",
       "      <td>2549</td>\n",
       "      <td>9</td>\n",
       "      <td>7</td>\n",
       "      <td>19</td>\n",
       "      <td>1</td>\n",
       "    </tr>\n",
       "    <tr>\n",
       "      <th>1</th>\n",
       "      <td>1021</td>\n",
       "      <td>0.5</td>\n",
       "      <td>0</td>\n",
       "      <td>53</td>\n",
       "      <td>0.7</td>\n",
       "      <td>136</td>\n",
       "      <td>3</td>\n",
       "      <td>6</td>\n",
       "      <td>905</td>\n",
       "      <td>1988</td>\n",
       "      <td>2631</td>\n",
       "      <td>17</td>\n",
       "      <td>3</td>\n",
       "      <td>7</td>\n",
       "      <td>2</td>\n",
       "    </tr>\n",
       "    <tr>\n",
       "      <th>2</th>\n",
       "      <td>563</td>\n",
       "      <td>0.5</td>\n",
       "      <td>2</td>\n",
       "      <td>41</td>\n",
       "      <td>0.9</td>\n",
       "      <td>145</td>\n",
       "      <td>5</td>\n",
       "      <td>6</td>\n",
       "      <td>1263</td>\n",
       "      <td>1716</td>\n",
       "      <td>2603</td>\n",
       "      <td>11</td>\n",
       "      <td>2</td>\n",
       "      <td>9</td>\n",
       "      <td>2</td>\n",
       "    </tr>\n",
       "    <tr>\n",
       "      <th>3</th>\n",
       "      <td>615</td>\n",
       "      <td>2.5</td>\n",
       "      <td>0</td>\n",
       "      <td>10</td>\n",
       "      <td>0.8</td>\n",
       "      <td>131</td>\n",
       "      <td>6</td>\n",
       "      <td>9</td>\n",
       "      <td>1216</td>\n",
       "      <td>1786</td>\n",
       "      <td>2769</td>\n",
       "      <td>16</td>\n",
       "      <td>8</td>\n",
       "      <td>11</td>\n",
       "      <td>2</td>\n",
       "    </tr>\n",
       "    <tr>\n",
       "      <th>4</th>\n",
       "      <td>1821</td>\n",
       "      <td>1.2</td>\n",
       "      <td>13</td>\n",
       "      <td>44</td>\n",
       "      <td>0.6</td>\n",
       "      <td>141</td>\n",
       "      <td>2</td>\n",
       "      <td>14</td>\n",
       "      <td>1208</td>\n",
       "      <td>1212</td>\n",
       "      <td>1411</td>\n",
       "      <td>8</td>\n",
       "      <td>2</td>\n",
       "      <td>15</td>\n",
       "      <td>1</td>\n",
       "    </tr>\n",
       "  </tbody>\n",
       "</table>\n",
       "</div>"
      ],
      "text/plain": [
       "   battery_power  clock_speed  fc  int_memory  m_dep  mobile_wt  n_cores  pc  \\\n",
       "0            842          2.2   1           7    0.6        188        2   2   \n",
       "1           1021          0.5   0          53    0.7        136        3   6   \n",
       "2            563          0.5   2          41    0.9        145        5   6   \n",
       "3            615          2.5   0          10    0.8        131        6   9   \n",
       "4           1821          1.2  13          44    0.6        141        2  14   \n",
       "\n",
       "   px_height  px_width   ram  sc_h  sc_w  talk_time  price_range  \n",
       "0         20       756  2549     9     7         19            1  \n",
       "1        905      1988  2631    17     3          7            2  \n",
       "2       1263      1716  2603    11     2          9            2  \n",
       "3       1216      1786  2769    16     8         11            2  \n",
       "4       1208      1212  1411     8     2         15            1  "
      ]
     },
     "execution_count": 3,
     "metadata": {},
     "output_type": "execute_result"
    }
   ],
   "source": [
    "# Primary data inspection  \n",
    "mobile.head()"
   ]
  },
  {
   "cell_type": "markdown",
   "id": "23904b94",
   "metadata": {},
   "source": [
    "### Data Fields \n",
    "* battery_power -- Total energy a battery can store in one time measured in mAh\n",
    "* clock_speed -- The speed at which microprocessor executes instructions\n",
    "* fc -- Front Camera megapixels\n",
    "* int_memory -- Internal Memory in Gigabytes\n",
    "* m_dep -- Mobile Depth in cm\n",
    "* mobile_wt -- Weight of the mobile phone\n",
    "* n_cores -- Number of cores of a processor\n",
    "* pc -- Primary Camera megapixels\n",
    "* px_height -- Pixel Resolution Height\n",
    "* px_width -- Pixel Resolution Width\n",
    "* ram -- Random Access Memory in MegaBytes\n",
    "* sc_h -- Screen Height of mobile in cm\n",
    "* sc_w -- Screen Width of mobile in cm\n",
    "* talk_time -- The longest time that a single battery charge will last when you are\n",
    "* price_range (target variable) -- 0(low cost), 1(medium cost), 2(high cost) and 3(very high cost)."
   ]
  },
  {
   "cell_type": "markdown",
   "id": "73b679c8",
   "metadata": {},
   "source": [
    "### EDA"
   ]
  },
  {
   "cell_type": "code",
   "execution_count": 4,
   "id": "34517994",
   "metadata": {},
   "outputs": [
    {
     "data": {
      "text/plain": [
       "(2000, 15)"
      ]
     },
     "execution_count": 4,
     "metadata": {},
     "output_type": "execute_result"
    }
   ],
   "source": [
    "# Check the no of rows and no of columns in dataset\n",
    "mobile.shape"
   ]
  },
  {
   "cell_type": "markdown",
   "id": "593a86b4",
   "metadata": {},
   "source": [
    "* There are 2000 records and 15 fields "
   ]
  },
  {
   "cell_type": "code",
   "execution_count": 5,
   "id": "f35b27ef",
   "metadata": {},
   "outputs": [
    {
     "data": {
      "text/plain": [
       "Index(['battery_power', 'clock_speed', 'fc', 'int_memory', 'm_dep',\n",
       "       'mobile_wt', 'n_cores', 'pc', 'px_height', 'px_width', 'ram', 'sc_h',\n",
       "       'sc_w', 'talk_time', 'price_range'],\n",
       "      dtype='object')"
      ]
     },
     "execution_count": 5,
     "metadata": {},
     "output_type": "execute_result"
    }
   ],
   "source": [
    "# Check all columns in dataset \n",
    "mobile.columns"
   ]
  },
  {
   "cell_type": "code",
   "execution_count": 6,
   "id": "1264dd68",
   "metadata": {},
   "outputs": [
    {
     "name": "stdout",
     "output_type": "stream",
     "text": [
      "<class 'pandas.core.frame.DataFrame'>\n",
      "RangeIndex: 2000 entries, 0 to 1999\n",
      "Data columns (total 15 columns):\n",
      " #   Column         Non-Null Count  Dtype  \n",
      "---  ------         --------------  -----  \n",
      " 0   battery_power  2000 non-null   int64  \n",
      " 1   clock_speed    2000 non-null   float64\n",
      " 2   fc             2000 non-null   int64  \n",
      " 3   int_memory     2000 non-null   int64  \n",
      " 4   m_dep          2000 non-null   float64\n",
      " 5   mobile_wt      2000 non-null   int64  \n",
      " 6   n_cores        2000 non-null   int64  \n",
      " 7   pc             2000 non-null   int64  \n",
      " 8   px_height      2000 non-null   int64  \n",
      " 9   px_width       2000 non-null   int64  \n",
      " 10  ram            2000 non-null   int64  \n",
      " 11  sc_h           2000 non-null   int64  \n",
      " 12  sc_w           2000 non-null   int64  \n",
      " 13  talk_time      2000 non-null   int64  \n",
      " 14  price_range    2000 non-null   int64  \n",
      "dtypes: float64(2), int64(13)\n",
      "memory usage: 234.5 KB\n"
     ]
    }
   ],
   "source": [
    "# Feature information\n",
    "mobile.info()"
   ]
  },
  {
   "cell_type": "markdown",
   "id": "69f09c8d",
   "metadata": {},
   "source": [
    "* There are no nulls in the dataset \n",
    "* All the no object type columns "
   ]
  },
  {
   "cell_type": "code",
   "execution_count": 7,
   "id": "85064bf9",
   "metadata": {},
   "outputs": [
    {
     "data": {
      "text/plain": [
       "0    500\n",
       "1    500\n",
       "2    500\n",
       "3    500\n",
       "Name: price_range, dtype: int64"
      ]
     },
     "execution_count": 7,
     "metadata": {},
     "output_type": "execute_result"
    }
   ],
   "source": [
    "# check distribution of target variable i.e. price_range\n",
    "mobile.price_range.value_counts()"
   ]
  },
  {
   "cell_type": "markdown",
   "id": "ebf8ddde",
   "metadata": {},
   "source": [
    "* The target variable is evenly distributed among al the classes"
   ]
  },
  {
   "cell_type": "code",
   "execution_count": 8,
   "id": "318a3851",
   "metadata": {},
   "outputs": [
    {
     "data": {
      "text/html": [
       "<div>\n",
       "<style scoped>\n",
       "    .dataframe tbody tr th:only-of-type {\n",
       "        vertical-align: middle;\n",
       "    }\n",
       "\n",
       "    .dataframe tbody tr th {\n",
       "        vertical-align: top;\n",
       "    }\n",
       "\n",
       "    .dataframe thead th {\n",
       "        text-align: right;\n",
       "    }\n",
       "</style>\n",
       "<table border=\"1\" class=\"dataframe\">\n",
       "  <thead>\n",
       "    <tr style=\"text-align: right;\">\n",
       "      <th></th>\n",
       "      <th>battery_power</th>\n",
       "      <th>clock_speed</th>\n",
       "      <th>fc</th>\n",
       "      <th>int_memory</th>\n",
       "      <th>m_dep</th>\n",
       "      <th>mobile_wt</th>\n",
       "      <th>n_cores</th>\n",
       "      <th>pc</th>\n",
       "      <th>px_height</th>\n",
       "      <th>px_width</th>\n",
       "      <th>ram</th>\n",
       "      <th>sc_h</th>\n",
       "      <th>sc_w</th>\n",
       "      <th>talk_time</th>\n",
       "      <th>price_range</th>\n",
       "    </tr>\n",
       "  </thead>\n",
       "  <tbody>\n",
       "    <tr>\n",
       "      <th>count</th>\n",
       "      <td>2000.000000</td>\n",
       "      <td>2000.000000</td>\n",
       "      <td>2000.000000</td>\n",
       "      <td>2000.000000</td>\n",
       "      <td>2000.000000</td>\n",
       "      <td>2000.000000</td>\n",
       "      <td>2000.000000</td>\n",
       "      <td>2000.000000</td>\n",
       "      <td>2000.000000</td>\n",
       "      <td>2000.000000</td>\n",
       "      <td>2000.000000</td>\n",
       "      <td>2000.000000</td>\n",
       "      <td>2000.000000</td>\n",
       "      <td>2000.000000</td>\n",
       "      <td>2000.000000</td>\n",
       "    </tr>\n",
       "    <tr>\n",
       "      <th>mean</th>\n",
       "      <td>1238.518500</td>\n",
       "      <td>1.522250</td>\n",
       "      <td>4.309500</td>\n",
       "      <td>32.046500</td>\n",
       "      <td>0.501750</td>\n",
       "      <td>140.249000</td>\n",
       "      <td>4.520500</td>\n",
       "      <td>9.916500</td>\n",
       "      <td>645.108000</td>\n",
       "      <td>1251.515500</td>\n",
       "      <td>2124.213000</td>\n",
       "      <td>12.306500</td>\n",
       "      <td>5.767000</td>\n",
       "      <td>11.011000</td>\n",
       "      <td>1.500000</td>\n",
       "    </tr>\n",
       "    <tr>\n",
       "      <th>std</th>\n",
       "      <td>439.418206</td>\n",
       "      <td>0.816004</td>\n",
       "      <td>4.341444</td>\n",
       "      <td>18.145715</td>\n",
       "      <td>0.288416</td>\n",
       "      <td>35.399655</td>\n",
       "      <td>2.287837</td>\n",
       "      <td>6.064315</td>\n",
       "      <td>443.780811</td>\n",
       "      <td>432.199447</td>\n",
       "      <td>1084.732044</td>\n",
       "      <td>4.213245</td>\n",
       "      <td>4.356398</td>\n",
       "      <td>5.463955</td>\n",
       "      <td>1.118314</td>\n",
       "    </tr>\n",
       "    <tr>\n",
       "      <th>min</th>\n",
       "      <td>501.000000</td>\n",
       "      <td>0.500000</td>\n",
       "      <td>0.000000</td>\n",
       "      <td>2.000000</td>\n",
       "      <td>0.100000</td>\n",
       "      <td>80.000000</td>\n",
       "      <td>1.000000</td>\n",
       "      <td>0.000000</td>\n",
       "      <td>0.000000</td>\n",
       "      <td>500.000000</td>\n",
       "      <td>256.000000</td>\n",
       "      <td>5.000000</td>\n",
       "      <td>0.000000</td>\n",
       "      <td>2.000000</td>\n",
       "      <td>0.000000</td>\n",
       "    </tr>\n",
       "    <tr>\n",
       "      <th>25%</th>\n",
       "      <td>851.750000</td>\n",
       "      <td>0.700000</td>\n",
       "      <td>1.000000</td>\n",
       "      <td>16.000000</td>\n",
       "      <td>0.200000</td>\n",
       "      <td>109.000000</td>\n",
       "      <td>3.000000</td>\n",
       "      <td>5.000000</td>\n",
       "      <td>282.750000</td>\n",
       "      <td>874.750000</td>\n",
       "      <td>1207.500000</td>\n",
       "      <td>9.000000</td>\n",
       "      <td>2.000000</td>\n",
       "      <td>6.000000</td>\n",
       "      <td>0.750000</td>\n",
       "    </tr>\n",
       "    <tr>\n",
       "      <th>50%</th>\n",
       "      <td>1226.000000</td>\n",
       "      <td>1.500000</td>\n",
       "      <td>3.000000</td>\n",
       "      <td>32.000000</td>\n",
       "      <td>0.500000</td>\n",
       "      <td>141.000000</td>\n",
       "      <td>4.000000</td>\n",
       "      <td>10.000000</td>\n",
       "      <td>564.000000</td>\n",
       "      <td>1247.000000</td>\n",
       "      <td>2146.500000</td>\n",
       "      <td>12.000000</td>\n",
       "      <td>5.000000</td>\n",
       "      <td>11.000000</td>\n",
       "      <td>1.500000</td>\n",
       "    </tr>\n",
       "    <tr>\n",
       "      <th>75%</th>\n",
       "      <td>1615.250000</td>\n",
       "      <td>2.200000</td>\n",
       "      <td>7.000000</td>\n",
       "      <td>48.000000</td>\n",
       "      <td>0.800000</td>\n",
       "      <td>170.000000</td>\n",
       "      <td>7.000000</td>\n",
       "      <td>15.000000</td>\n",
       "      <td>947.250000</td>\n",
       "      <td>1633.000000</td>\n",
       "      <td>3064.500000</td>\n",
       "      <td>16.000000</td>\n",
       "      <td>9.000000</td>\n",
       "      <td>16.000000</td>\n",
       "      <td>2.250000</td>\n",
       "    </tr>\n",
       "    <tr>\n",
       "      <th>max</th>\n",
       "      <td>1998.000000</td>\n",
       "      <td>3.000000</td>\n",
       "      <td>19.000000</td>\n",
       "      <td>64.000000</td>\n",
       "      <td>1.000000</td>\n",
       "      <td>200.000000</td>\n",
       "      <td>8.000000</td>\n",
       "      <td>20.000000</td>\n",
       "      <td>1960.000000</td>\n",
       "      <td>1998.000000</td>\n",
       "      <td>3998.000000</td>\n",
       "      <td>19.000000</td>\n",
       "      <td>18.000000</td>\n",
       "      <td>20.000000</td>\n",
       "      <td>3.000000</td>\n",
       "    </tr>\n",
       "  </tbody>\n",
       "</table>\n",
       "</div>"
      ],
      "text/plain": [
       "       battery_power  clock_speed           fc   int_memory        m_dep  \\\n",
       "count    2000.000000  2000.000000  2000.000000  2000.000000  2000.000000   \n",
       "mean     1238.518500     1.522250     4.309500    32.046500     0.501750   \n",
       "std       439.418206     0.816004     4.341444    18.145715     0.288416   \n",
       "min       501.000000     0.500000     0.000000     2.000000     0.100000   \n",
       "25%       851.750000     0.700000     1.000000    16.000000     0.200000   \n",
       "50%      1226.000000     1.500000     3.000000    32.000000     0.500000   \n",
       "75%      1615.250000     2.200000     7.000000    48.000000     0.800000   \n",
       "max      1998.000000     3.000000    19.000000    64.000000     1.000000   \n",
       "\n",
       "         mobile_wt      n_cores           pc    px_height     px_width  \\\n",
       "count  2000.000000  2000.000000  2000.000000  2000.000000  2000.000000   \n",
       "mean    140.249000     4.520500     9.916500   645.108000  1251.515500   \n",
       "std      35.399655     2.287837     6.064315   443.780811   432.199447   \n",
       "min      80.000000     1.000000     0.000000     0.000000   500.000000   \n",
       "25%     109.000000     3.000000     5.000000   282.750000   874.750000   \n",
       "50%     141.000000     4.000000    10.000000   564.000000  1247.000000   \n",
       "75%     170.000000     7.000000    15.000000   947.250000  1633.000000   \n",
       "max     200.000000     8.000000    20.000000  1960.000000  1998.000000   \n",
       "\n",
       "               ram         sc_h         sc_w    talk_time  price_range  \n",
       "count  2000.000000  2000.000000  2000.000000  2000.000000  2000.000000  \n",
       "mean   2124.213000    12.306500     5.767000    11.011000     1.500000  \n",
       "std    1084.732044     4.213245     4.356398     5.463955     1.118314  \n",
       "min     256.000000     5.000000     0.000000     2.000000     0.000000  \n",
       "25%    1207.500000     9.000000     2.000000     6.000000     0.750000  \n",
       "50%    2146.500000    12.000000     5.000000    11.000000     1.500000  \n",
       "75%    3064.500000    16.000000     9.000000    16.000000     2.250000  \n",
       "max    3998.000000    19.000000    18.000000    20.000000     3.000000  "
      ]
     },
     "execution_count": 8,
     "metadata": {},
     "output_type": "execute_result"
    }
   ],
   "source": [
    "# Primary description of all the numeric columns \n",
    "mobile.describe()"
   ]
  },
  {
   "cell_type": "markdown",
   "id": "df4c0b40",
   "metadata": {},
   "source": [
    "#### Check for multicolinearity "
   ]
  },
  {
   "cell_type": "code",
   "execution_count": 9,
   "id": "81dcd1b3",
   "metadata": {},
   "outputs": [
    {
     "data": {
      "image/png": "[encoded data removed]",
      "text/plain": [
       "<Figure size 1440x1080 with 2 Axes>"
      ]
     },
     "metadata": {
      "needs_background": "light"
     },
     "output_type": "display_data"
    }
   ],
   "source": [
    "# check for multicolinearity \n",
    "cor = np.tril(mobile.corr())\n",
    "\n",
    "plt.figure(figsize= (20,15))\n",
    "sns.heatmap(cor, xticklabels= mobile.columns, yticklabels = mobile.columns, annot= True, linewidths= 1)\n",
    "plt.title(\"Heatmap for corelation\")\n",
    "plt.show()"
   ]
  },
  {
   "cell_type": "markdown",
   "id": "ca844d42",
   "metadata": {},
   "source": [
    "* There is no multicolinearity in the variables \n",
    "* But we can see that Ram has high positive corelation with target variable i.e. Price_range "
   ]
  },
  {
   "cell_type": "code",
   "execution_count": 10,
   "id": "22dce48e",
   "metadata": {},
   "outputs": [],
   "source": [
    "# Defining the dependent and independent variables \n",
    "X = mobile.drop('price_range',1)\n",
    "Y = mobile['price_range']"
   ]
  },
  {
   "cell_type": "code",
   "execution_count": 11,
   "id": "dc1873f3",
   "metadata": {},
   "outputs": [
    {
     "name": "stdout",
     "output_type": "stream",
     "text": [
      "unique values in battery_power are 1094\n",
      "unique values in clock_speed are 26\n",
      "unique values in fc are 20\n",
      "unique values in int_memory are 63\n",
      "unique values in m_dep are 10\n",
      "unique values in mobile_wt are 121\n",
      "unique values in n_cores are 8\n",
      "unique values in pc are 21\n",
      "unique values in px_height are 1137\n",
      "unique values in px_width are 1109\n",
      "unique values in ram are 1562\n",
      "unique values in sc_h are 15\n",
      "unique values in sc_w are 19\n",
      "unique values in talk_time are 19\n"
     ]
    }
   ],
   "source": [
    "# check no of unique values \n",
    "\n",
    "for col in X.columns:\n",
    "    n = len(pd.unique(X[col]))\n",
    "    print(\"unique values in {} are {}\".format(col,n))"
   ]
  },
  {
   "cell_type": "markdown",
   "id": "2391f6d9",
   "metadata": {},
   "source": [
    "### Scaling the data - Standard Scalar"
   ]
  },
  {
   "cell_type": "code",
   "execution_count": 13,
   "id": "7eb579ec",
   "metadata": {},
   "outputs": [],
   "source": [
    "# scaling data \n",
    "X_ss = X.copy()\n",
    "\n",
    "# standardScaler \n",
    "ss = StandardScaler()\n",
    "scaled = ss.fit_transform(X_ss.iloc[:,:])\n",
    "X_ss.iloc[:,:] = scaled"
   ]
  },
  {
   "cell_type": "code",
   "execution_count": 14,
   "id": "3957b4d8",
   "metadata": {},
   "outputs": [
    {
     "data": {
      "text/html": [
       "<div>\n",
       "<style scoped>\n",
       "    .dataframe tbody tr th:only-of-type {\n",
       "        vertical-align: middle;\n",
       "    }\n",
       "\n",
       "    .dataframe tbody tr th {\n",
       "        vertical-align: top;\n",
       "    }\n",
       "\n",
       "    .dataframe thead th {\n",
       "        text-align: right;\n",
       "    }\n",
       "</style>\n",
       "<table border=\"1\" class=\"dataframe\">\n",
       "  <thead>\n",
       "    <tr style=\"text-align: right;\">\n",
       "      <th></th>\n",
       "      <th>battery_power</th>\n",
       "      <th>clock_speed</th>\n",
       "      <th>fc</th>\n",
       "      <th>int_memory</th>\n",
       "      <th>m_dep</th>\n",
       "      <th>mobile_wt</th>\n",
       "      <th>n_cores</th>\n",
       "      <th>pc</th>\n",
       "      <th>px_height</th>\n",
       "      <th>px_width</th>\n",
       "      <th>ram</th>\n",
       "      <th>sc_h</th>\n",
       "      <th>sc_w</th>\n",
       "      <th>talk_time</th>\n",
       "    </tr>\n",
       "  </thead>\n",
       "  <tbody>\n",
       "    <tr>\n",
       "      <th>0</th>\n",
       "      <td>-0.902597</td>\n",
       "      <td>0.830779</td>\n",
       "      <td>-0.762495</td>\n",
       "      <td>-1.380644</td>\n",
       "      <td>0.340740</td>\n",
       "      <td>1.349249</td>\n",
       "      <td>-1.101971</td>\n",
       "      <td>-1.305750</td>\n",
       "      <td>-1.408949</td>\n",
       "      <td>-1.146784</td>\n",
       "      <td>0.391703</td>\n",
       "      <td>-0.784983</td>\n",
       "      <td>0.283103</td>\n",
       "      <td>1.462493</td>\n",
       "    </tr>\n",
       "    <tr>\n",
       "      <th>1</th>\n",
       "      <td>-0.495139</td>\n",
       "      <td>-1.253064</td>\n",
       "      <td>-0.992890</td>\n",
       "      <td>1.155024</td>\n",
       "      <td>0.687548</td>\n",
       "      <td>-0.120059</td>\n",
       "      <td>-0.664768</td>\n",
       "      <td>-0.645989</td>\n",
       "      <td>0.585778</td>\n",
       "      <td>1.704465</td>\n",
       "      <td>0.467317</td>\n",
       "      <td>1.114266</td>\n",
       "      <td>-0.635317</td>\n",
       "      <td>-0.734267</td>\n",
       "    </tr>\n",
       "    <tr>\n",
       "      <th>2</th>\n",
       "      <td>-1.537686</td>\n",
       "      <td>-1.253064</td>\n",
       "      <td>-0.532099</td>\n",
       "      <td>0.493546</td>\n",
       "      <td>1.381165</td>\n",
       "      <td>0.134244</td>\n",
       "      <td>0.209639</td>\n",
       "      <td>-0.645989</td>\n",
       "      <td>1.392684</td>\n",
       "      <td>1.074968</td>\n",
       "      <td>0.441498</td>\n",
       "      <td>-0.310171</td>\n",
       "      <td>-0.864922</td>\n",
       "      <td>-0.368140</td>\n",
       "    </tr>\n",
       "    <tr>\n",
       "      <th>3</th>\n",
       "      <td>-1.419319</td>\n",
       "      <td>1.198517</td>\n",
       "      <td>-0.992890</td>\n",
       "      <td>-1.215274</td>\n",
       "      <td>1.034357</td>\n",
       "      <td>-0.261339</td>\n",
       "      <td>0.646842</td>\n",
       "      <td>-0.151168</td>\n",
       "      <td>1.286750</td>\n",
       "      <td>1.236971</td>\n",
       "      <td>0.594569</td>\n",
       "      <td>0.876859</td>\n",
       "      <td>0.512708</td>\n",
       "      <td>-0.002014</td>\n",
       "    </tr>\n",
       "    <tr>\n",
       "      <th>4</th>\n",
       "      <td>1.325906</td>\n",
       "      <td>-0.395011</td>\n",
       "      <td>2.002254</td>\n",
       "      <td>0.658915</td>\n",
       "      <td>0.340740</td>\n",
       "      <td>0.021220</td>\n",
       "      <td>-1.101971</td>\n",
       "      <td>0.673534</td>\n",
       "      <td>1.268718</td>\n",
       "      <td>-0.091452</td>\n",
       "      <td>-0.657666</td>\n",
       "      <td>-1.022389</td>\n",
       "      <td>-0.864922</td>\n",
       "      <td>0.730240</td>\n",
       "    </tr>\n",
       "    <tr>\n",
       "      <th>...</th>\n",
       "      <td>...</td>\n",
       "      <td>...</td>\n",
       "      <td>...</td>\n",
       "      <td>...</td>\n",
       "      <td>...</td>\n",
       "      <td>...</td>\n",
       "      <td>...</td>\n",
       "      <td>...</td>\n",
       "      <td>...</td>\n",
       "      <td>...</td>\n",
       "      <td>...</td>\n",
       "      <td>...</td>\n",
       "      <td>...</td>\n",
       "      <td>...</td>\n",
       "    </tr>\n",
       "    <tr>\n",
       "      <th>1995</th>\n",
       "      <td>-1.011860</td>\n",
       "      <td>-1.253064</td>\n",
       "      <td>-0.992890</td>\n",
       "      <td>-1.656260</td>\n",
       "      <td>1.034357</td>\n",
       "      <td>-0.967737</td>\n",
       "      <td>0.646842</td>\n",
       "      <td>0.673534</td>\n",
       "      <td>1.300273</td>\n",
       "      <td>1.477661</td>\n",
       "      <td>-1.342799</td>\n",
       "      <td>0.164641</td>\n",
       "      <td>-0.405712</td>\n",
       "      <td>1.462493</td>\n",
       "    </tr>\n",
       "    <tr>\n",
       "      <th>1996</th>\n",
       "      <td>1.653694</td>\n",
       "      <td>1.321096</td>\n",
       "      <td>-0.992890</td>\n",
       "      <td>0.383299</td>\n",
       "      <td>-1.046495</td>\n",
       "      <td>1.320993</td>\n",
       "      <td>-0.227564</td>\n",
       "      <td>-1.140810</td>\n",
       "      <td>0.608317</td>\n",
       "      <td>1.651235</td>\n",
       "      <td>-0.085031</td>\n",
       "      <td>-0.310171</td>\n",
       "      <td>0.971917</td>\n",
       "      <td>0.913303</td>\n",
       "    </tr>\n",
       "    <tr>\n",
       "      <th>1997</th>\n",
       "      <td>1.530773</td>\n",
       "      <td>-0.762748</td>\n",
       "      <td>-0.762495</td>\n",
       "      <td>0.217930</td>\n",
       "      <td>0.687548</td>\n",
       "      <td>-0.911225</td>\n",
       "      <td>1.521249</td>\n",
       "      <td>-1.140810</td>\n",
       "      <td>0.502383</td>\n",
       "      <td>0.880565</td>\n",
       "      <td>0.860139</td>\n",
       "      <td>-0.784983</td>\n",
       "      <td>-1.094526</td>\n",
       "      <td>-1.100394</td>\n",
       "    </tr>\n",
       "    <tr>\n",
       "      <th>1998</th>\n",
       "      <td>0.622527</td>\n",
       "      <td>-0.762748</td>\n",
       "      <td>-0.071307</td>\n",
       "      <td>0.769162</td>\n",
       "      <td>-1.393304</td>\n",
       "      <td>0.134244</td>\n",
       "      <td>0.209639</td>\n",
       "      <td>-0.810929</td>\n",
       "      <td>-0.696707</td>\n",
       "      <td>-1.345816</td>\n",
       "      <td>-1.157454</td>\n",
       "      <td>1.351672</td>\n",
       "      <td>0.971917</td>\n",
       "      <td>1.462493</td>\n",
       "    </tr>\n",
       "    <tr>\n",
       "      <th>1999</th>\n",
       "      <td>-1.658331</td>\n",
       "      <td>0.585621</td>\n",
       "      <td>0.159088</td>\n",
       "      <td>0.714039</td>\n",
       "      <td>1.381165</td>\n",
       "      <td>0.784130</td>\n",
       "      <td>0.646842</td>\n",
       "      <td>1.003414</td>\n",
       "      <td>-0.365380</td>\n",
       "      <td>-1.151413</td>\n",
       "      <td>1.655004</td>\n",
       "      <td>1.589078</td>\n",
       "      <td>-0.405712</td>\n",
       "      <td>-1.649584</td>\n",
       "    </tr>\n",
       "  </tbody>\n",
       "</table>\n",
       "<p>2000 rows × 14 columns</p>\n",
       "</div>"
      ],
      "text/plain": [
       "      battery_power  clock_speed        fc  int_memory     m_dep  mobile_wt  \\\n",
       "0         -0.902597     0.830779 -0.762495   -1.380644  0.340740   1.349249   \n",
       "1         -0.495139    -1.253064 -0.992890    1.155024  0.687548  -0.120059   \n",
       "2         -1.537686    -1.253064 -0.532099    0.493546  1.381165   0.134244   \n",
       "3         -1.419319     1.198517 -0.992890   -1.215274  1.034357  -0.261339   \n",
       "4          1.325906    -0.395011  2.002254    0.658915  0.340740   0.021220   \n",
       "...             ...          ...       ...         ...       ...        ...   \n",
       "1995      -1.011860    -1.253064 -0.992890   -1.656260  1.034357  -0.967737   \n",
       "1996       1.653694     1.321096 -0.992890    0.383299 -1.046495   1.320993   \n",
       "1997       1.530773    -0.762748 -0.762495    0.217930  0.687548  -0.911225   \n",
       "1998       0.622527    -0.762748 -0.071307    0.769162 -1.393304   0.134244   \n",
       "1999      -1.658331     0.585621  0.159088    0.714039  1.381165   0.784130   \n",
       "\n",
       "       n_cores        pc  px_height  px_width       ram      sc_h      sc_w  \\\n",
       "0    -1.101971 -1.305750  -1.408949 -1.146784  0.391703 -0.784983  0.283103   \n",
       "1    -0.664768 -0.645989   0.585778  1.704465  0.467317  1.114266 -0.635317   \n",
       "2     0.209639 -0.645989   1.392684  1.074968  0.441498 -0.310171 -0.864922   \n",
       "3     0.646842 -0.151168   1.286750  1.236971  0.594569  0.876859  0.512708   \n",
       "4    -1.101971  0.673534   1.268718 -0.091452 -0.657666 -1.022389 -0.864922   \n",
       "...        ...       ...        ...       ...       ...       ...       ...   \n",
       "1995  0.646842  0.673534   1.300273  1.477661 -1.342799  0.164641 -0.405712   \n",
       "1996 -0.227564 -1.140810   0.608317  1.651235 -0.085031 -0.310171  0.971917   \n",
       "1997  1.521249 -1.140810   0.502383  0.880565  0.860139 -0.784983 -1.094526   \n",
       "1998  0.209639 -0.810929  -0.696707 -1.345816 -1.157454  1.351672  0.971917   \n",
       "1999  0.646842  1.003414  -0.365380 -1.151413  1.655004  1.589078 -0.405712   \n",
       "\n",
       "      talk_time  \n",
       "0      1.462493  \n",
       "1     -0.734267  \n",
       "2     -0.368140  \n",
       "3     -0.002014  \n",
       "4      0.730240  \n",
       "...         ...  \n",
       "1995   1.462493  \n",
       "1996   0.913303  \n",
       "1997  -1.100394  \n",
       "1998   1.462493  \n",
       "1999  -1.649584  \n",
       "\n",
       "[2000 rows x 14 columns]"
      ]
     },
     "execution_count": 14,
     "metadata": {},
     "output_type": "execute_result"
    }
   ],
   "source": [
    "X_ss"
   ]
  },
  {
   "cell_type": "code",
   "execution_count": 15,
   "id": "5b6205c3",
   "metadata": {},
   "outputs": [],
   "source": [
    "# split the data into train and test \n",
    "trainx_ss, testx_ss, trainy_ss, testy_ss = train_test_split(X_ss,Y, test_size = 0.2)"
   ]
  },
  {
   "cell_type": "code",
   "execution_count": 16,
   "id": "8a4c8392",
   "metadata": {},
   "outputs": [],
   "source": [
    "# cross validation for best k \n",
    "cv_accuracy=[]\n",
    "n_list = np.arange(3,12)\n",
    "\n",
    "for n in n_list:\n",
    "    model = neighbors.KNeighborsClassifier(n_neighbors = n).fit(trainx_ss,trainy_ss)\n",
    "    score = cross_val_score(model, trainx_ss, trainy_ss, cv= 10, scoring = 'accuracy')\n",
    "    cv_accuracy.append(score.mean())"
   ]
  },
  {
   "cell_type": "code",
   "execution_count": 17,
   "id": "fd55cba4",
   "metadata": {},
   "outputs": [
    {
     "data": {
      "text/plain": [
       "Text(0, 0.5, 'accuracy')"
      ]
     },
     "execution_count": 17,
     "metadata": {},
     "output_type": "execute_result"
    },
    {
     "data": {
      "image/png": "[encoded data removed]",
      "text/plain": [
       "<Figure size 432x288 with 1 Axes>"
      ]
     },
     "metadata": {
      "needs_background": "light"
     },
     "output_type": "display_data"
    }
   ],
   "source": [
    "# plot cv_accuracy and n_list\n",
    "plt.plot(n_list, cv_accuracy)\n",
    "plt.xlabel('neighbors')\n",
    "plt.ylabel('accuracy')"
   ]
  },
  {
   "cell_type": "code",
   "execution_count": 18,
   "id": "386b7b77",
   "metadata": {},
   "outputs": [],
   "source": [
    "bestK = 8"
   ]
  },
  {
   "cell_type": "markdown",
   "id": "4d6ab18d",
   "metadata": {},
   "source": [
    "### Model 1\n",
    "We will build first knn model with data standardised by Standard scaler "
   ]
  },
  {
   "cell_type": "code",
   "execution_count": 19,
   "id": "b19f0e4c",
   "metadata": {},
   "outputs": [],
   "source": [
    "# build model with best k \n",
    "m1 = neighbors.KNeighborsClassifier(n_neighbors=bestK).fit(trainx_ss,trainy_ss)"
   ]
  },
  {
   "cell_type": "code",
   "execution_count": 20,
   "id": "d9eaebe5",
   "metadata": {},
   "outputs": [],
   "source": [
    "# prediction\n",
    "p1 = m1.predict(testx_ss)"
   ]
  },
  {
   "cell_type": "code",
   "execution_count": 21,
   "id": "60adc706",
   "metadata": {},
   "outputs": [],
   "source": [
    "# classification report and confusion matrix \n",
    "def cm(actual,predicted):\n",
    "    # confusion matrix \n",
    "    df = pd.DataFrame({'actual':actual,'predicted':predicted})\n",
    "    print(pd.crosstab(df.actual,df.predicted))\n",
    "    \n",
    "    print('\\n')\n",
    "    \n",
    "    # classification report\n",
    "    print(classification_report(actual,predicted))\n"
   ]
  },
  {
   "cell_type": "code",
   "execution_count": 22,
   "id": "27a4bfbb",
   "metadata": {},
   "outputs": [
    {
     "name": "stdout",
     "output_type": "stream",
     "text": [
      "predicted   0   1   2   3\n",
      "actual                   \n",
      "0          81  22   0   0\n",
      "1          36  46  22   2\n",
      "2           1  37  57  15\n",
      "3           0   4  17  60\n",
      "\n",
      "\n",
      "              precision    recall  f1-score   support\n",
      "\n",
      "           0       0.69      0.79      0.73       103\n",
      "           1       0.42      0.43      0.43       106\n",
      "           2       0.59      0.52      0.55       110\n",
      "           3       0.78      0.74      0.76        81\n",
      "\n",
      "    accuracy                           0.61       400\n",
      "   macro avg       0.62      0.62      0.62       400\n",
      "weighted avg       0.61      0.61      0.61       400\n",
      "\n"
     ]
    }
   ],
   "source": [
    "cm(testy_ss,p1)"
   ]
  },
  {
   "cell_type": "markdown",
   "id": "e628ae21",
   "metadata": {},
   "source": [
    "* This model gives an overall accuracy of 61%"
   ]
  },
  {
   "cell_type": "markdown",
   "id": "d1647787",
   "metadata": {},
   "source": [
    "### Scaling the data - MinMax Scaler "
   ]
  },
  {
   "cell_type": "code",
   "execution_count": 23,
   "id": "cb9d90f1",
   "metadata": {},
   "outputs": [],
   "source": [
    "# minmax scaler \n",
    "X_mm = X.copy()\n",
    "\n",
    "mm = MinMaxScaler()\n",
    "scaled = mm.fit_transform(X_mm.iloc[:,:])\n",
    "X_mm.iloc[:,:] = scaled "
   ]
  },
  {
   "cell_type": "code",
   "execution_count": 24,
   "id": "0abffbf3",
   "metadata": {},
   "outputs": [],
   "source": [
    "# train_test_split\n",
    "trainx_mm, testx_mm, trainy_mm, testy_mm = train_test_split(X_mm,Y, test_size = 0.2)"
   ]
  },
  {
   "cell_type": "code",
   "execution_count": 25,
   "id": "e2b8b0f9",
   "metadata": {},
   "outputs": [],
   "source": [
    "# cross validation for best k \n",
    "cv_accuracy=[]\n",
    "n_list = np.arange(3,12)\n",
    "\n",
    "for n in n_list:\n",
    "    model = neighbors.KNeighborsClassifier(n_neighbors = n).fit(trainx_mm,trainy_mm)\n",
    "    score = cross_val_score(model, trainx_mm, trainy_mm, cv= 10, scoring = 'accuracy')\n",
    "    cv_accuracy.append(score.mean())"
   ]
  },
  {
   "cell_type": "code",
   "execution_count": 26,
   "id": "c1ce7e8d",
   "metadata": {},
   "outputs": [
    {
     "data": {
      "text/plain": [
       "Text(0, 0.5, 'accuracy')"
      ]
     },
     "execution_count": 26,
     "metadata": {},
     "output_type": "execute_result"
    },
    {
     "data": {
      "image/png": "[encoded data removed]",
      "text/plain": [
       "<Figure size 432x288 with 1 Axes>"
      ]
     },
     "metadata": {
      "needs_background": "light"
     },
     "output_type": "display_data"
    }
   ],
   "source": [
    "# plot cv_accuracy and n_list\n",
    "plt.plot(n_list, cv_accuracy)\n",
    "plt.xlabel('neighbors')\n",
    "plt.ylabel('accuracy')"
   ]
  },
  {
   "cell_type": "code",
   "execution_count": 27,
   "id": "08e351a6",
   "metadata": {},
   "outputs": [],
   "source": [
    "bestk = 6"
   ]
  },
  {
   "cell_type": "markdown",
   "id": "0cf3da6e",
   "metadata": {},
   "source": [
    "### Model 2 \n",
    "We will build model 2 with data scaled using MinMax Scaler "
   ]
  },
  {
   "cell_type": "code",
   "execution_count": 28,
   "id": "9d52ccd5",
   "metadata": {},
   "outputs": [],
   "source": [
    "# build model with best k \n",
    "m2 = neighbors.KNeighborsClassifier(n_neighbors=bestK).fit(trainx_mm,trainy_mm)"
   ]
  },
  {
   "cell_type": "code",
   "execution_count": 29,
   "id": "d5be974b",
   "metadata": {},
   "outputs": [],
   "source": [
    "# prediction\n",
    "p2 = m2.predict(testx_mm)"
   ]
  },
  {
   "cell_type": "code",
   "execution_count": 30,
   "id": "75e1702d",
   "metadata": {},
   "outputs": [
    {
     "name": "stdout",
     "output_type": "stream",
     "text": [
      "predicted   0   1   2   3\n",
      "actual                   \n",
      "0          85  19   1   0\n",
      "1          27  37  20   2\n",
      "2           3  34  55  10\n",
      "3           0   1  32  74\n",
      "\n",
      "\n",
      "              precision    recall  f1-score   support\n",
      "\n",
      "           0       0.74      0.81      0.77       105\n",
      "           1       0.41      0.43      0.42        86\n",
      "           2       0.51      0.54      0.52       102\n",
      "           3       0.86      0.69      0.77       107\n",
      "\n",
      "    accuracy                           0.63       400\n",
      "   macro avg       0.63      0.62      0.62       400\n",
      "weighted avg       0.64      0.63      0.63       400\n",
      "\n"
     ]
    }
   ],
   "source": [
    "cm(testy_mm,p2)"
   ]
  },
  {
   "cell_type": "markdown",
   "id": "f6dc6a61",
   "metadata": {},
   "source": [
    "* This model gives slightly better overall accuracy 63%"
   ]
  }
 ],
 "metadata": {
  "kernelspec": {
   "display_name": "Python 3",
   "language": "python",
   "name": "python3"
  },
  "language_info": {
   "codemirror_mode": {
    "name": "ipython",
    "version": 3
   },
   "file_extension": ".py",
   "mimetype": "text/x-python",
   "name": "python",
   "nbconvert_exporter": "python",
   "pygments_lexer": "ipython3",
   "version": "3.8.8"
  }
 },
 "nbformat": 4,
 "nbformat_minor": 5
}
